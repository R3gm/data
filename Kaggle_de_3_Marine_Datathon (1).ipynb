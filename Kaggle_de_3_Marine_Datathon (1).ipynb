{
  "nbformat": 4,
  "nbformat_minor": 0,
  "metadata": {
    "colab": {
      "provenance": [],
      "collapsed_sections": []
    },
    "kernelspec": {
      "name": "python3",
      "display_name": "Python 3"
    },
    "language_info": {
      "name": "python"
    }
  },
  "cells": [
    {
      "cell_type": "markdown",
      "source": [
        "# datos nuevos"
      ],
      "metadata": {
        "id": "Q77aYo8k5P8b"
      }
    },
    {
      "cell_type": "code",
      "source": [
        "!wget = 'https://storage.googleapis.com/datathon2022/labels_dataset1_v2.csv'"
      ],
      "metadata": {
        "colab": {
          "base_uri": "https://localhost:8080/"
        },
        "id": "EbUDO6ys8CRi",
        "outputId": "71d1250c-e3d5-4735-d789-b52ff1de225b"
      },
      "execution_count": null,
      "outputs": [
        {
          "output_type": "stream",
          "name": "stdout",
          "text": [
            "--2022-10-22 23:23:40--  http://=/\n",
            "Resolving = (=)... failed: Name or service not known.\n",
            "wget: unable to resolve host address ‘=’\n",
            "--2022-10-22 23:23:40--  https://storage.googleapis.com/datathon2022/labels_dataset1_v2.csv\n",
            "Resolving storage.googleapis.com (storage.googleapis.com)... 108.177.127.128, 172.217.218.128, 142.250.153.128, ...\n",
            "Connecting to storage.googleapis.com (storage.googleapis.com)|108.177.127.128|:443... connected.\n",
            "HTTP request sent, awaiting response... 200 OK\n",
            "Length: 482891 (472K) [text/csv]\n",
            "Saving to: ‘labels_dataset1_v2.csv’\n",
            "\n",
            "\rlabels_dataset1_v2.   0%[                    ]       0  --.-KB/s               \rlabels_dataset1_v2. 100%[===================>] 471.57K  --.-KB/s    in 0.004s  \n",
            "\n",
            "2022-10-22 23:23:40 (113 MB/s) - ‘labels_dataset1_v2.csv’ saved [482891/482891]\n",
            "\n",
            "FINISHED --2022-10-22 23:23:40--\n",
            "Total wall clock time: 0.1s\n",
            "Downloaded: 1 files, 472K in 0.004s (113 MB/s)\n"
          ]
        }
      ]
    },
    {
      "cell_type": "code",
      "source": [
        "import pandas as pd\n",
        "df = pd.read_csv('labels_dataset1_v2.csv')\n",
        "df.shape"
      ],
      "metadata": {
        "colab": {
          "base_uri": "https://localhost:8080/"
        },
        "id": "o4pH6BEa5eQ8",
        "outputId": "bfe51059-800a-474d-81a8-2bd44aff2655"
      },
      "execution_count": null,
      "outputs": [
        {
          "output_type": "execute_result",
          "data": {
            "text/plain": [
              "(5459, 5)"
            ]
          },
          "metadata": {},
          "execution_count": 3
        }
      ]
    },
    {
      "cell_type": "markdown",
      "source": [
        "# otros datos"
      ],
      "metadata": {
        "id": "Liu_lprC9XjD"
      }
    },
    {
      "cell_type": "code",
      "source": [
        "!wget 'https://storage.googleapis.com/datathon2022/dataset1_all_ogg.zip'"
      ],
      "metadata": {
        "colab": {
          "base_uri": "https://localhost:8080/"
        },
        "id": "V49InGdzTsBK",
        "outputId": "94c690fd-0bce-4f57-bdbb-4d3155e6f27c"
      },
      "execution_count": null,
      "outputs": [
        {
          "output_type": "stream",
          "name": "stdout",
          "text": [
            "--2022-10-22 23:23:41--  https://storage.googleapis.com/datathon2022/dataset1_all_ogg.zip\n",
            "Resolving storage.googleapis.com (storage.googleapis.com)... 108.177.127.128, 172.217.218.128, 142.250.153.128, ...\n",
            "Connecting to storage.googleapis.com (storage.googleapis.com)|108.177.127.128|:443... connected.\n",
            "HTTP request sent, awaiting response... 200 OK\n",
            "Length: 3062626606 (2.9G) [application/zip]\n",
            "Saving to: ‘dataset1_all_ogg.zip’\n",
            "\n",
            "dataset1_all_ogg.zi 100%[===================>]   2.85G   247MB/s    in 12s     \n",
            "\n",
            "2022-10-22 23:23:54 (235 MB/s) - ‘dataset1_all_ogg.zip’ saved [3062626606/3062626606]\n",
            "\n"
          ]
        }
      ]
    },
    {
      "cell_type": "code",
      "source": [
        "import zipfile\n",
        "\n",
        "# Unzip the dataset\n",
        "local_zip = 'dataset1_all_ogg.zip'\n",
        "zip_ref = zipfile.ZipFile(local_zip, 'r')\n",
        "zip_ref.extractall('./')\n",
        "zip_ref.close()"
      ],
      "metadata": {
        "id": "Lp-nTMu6cAex"
      },
      "execution_count": null,
      "outputs": []
    },
    {
      "cell_type": "code",
      "source": [
        "import matplotlib.pyplot as plt\n",
        "%matplotlib inline"
      ],
      "metadata": {
        "id": "2jUHgF-Mcabf"
      },
      "execution_count": null,
      "outputs": []
    },
    {
      "cell_type": "code",
      "source": [
        "file_name='datathon2022/dataset1/8937ed458beb41a5116dbd1857ff5d81.ogg'"
      ],
      "metadata": {
        "id": "fIrV0nscSKYz"
      },
      "execution_count": null,
      "outputs": []
    },
    {
      "cell_type": "code",
      "source": [
        "import IPython.display as ipd\n",
        "import librosa\n",
        "import librosa.display"
      ],
      "metadata": {
        "id": "L2b7RGa_StLl"
      },
      "execution_count": null,
      "outputs": []
    },
    {
      "cell_type": "code",
      "source": [
        "plt.figure(figsize=(14,5))\n",
        "data, sample_rate = librosa.load(file_name, sr=None) # al pasar el audio lo convierte en mono y normaliza wave default sr=22050\n",
        "#librosa.display.waveplot(data, sr=sample_rate)\n",
        "#ipd.Audio(file_name)"
      ],
      "metadata": {
        "colab": {
          "base_uri": "https://localhost:8080/",
          "height": 217
        },
        "id": "RQT8GSrkSpQZ",
        "outputId": "dd731660-1dde-46fa-bd4c-77956ad6a9c9"
      },
      "execution_count": 1,
      "outputs": [
        {
          "output_type": "error",
          "ename": "NameError",
          "evalue": "ignored",
          "traceback": [
            "\u001b[0;31m---------------------------------------------------------------------------\u001b[0m",
            "\u001b[0;31mNameError\u001b[0m                                 Traceback (most recent call last)",
            "\u001b[0;32m<ipython-input-1-5093f20dd0c3>\u001b[0m in \u001b[0;36m<module>\u001b[0;34m\u001b[0m\n\u001b[0;32m----> 1\u001b[0;31m \u001b[0mplt\u001b[0m\u001b[0;34m.\u001b[0m\u001b[0mfigure\u001b[0m\u001b[0;34m(\u001b[0m\u001b[0mfigsize\u001b[0m\u001b[0;34m=\u001b[0m\u001b[0;34m(\u001b[0m\u001b[0;36m14\u001b[0m\u001b[0;34m,\u001b[0m\u001b[0;36m5\u001b[0m\u001b[0;34m)\u001b[0m\u001b[0;34m)\u001b[0m\u001b[0;34m\u001b[0m\u001b[0;34m\u001b[0m\u001b[0m\n\u001b[0m\u001b[1;32m      2\u001b[0m \u001b[0mdata\u001b[0m\u001b[0;34m,\u001b[0m \u001b[0msample_rate\u001b[0m \u001b[0;34m=\u001b[0m \u001b[0mlibrosa\u001b[0m\u001b[0;34m.\u001b[0m\u001b[0mload\u001b[0m\u001b[0;34m(\u001b[0m\u001b[0mfile_name\u001b[0m\u001b[0;34m,\u001b[0m \u001b[0msr\u001b[0m\u001b[0;34m=\u001b[0m\u001b[0;32mNone\u001b[0m\u001b[0;34m)\u001b[0m \u001b[0;31m# al pasar el audio lo convierte en mono y normaliza wave default sr=22050\u001b[0m\u001b[0;34m\u001b[0m\u001b[0;34m\u001b[0m\u001b[0m\n\u001b[1;32m      3\u001b[0m \u001b[0;31m#librosa.display.waveplot(data, sr=sample_rate)\u001b[0m\u001b[0;34m\u001b[0m\u001b[0;34m\u001b[0m\u001b[0;34m\u001b[0m\u001b[0m\n\u001b[1;32m      4\u001b[0m \u001b[0;31m#ipd.Audio(file_name)\u001b[0m\u001b[0;34m\u001b[0m\u001b[0;34m\u001b[0m\u001b[0;34m\u001b[0m\u001b[0m\n",
            "\u001b[0;31mNameError\u001b[0m: name 'plt' is not defined"
          ]
        }
      ]
    },
    {
      "cell_type": "code",
      "source": [
        "# hertz, librosa convierte el audio a 22k predeterminadamente\n",
        "sample_rate"
      ],
      "metadata": {
        "colab": {
          "base_uri": "https://localhost:8080/"
        },
        "id": "mCzNPwWQTc5P",
        "outputId": "8f9a166b-3788-4f7d-baff-70df27a66655"
      },
      "execution_count": null,
      "outputs": [
        {
          "output_type": "execute_result",
          "data": {
            "text/plain": [
              "50000"
            ]
          },
          "metadata": {},
          "execution_count": 10
        }
      ]
    },
    {
      "cell_type": "code",
      "source": [
        "# wave normalizado en 1 y -1 autom'aticamente por librosa\n",
        "data"
      ],
      "metadata": {
        "colab": {
          "base_uri": "https://localhost:8080/"
        },
        "id": "AFSugi5qUSwg",
        "outputId": "bf09e2d1-e1d9-4aed-cc53-8a29a3f25de0"
      },
      "execution_count": null,
      "outputs": [
        {
          "output_type": "execute_result",
          "data": {
            "text/plain": [
              "array([-4.3278265e-05,  5.9518225e-05,  1.4067440e-04, ...,\n",
              "       -1.5423124e-04, -3.4798993e-04, -6.9866574e-04], dtype=float32)"
            ]
          },
          "metadata": {},
          "execution_count": 11
        }
      ]
    },
    {
      "cell_type": "markdown",
      "source": [
        "# MFCC \n",
        "ver MEL y variantes de MFCC"
      ],
      "metadata": {
        "id": "gbkNykvKklw3"
      }
    },
    {
      "cell_type": "code",
      "source": [
        "mfccs = librosa.feature.mfcc(y=data, sr=sample_rate, n_mfcc = 40)\n",
        "mfccs.shape"
      ],
      "metadata": {
        "colab": {
          "base_uri": "https://localhost:8080/"
        },
        "id": "S0CpKA4Dawva",
        "outputId": "647fa27b-264d-4750-fba0-ea7a3ba941d3"
      },
      "execution_count": null,
      "outputs": [
        {
          "output_type": "execute_result",
          "data": {
            "text/plain": [
              "(40, 28711)"
            ]
          },
          "metadata": {},
          "execution_count": 12
        }
      ]
    },
    {
      "cell_type": "code",
      "source": [
        "import os\n",
        "\n",
        "audio_dataset = 'datathon2022/dataset1'\n",
        "metadata = pd.read_csv('labels_dataset1_v2.csv')\n",
        "metadata.head()"
      ],
      "metadata": {
        "colab": {
          "base_uri": "https://localhost:8080/",
          "height": 206
        },
        "id": "XwfqZS1llF4L",
        "outputId": "56186f4b-73a5-4497-db9a-9a961f442cdd"
      },
      "execution_count": null,
      "outputs": [
        {
          "output_type": "execute_result",
          "data": {
            "text/plain": [
              "                               path    start  duration      end  \\\n",
              "0  012213d40662f86e8f775379bbf94dec   61.186     2.500   63.686   \n",
              "1  0159af9f3ca04ada46f0c353ac210bb8   76.260    17.000   93.260   \n",
              "2  0159af9f3ca04ada46f0c353ac210bb8  161.482     1.000  162.482   \n",
              "3  0271a0818427d7fae7afde67bf49ba30   91.563     1.000   92.563   \n",
              "4  0271a0818427d7fae7afde67bf49ba30  125.627     1.316  126.943   \n",
              "\n",
              "               label  \n",
              "0            whistle  \n",
              "1  cetaceans_allfreq  \n",
              "2              click  \n",
              "3              click  \n",
              "4              click  "
            ],
            "text/html": [
              "\n",
              "  <div id=\"df-f876e3b0-ef8e-40c1-a980-8165eed58fea\">\n",
              "    <div class=\"colab-df-container\">\n",
              "      <div>\n",
              "<style scoped>\n",
              "    .dataframe tbody tr th:only-of-type {\n",
              "        vertical-align: middle;\n",
              "    }\n",
              "\n",
              "    .dataframe tbody tr th {\n",
              "        vertical-align: top;\n",
              "    }\n",
              "\n",
              "    .dataframe thead th {\n",
              "        text-align: right;\n",
              "    }\n",
              "</style>\n",
              "<table border=\"1\" class=\"dataframe\">\n",
              "  <thead>\n",
              "    <tr style=\"text-align: right;\">\n",
              "      <th></th>\n",
              "      <th>path</th>\n",
              "      <th>start</th>\n",
              "      <th>duration</th>\n",
              "      <th>end</th>\n",
              "      <th>label</th>\n",
              "    </tr>\n",
              "  </thead>\n",
              "  <tbody>\n",
              "    <tr>\n",
              "      <th>0</th>\n",
              "      <td>012213d40662f86e8f775379bbf94dec</td>\n",
              "      <td>61.186</td>\n",
              "      <td>2.500</td>\n",
              "      <td>63.686</td>\n",
              "      <td>whistle</td>\n",
              "    </tr>\n",
              "    <tr>\n",
              "      <th>1</th>\n",
              "      <td>0159af9f3ca04ada46f0c353ac210bb8</td>\n",
              "      <td>76.260</td>\n",
              "      <td>17.000</td>\n",
              "      <td>93.260</td>\n",
              "      <td>cetaceans_allfreq</td>\n",
              "    </tr>\n",
              "    <tr>\n",
              "      <th>2</th>\n",
              "      <td>0159af9f3ca04ada46f0c353ac210bb8</td>\n",
              "      <td>161.482</td>\n",
              "      <td>1.000</td>\n",
              "      <td>162.482</td>\n",
              "      <td>click</td>\n",
              "    </tr>\n",
              "    <tr>\n",
              "      <th>3</th>\n",
              "      <td>0271a0818427d7fae7afde67bf49ba30</td>\n",
              "      <td>91.563</td>\n",
              "      <td>1.000</td>\n",
              "      <td>92.563</td>\n",
              "      <td>click</td>\n",
              "    </tr>\n",
              "    <tr>\n",
              "      <th>4</th>\n",
              "      <td>0271a0818427d7fae7afde67bf49ba30</td>\n",
              "      <td>125.627</td>\n",
              "      <td>1.316</td>\n",
              "      <td>126.943</td>\n",
              "      <td>click</td>\n",
              "    </tr>\n",
              "  </tbody>\n",
              "</table>\n",
              "</div>\n",
              "      <button class=\"colab-df-convert\" onclick=\"convertToInteractive('df-f876e3b0-ef8e-40c1-a980-8165eed58fea')\"\n",
              "              title=\"Convert this dataframe to an interactive table.\"\n",
              "              style=\"display:none;\">\n",
              "        \n",
              "  <svg xmlns=\"http://www.w3.org/2000/svg\" height=\"24px\"viewBox=\"0 0 24 24\"\n",
              "       width=\"24px\">\n",
              "    <path d=\"M0 0h24v24H0V0z\" fill=\"none\"/>\n",
              "    <path d=\"M18.56 5.44l.94 2.06.94-2.06 2.06-.94-2.06-.94-.94-2.06-.94 2.06-2.06.94zm-11 1L8.5 8.5l.94-2.06 2.06-.94-2.06-.94L8.5 2.5l-.94 2.06-2.06.94zm10 10l.94 2.06.94-2.06 2.06-.94-2.06-.94-.94-2.06-.94 2.06-2.06.94z\"/><path d=\"M17.41 7.96l-1.37-1.37c-.4-.4-.92-.59-1.43-.59-.52 0-1.04.2-1.43.59L10.3 9.45l-7.72 7.72c-.78.78-.78 2.05 0 2.83L4 21.41c.39.39.9.59 1.41.59.51 0 1.02-.2 1.41-.59l7.78-7.78 2.81-2.81c.8-.78.8-2.07 0-2.86zM5.41 20L4 18.59l7.72-7.72 1.47 1.35L5.41 20z\"/>\n",
              "  </svg>\n",
              "      </button>\n",
              "      \n",
              "  <style>\n",
              "    .colab-df-container {\n",
              "      display:flex;\n",
              "      flex-wrap:wrap;\n",
              "      gap: 12px;\n",
              "    }\n",
              "\n",
              "    .colab-df-convert {\n",
              "      background-color: #E8F0FE;\n",
              "      border: none;\n",
              "      border-radius: 50%;\n",
              "      cursor: pointer;\n",
              "      display: none;\n",
              "      fill: #1967D2;\n",
              "      height: 32px;\n",
              "      padding: 0 0 0 0;\n",
              "      width: 32px;\n",
              "    }\n",
              "\n",
              "    .colab-df-convert:hover {\n",
              "      background-color: #E2EBFA;\n",
              "      box-shadow: 0px 1px 2px rgba(60, 64, 67, 0.3), 0px 1px 3px 1px rgba(60, 64, 67, 0.15);\n",
              "      fill: #174EA6;\n",
              "    }\n",
              "\n",
              "    [theme=dark] .colab-df-convert {\n",
              "      background-color: #3B4455;\n",
              "      fill: #D2E3FC;\n",
              "    }\n",
              "\n",
              "    [theme=dark] .colab-df-convert:hover {\n",
              "      background-color: #434B5C;\n",
              "      box-shadow: 0px 1px 3px 1px rgba(0, 0, 0, 0.15);\n",
              "      filter: drop-shadow(0px 1px 2px rgba(0, 0, 0, 0.3));\n",
              "      fill: #FFFFFF;\n",
              "    }\n",
              "  </style>\n",
              "\n",
              "      <script>\n",
              "        const buttonEl =\n",
              "          document.querySelector('#df-f876e3b0-ef8e-40c1-a980-8165eed58fea button.colab-df-convert');\n",
              "        buttonEl.style.display =\n",
              "          google.colab.kernel.accessAllowed ? 'block' : 'none';\n",
              "\n",
              "        async function convertToInteractive(key) {\n",
              "          const element = document.querySelector('#df-f876e3b0-ef8e-40c1-a980-8165eed58fea');\n",
              "          const dataTable =\n",
              "            await google.colab.kernel.invokeFunction('convertToInteractive',\n",
              "                                                     [key], {});\n",
              "          if (!dataTable) return;\n",
              "\n",
              "          const docLinkHtml = 'Like what you see? Visit the ' +\n",
              "            '<a target=\"_blank\" href=https://colab.research.google.com/notebooks/data_table.ipynb>data table notebook</a>'\n",
              "            + ' to learn more about interactive tables.';\n",
              "          element.innerHTML = '';\n",
              "          dataTable['output_type'] = 'display_data';\n",
              "          await google.colab.output.renderOutput(dataTable, element);\n",
              "          const docLink = document.createElement('div');\n",
              "          docLink.innerHTML = docLinkHtml;\n",
              "          element.appendChild(docLink);\n",
              "        }\n",
              "      </script>\n",
              "    </div>\n",
              "  </div>\n",
              "  "
            ]
          },
          "metadata": {},
          "execution_count": 13
        }
      ]
    },
    {
      "cell_type": "code",
      "source": [
        "metadata['label'].value_counts()"
      ],
      "metadata": {
        "colab": {
          "base_uri": "https://localhost:8080/"
        },
        "id": "SPlcXwMRZ1vK",
        "outputId": "165109da-65a5-4e73-f546-ec1abf3cb37e"
      },
      "execution_count": null,
      "outputs": [
        {
          "output_type": "execute_result",
          "data": {
            "text/plain": [
              "whistle              2879\n",
              "click                2077\n",
              "cetaceans_allfreq     476\n",
              "allfreq                23\n",
              "volcano                 4\n",
              "Name: label, dtype: int64"
            ]
          },
          "metadata": {},
          "execution_count": 14
        }
      ]
    },
    {
      "cell_type": "code",
      "source": [
        "import numpy as np"
      ],
      "metadata": {
        "id": "yLVRo_qZrR9_"
      },
      "execution_count": null,
      "outputs": []
    },
    {
      "cell_type": "code",
      "source": [
        "audio, sample_rate = librosa.load(file_name, res_type='kaiser_fast') \n",
        "mfccs_features = librosa.feature.mfcc(y=audio, sr=sample_rate, n_mfcc=40)\n",
        "mfccs_scaled_features = np.mean(mfccs_features.T,axis=0)\n",
        "mfccs_scaled_features"
      ],
      "metadata": {
        "colab": {
          "base_uri": "https://localhost:8080/"
        },
        "id": "-Xa_oR1uq-jW",
        "outputId": "08aa52e7-90a2-405d-af09-8ddcfbd3ad4d"
      },
      "execution_count": null,
      "outputs": [
        {
          "output_type": "execute_result",
          "data": {
            "text/plain": [
              "array([-6.1240131e+02,  6.2713078e+01,  1.2299292e+01,  1.4206262e+01,\n",
              "        1.1232679e+01,  1.9311844e+01,  9.0929747e+00,  1.6953232e+01,\n",
              "        9.1427523e-01,  1.5756428e+01, -1.4595189e+00,  1.7494476e+01,\n",
              "        2.0122115e-01,  1.5999109e+01, -7.1178395e-01,  1.1250869e+01,\n",
              "        4.8802072e-01,  8.3463602e+00,  3.3223779e+00,  4.3708754e+00,\n",
              "        4.7990127e+00,  1.3982619e+00,  6.5874515e+00, -3.7823692e-01,\n",
              "        6.7530923e+00, -1.2135158e+00,  5.6622930e+00, -1.2942307e+00,\n",
              "        3.7180026e+00, -4.0419477e-01,  1.9675505e+00,  9.2695165e-01,\n",
              "        2.9107392e-01,  1.7032784e+00, -9.3694806e-01,  2.1256697e+00,\n",
              "       -1.0193832e+00,  2.3545506e+00, -3.7787488e-01,  1.8697883e+00],\n",
              "      dtype=float32)"
            ]
          },
          "metadata": {},
          "execution_count": 16
        }
      ]
    },
    {
      "cell_type": "code",
      "source": [
        "metadata.loc[42]"
      ],
      "metadata": {
        "colab": {
          "base_uri": "https://localhost:8080/"
        },
        "id": "fFSAeMzNPn_2",
        "outputId": "33c81529-92eb-4eac-ee09-2c291ffbbd4a"
      },
      "execution_count": null,
      "outputs": [
        {
          "output_type": "execute_result",
          "data": {
            "text/plain": [
              "path        035195366b6849c1b339cff8e6de574a\n",
              "start                                101.438\n",
              "duration                                 1.2\n",
              "end                                  102.638\n",
              "label                                whistle\n",
              "Name: 42, dtype: object"
            ]
          },
          "metadata": {},
          "execution_count": 17
        }
      ]
    },
    {
      "cell_type": "code",
      "source": [
        "metadata.loc[42]['end']"
      ],
      "metadata": {
        "colab": {
          "base_uri": "https://localhost:8080/"
        },
        "id": "EQKh2JsVZnZ0",
        "outputId": "b0bb5849-3e99-40d7-b04c-9acf88d004ee"
      },
      "execution_count": null,
      "outputs": [
        {
          "output_type": "execute_result",
          "data": {
            "text/plain": [
              "102.63799999999992"
            ]
          },
          "metadata": {},
          "execution_count": 18
        }
      ]
    },
    {
      "cell_type": "code",
      "source": [
        "metadata.shape"
      ],
      "metadata": {
        "colab": {
          "base_uri": "https://localhost:8080/"
        },
        "id": "eTwMu-HH_XZ8",
        "outputId": "c6a87a97-7be3-46df-a89a-92e52b0148f3"
      },
      "execution_count": null,
      "outputs": [
        {
          "output_type": "execute_result",
          "data": {
            "text/plain": [
              "(5459, 5)"
            ]
          },
          "metadata": {},
          "execution_count": 19
        }
      ]
    },
    {
      "cell_type": "markdown",
      "source": [
        "# ejecutar"
      ],
      "metadata": {
        "id": "R69_NewkW7dc"
      }
    },
    {
      "cell_type": "code",
      "source": [
        "def features_extractor(file):\n",
        "  global audio\n",
        "  global sample_rate\n",
        "  if all(audio) != all(audio) or 1==1:\n",
        "    audio, sample_rate = librosa.load(file_name, res_type='kaiser_fast')\n",
        "    start = int(str(round(row[\"start\"],3)).replace('.',''))\n",
        "    end =  int(str(round(row[\"end\"],3)).replace('.',''))\n",
        "    if end == 2940:\n",
        "      end = 293944\n",
        "    print (start)\n",
        "    print(end)\n",
        "    audio_trim, _ = librosa.effects.trim(audio[start:end])\n",
        "    mfccs_features = librosa.feature.mfcc(y=audio_trim, sr=sample_rate, n_mfcc=40)\n",
        "    mfccs_scaled_features = np.mean(mfccs_features.T,axis=0)\n",
        "    return mfccs_scaled_features\n",
        "  else:\n",
        "    start = int(str(round(row[\"start\"],3)).replace('.',''))\n",
        "    end =  int(str(round(row[\"end\"],3)).replace('.',''))\n",
        "    if end == 2940:\n",
        "      end = 293944\n",
        "    print (start)\n",
        "    print(end)\n",
        "    audio_trim, _ = librosa.effects.trim(audio[start:end])\n",
        "    mfccs_features = librosa.feature.mfcc(y=audio_trim, sr=sample_rate, n_mfcc=40)\n",
        "    mfccs_scaled_features = np.mean(mfccs_features.T,axis=0)\n",
        "    return mfccs_scaled_features"
      ],
      "metadata": {
        "id": "WhszW6_tFDT_"
      },
      "execution_count": null,
      "outputs": []
    },
    {
      "cell_type": "code",
      "source": [
        "import numpy as np\n",
        "from tqdm import tqdm # progress meters in iterations\n",
        "### Now we iterate through every audio file and extract features \n",
        "### using Mel-Frequency Cepstral Coefficients\n",
        "extracted_features=[]\n",
        "for index_num,row in tqdm(metadata.iterrows()):\n",
        "    file_name = os.path.join(os.path.abspath(audio_dataset),str(row[\"path\"])+str('.ogg'))\n",
        "    final_class_labels=row[\"label\"]\n",
        "    data=features_extractor(file_name)\n",
        "    extracted_features.append([data,final_class_labels])"
      ],
      "metadata": {
        "colab": {
          "base_uri": "https://localhost:8080/",
          "height": 554
        },
        "id": "uIbI__s1rgvm",
        "outputId": "916ba423-6970-4878-80bd-876f7681833f"
      },
      "execution_count": null,
      "outputs": [
        {
          "output_type": "stream",
          "name": "stderr",
          "text": [
            "1it [00:03,  3.50s/it]"
          ]
        },
        {
          "output_type": "stream",
          "name": "stdout",
          "text": [
            "61186\n",
            "63686\n"
          ]
        },
        {
          "output_type": "stream",
          "name": "stderr",
          "text": [
            "\r2it [00:08,  4.59s/it]"
          ]
        },
        {
          "output_type": "stream",
          "name": "stdout",
          "text": [
            "7626\n",
            "9326\n"
          ]
        },
        {
          "output_type": "stream",
          "name": "stderr",
          "text": [
            "\r3it [00:12,  4.10s/it]"
          ]
        },
        {
          "output_type": "stream",
          "name": "stdout",
          "text": [
            "161482\n",
            "162482\n"
          ]
        },
        {
          "output_type": "stream",
          "name": "stderr",
          "text": [
            "\r4it [00:15,  3.87s/it]"
          ]
        },
        {
          "output_type": "stream",
          "name": "stdout",
          "text": [
            "91563\n",
            "92563\n"
          ]
        },
        {
          "output_type": "stream",
          "name": "stderr",
          "text": [
            "\r5it [00:19,  3.72s/it]"
          ]
        },
        {
          "output_type": "stream",
          "name": "stdout",
          "text": [
            "125627\n",
            "126943\n"
          ]
        },
        {
          "output_type": "stream",
          "name": "stderr",
          "text": [
            "\r6it [00:22,  3.64s/it]"
          ]
        },
        {
          "output_type": "stream",
          "name": "stdout",
          "text": [
            "135325\n",
            "136325\n"
          ]
        },
        {
          "output_type": "stream",
          "name": "stderr",
          "text": [
            "\r6it [00:26,  4.38s/it]\n"
          ]
        },
        {
          "output_type": "error",
          "ename": "KeyboardInterrupt",
          "evalue": "ignored",
          "traceback": [
            "\u001b[0;31m---------------------------------------------------------------------------\u001b[0m",
            "\u001b[0;31mKeyboardInterrupt\u001b[0m                         Traceback (most recent call last)",
            "\u001b[0;32m<ipython-input-22-7a2e7612df11>\u001b[0m in \u001b[0;36m<module>\u001b[0;34m\u001b[0m\n\u001b[1;32m      7\u001b[0m     \u001b[0mfile_name\u001b[0m \u001b[0;34m=\u001b[0m \u001b[0mos\u001b[0m\u001b[0;34m.\u001b[0m\u001b[0mpath\u001b[0m\u001b[0;34m.\u001b[0m\u001b[0mjoin\u001b[0m\u001b[0;34m(\u001b[0m\u001b[0mos\u001b[0m\u001b[0;34m.\u001b[0m\u001b[0mpath\u001b[0m\u001b[0;34m.\u001b[0m\u001b[0mabspath\u001b[0m\u001b[0;34m(\u001b[0m\u001b[0maudio_dataset\u001b[0m\u001b[0;34m)\u001b[0m\u001b[0;34m,\u001b[0m\u001b[0mstr\u001b[0m\u001b[0;34m(\u001b[0m\u001b[0mrow\u001b[0m\u001b[0;34m[\u001b[0m\u001b[0;34m\"path\"\u001b[0m\u001b[0;34m]\u001b[0m\u001b[0;34m)\u001b[0m\u001b[0;34m+\u001b[0m\u001b[0mstr\u001b[0m\u001b[0;34m(\u001b[0m\u001b[0;34m'.ogg'\u001b[0m\u001b[0;34m)\u001b[0m\u001b[0;34m)\u001b[0m\u001b[0;34m\u001b[0m\u001b[0;34m\u001b[0m\u001b[0m\n\u001b[1;32m      8\u001b[0m     \u001b[0mfinal_class_labels\u001b[0m\u001b[0;34m=\u001b[0m\u001b[0mrow\u001b[0m\u001b[0;34m[\u001b[0m\u001b[0;34m\"label\"\u001b[0m\u001b[0;34m]\u001b[0m\u001b[0;34m\u001b[0m\u001b[0;34m\u001b[0m\u001b[0m\n\u001b[0;32m----> 9\u001b[0;31m     \u001b[0mdata\u001b[0m\u001b[0;34m=\u001b[0m\u001b[0mfeatures_extractor\u001b[0m\u001b[0;34m(\u001b[0m\u001b[0mfile_name\u001b[0m\u001b[0;34m)\u001b[0m\u001b[0;34m\u001b[0m\u001b[0;34m\u001b[0m\u001b[0m\n\u001b[0m\u001b[1;32m     10\u001b[0m     \u001b[0mextracted_features\u001b[0m\u001b[0;34m.\u001b[0m\u001b[0mappend\u001b[0m\u001b[0;34m(\u001b[0m\u001b[0;34m[\u001b[0m\u001b[0mdata\u001b[0m\u001b[0;34m,\u001b[0m\u001b[0mfinal_class_labels\u001b[0m\u001b[0;34m]\u001b[0m\u001b[0;34m)\u001b[0m\u001b[0;34m\u001b[0m\u001b[0;34m\u001b[0m\u001b[0m\n",
            "\u001b[0;32m<ipython-input-20-f3591b755fed>\u001b[0m in \u001b[0;36mfeatures_extractor\u001b[0;34m(file)\u001b[0m\n\u001b[1;32m      3\u001b[0m   \u001b[0;32mglobal\u001b[0m \u001b[0msample_rate\u001b[0m\u001b[0;34m\u001b[0m\u001b[0;34m\u001b[0m\u001b[0m\n\u001b[1;32m      4\u001b[0m   \u001b[0;32mif\u001b[0m \u001b[0mall\u001b[0m\u001b[0;34m(\u001b[0m\u001b[0maudio\u001b[0m\u001b[0;34m)\u001b[0m \u001b[0;34m!=\u001b[0m \u001b[0mall\u001b[0m\u001b[0;34m(\u001b[0m\u001b[0maudio\u001b[0m\u001b[0;34m)\u001b[0m \u001b[0;32mor\u001b[0m \u001b[0;36m1\u001b[0m\u001b[0;34m==\u001b[0m\u001b[0;36m1\u001b[0m\u001b[0;34m:\u001b[0m\u001b[0;34m\u001b[0m\u001b[0;34m\u001b[0m\u001b[0m\n\u001b[0;32m----> 5\u001b[0;31m     \u001b[0maudio\u001b[0m\u001b[0;34m,\u001b[0m \u001b[0msample_rate\u001b[0m \u001b[0;34m=\u001b[0m \u001b[0mlibrosa\u001b[0m\u001b[0;34m.\u001b[0m\u001b[0mload\u001b[0m\u001b[0;34m(\u001b[0m\u001b[0mfile_name\u001b[0m\u001b[0;34m,\u001b[0m \u001b[0mres_type\u001b[0m\u001b[0;34m=\u001b[0m\u001b[0;34m'kaiser_fast'\u001b[0m\u001b[0;34m)\u001b[0m\u001b[0;34m\u001b[0m\u001b[0;34m\u001b[0m\u001b[0m\n\u001b[0m\u001b[1;32m      6\u001b[0m     \u001b[0mstart\u001b[0m \u001b[0;34m=\u001b[0m \u001b[0mint\u001b[0m\u001b[0;34m(\u001b[0m\u001b[0mstr\u001b[0m\u001b[0;34m(\u001b[0m\u001b[0mround\u001b[0m\u001b[0;34m(\u001b[0m\u001b[0mrow\u001b[0m\u001b[0;34m[\u001b[0m\u001b[0;34m\"start\"\u001b[0m\u001b[0;34m]\u001b[0m\u001b[0;34m,\u001b[0m\u001b[0;36m3\u001b[0m\u001b[0;34m)\u001b[0m\u001b[0;34m)\u001b[0m\u001b[0;34m.\u001b[0m\u001b[0mreplace\u001b[0m\u001b[0;34m(\u001b[0m\u001b[0;34m'.'\u001b[0m\u001b[0;34m,\u001b[0m\u001b[0;34m''\u001b[0m\u001b[0;34m)\u001b[0m\u001b[0;34m)\u001b[0m\u001b[0;34m\u001b[0m\u001b[0;34m\u001b[0m\u001b[0m\n\u001b[1;32m      7\u001b[0m     \u001b[0mend\u001b[0m \u001b[0;34m=\u001b[0m  \u001b[0mint\u001b[0m\u001b[0;34m(\u001b[0m\u001b[0mstr\u001b[0m\u001b[0;34m(\u001b[0m\u001b[0mround\u001b[0m\u001b[0;34m(\u001b[0m\u001b[0mrow\u001b[0m\u001b[0;34m[\u001b[0m\u001b[0;34m\"end\"\u001b[0m\u001b[0;34m]\u001b[0m\u001b[0;34m,\u001b[0m\u001b[0;36m3\u001b[0m\u001b[0;34m)\u001b[0m\u001b[0;34m)\u001b[0m\u001b[0;34m.\u001b[0m\u001b[0mreplace\u001b[0m\u001b[0;34m(\u001b[0m\u001b[0;34m'.'\u001b[0m\u001b[0;34m,\u001b[0m\u001b[0;34m''\u001b[0m\u001b[0;34m)\u001b[0m\u001b[0;34m)\u001b[0m\u001b[0;34m\u001b[0m\u001b[0;34m\u001b[0m\u001b[0m\n",
            "\u001b[0;32m/usr/local/lib/python3.7/dist-packages/librosa/core/audio.py\u001b[0m in \u001b[0;36mload\u001b[0;34m(path, sr, mono, offset, duration, dtype, res_type)\u001b[0m\n\u001b[1;32m    173\u001b[0m \u001b[0;34m\u001b[0m\u001b[0m\n\u001b[1;32m    174\u001b[0m     \u001b[0;32mif\u001b[0m \u001b[0msr\u001b[0m \u001b[0;32mis\u001b[0m \u001b[0;32mnot\u001b[0m \u001b[0;32mNone\u001b[0m\u001b[0;34m:\u001b[0m\u001b[0;34m\u001b[0m\u001b[0;34m\u001b[0m\u001b[0m\n\u001b[0;32m--> 175\u001b[0;31m         \u001b[0my\u001b[0m \u001b[0;34m=\u001b[0m \u001b[0mresample\u001b[0m\u001b[0;34m(\u001b[0m\u001b[0my\u001b[0m\u001b[0;34m,\u001b[0m \u001b[0msr_native\u001b[0m\u001b[0;34m,\u001b[0m \u001b[0msr\u001b[0m\u001b[0;34m,\u001b[0m \u001b[0mres_type\u001b[0m\u001b[0;34m=\u001b[0m\u001b[0mres_type\u001b[0m\u001b[0;34m)\u001b[0m\u001b[0;34m\u001b[0m\u001b[0;34m\u001b[0m\u001b[0m\n\u001b[0m\u001b[1;32m    176\u001b[0m \u001b[0;34m\u001b[0m\u001b[0m\n\u001b[1;32m    177\u001b[0m     \u001b[0;32melse\u001b[0m\u001b[0;34m:\u001b[0m\u001b[0;34m\u001b[0m\u001b[0;34m\u001b[0m\u001b[0m\n",
            "\u001b[0;32m/usr/local/lib/python3.7/dist-packages/librosa/core/audio.py\u001b[0m in \u001b[0;36mresample\u001b[0;34m(y, orig_sr, target_sr, res_type, fix, scale, **kwargs)\u001b[0m\n\u001b[1;32m    602\u001b[0m         \u001b[0my_hat\u001b[0m \u001b[0;34m=\u001b[0m \u001b[0msoxr\u001b[0m\u001b[0;34m.\u001b[0m\u001b[0mresample\u001b[0m\u001b[0;34m(\u001b[0m\u001b[0my\u001b[0m\u001b[0;34m.\u001b[0m\u001b[0mT\u001b[0m\u001b[0;34m,\u001b[0m \u001b[0morig_sr\u001b[0m\u001b[0;34m,\u001b[0m \u001b[0mtarget_sr\u001b[0m\u001b[0;34m,\u001b[0m \u001b[0mquality\u001b[0m\u001b[0;34m=\u001b[0m\u001b[0mres_type\u001b[0m\u001b[0;34m)\u001b[0m\u001b[0;34m.\u001b[0m\u001b[0mT\u001b[0m\u001b[0;34m\u001b[0m\u001b[0;34m\u001b[0m\u001b[0m\n\u001b[1;32m    603\u001b[0m     \u001b[0;32melse\u001b[0m\u001b[0;34m:\u001b[0m\u001b[0;34m\u001b[0m\u001b[0;34m\u001b[0m\u001b[0m\n\u001b[0;32m--> 604\u001b[0;31m         \u001b[0my_hat\u001b[0m \u001b[0;34m=\u001b[0m \u001b[0mresampy\u001b[0m\u001b[0;34m.\u001b[0m\u001b[0mresample\u001b[0m\u001b[0;34m(\u001b[0m\u001b[0my\u001b[0m\u001b[0;34m,\u001b[0m \u001b[0morig_sr\u001b[0m\u001b[0;34m,\u001b[0m \u001b[0mtarget_sr\u001b[0m\u001b[0;34m,\u001b[0m \u001b[0mfilter\u001b[0m\u001b[0;34m=\u001b[0m\u001b[0mres_type\u001b[0m\u001b[0;34m,\u001b[0m \u001b[0maxis\u001b[0m\u001b[0;34m=\u001b[0m\u001b[0;34m-\u001b[0m\u001b[0;36m1\u001b[0m\u001b[0;34m)\u001b[0m\u001b[0;34m\u001b[0m\u001b[0;34m\u001b[0m\u001b[0m\n\u001b[0m\u001b[1;32m    605\u001b[0m \u001b[0;34m\u001b[0m\u001b[0m\n\u001b[1;32m    606\u001b[0m     \u001b[0;32mif\u001b[0m \u001b[0mfix\u001b[0m\u001b[0;34m:\u001b[0m\u001b[0;34m\u001b[0m\u001b[0;34m\u001b[0m\u001b[0m\n",
            "\u001b[0;32m/usr/local/lib/python3.7/dist-packages/resampy/core.py\u001b[0m in \u001b[0;36mresample\u001b[0;34m(x, sr_orig, sr_new, axis, filter, parallel, **kwargs)\u001b[0m\n\u001b[1;32m    173\u001b[0m             \u001b[0mprecision\u001b[0m\u001b[0;34m,\u001b[0m\u001b[0;34m\u001b[0m\u001b[0;34m\u001b[0m\u001b[0m\n\u001b[1;32m    174\u001b[0m             \u001b[0mscale\u001b[0m\u001b[0;34m,\u001b[0m\u001b[0;34m\u001b[0m\u001b[0;34m\u001b[0m\u001b[0m\n\u001b[0;32m--> 175\u001b[0;31m             \u001b[0my\u001b[0m\u001b[0;34m.\u001b[0m\u001b[0mswapaxes\u001b[0m\u001b[0;34m(\u001b[0m\u001b[0;34m-\u001b[0m\u001b[0;36m1\u001b[0m\u001b[0;34m,\u001b[0m \u001b[0maxis\u001b[0m\u001b[0;34m)\u001b[0m\u001b[0;34m,\u001b[0m\u001b[0;34m\u001b[0m\u001b[0;34m\u001b[0m\u001b[0m\n\u001b[0m\u001b[1;32m    176\u001b[0m         )\n\u001b[1;32m    177\u001b[0m \u001b[0;34m\u001b[0m\u001b[0m\n",
            "\u001b[0;32m/usr/local/lib/python3.7/dist-packages/numba/np/ufunc/gufunc.py\u001b[0m in \u001b[0;36m__call__\u001b[0;34m(self, *args, **kwargs)\u001b[0m\n\u001b[1;32m    190\u001b[0m             \u001b[0mself\u001b[0m\u001b[0;34m.\u001b[0m\u001b[0madd\u001b[0m\u001b[0;34m(\u001b[0m\u001b[0msig\u001b[0m\u001b[0;34m)\u001b[0m\u001b[0;34m\u001b[0m\u001b[0;34m\u001b[0m\u001b[0m\n\u001b[1;32m    191\u001b[0m             \u001b[0mself\u001b[0m\u001b[0;34m.\u001b[0m\u001b[0mbuild_ufunc\u001b[0m\u001b[0;34m(\u001b[0m\u001b[0;34m)\u001b[0m\u001b[0;34m\u001b[0m\u001b[0;34m\u001b[0m\u001b[0m\n\u001b[0;32m--> 192\u001b[0;31m         \u001b[0;32mreturn\u001b[0m \u001b[0mself\u001b[0m\u001b[0;34m.\u001b[0m\u001b[0mufunc\u001b[0m\u001b[0;34m(\u001b[0m\u001b[0;34m*\u001b[0m\u001b[0margs\u001b[0m\u001b[0;34m,\u001b[0m \u001b[0;34m**\u001b[0m\u001b[0mkwargs\u001b[0m\u001b[0;34m)\u001b[0m\u001b[0;34m\u001b[0m\u001b[0;34m\u001b[0m\u001b[0m\n\u001b[0m",
            "\u001b[0;31mKeyboardInterrupt\u001b[0m: "
          ]
        }
      ]
    },
    {
      "cell_type": "code",
      "source": [
        "### converting extracted_features to Pandas dataframe\n",
        "extracted_features_df=pd.DataFrame(extracted_features,columns=['feature','class'])\n",
        "extracted_features_df.head() "
      ],
      "metadata": {
        "colab": {
          "base_uri": "https://localhost:8080/",
          "height": 206
        },
        "id": "hU6WHK-rqIaP",
        "outputId": "3c05aed9-5f50-43c7-c3d0-445f11061bc5"
      },
      "execution_count": null,
      "outputs": [
        {
          "output_type": "execute_result",
          "data": {
            "text/plain": [
              "                                             feature              class\n",
              "0  [-669.2838, 53.59604, 13.355467, 22.64079, 14....            whistle\n",
              "1  [-574.8974, 60.93311, -22.504108, 11.389624, -...  cetaceans_allfreq\n",
              "2  [-568.7135, 62.4645, -17.676495, 17.210007, -0...              click\n",
              "3  [-644.16644, 68.14601, 29.90164, 41.38941, 28....              click\n",
              "4  [-644.51373, 64.669266, 20.134146, 32.405018, ...              click"
            ],
            "text/html": [
              "\n",
              "  <div id=\"df-cee5d71c-fec3-430d-a3ad-d83d5ab72419\">\n",
              "    <div class=\"colab-df-container\">\n",
              "      <div>\n",
              "<style scoped>\n",
              "    .dataframe tbody tr th:only-of-type {\n",
              "        vertical-align: middle;\n",
              "    }\n",
              "\n",
              "    .dataframe tbody tr th {\n",
              "        vertical-align: top;\n",
              "    }\n",
              "\n",
              "    .dataframe thead th {\n",
              "        text-align: right;\n",
              "    }\n",
              "</style>\n",
              "<table border=\"1\" class=\"dataframe\">\n",
              "  <thead>\n",
              "    <tr style=\"text-align: right;\">\n",
              "      <th></th>\n",
              "      <th>feature</th>\n",
              "      <th>class</th>\n",
              "    </tr>\n",
              "  </thead>\n",
              "  <tbody>\n",
              "    <tr>\n",
              "      <th>0</th>\n",
              "      <td>[-669.2838, 53.59604, 13.355467, 22.64079, 14....</td>\n",
              "      <td>whistle</td>\n",
              "    </tr>\n",
              "    <tr>\n",
              "      <th>1</th>\n",
              "      <td>[-574.8974, 60.93311, -22.504108, 11.389624, -...</td>\n",
              "      <td>cetaceans_allfreq</td>\n",
              "    </tr>\n",
              "    <tr>\n",
              "      <th>2</th>\n",
              "      <td>[-568.7135, 62.4645, -17.676495, 17.210007, -0...</td>\n",
              "      <td>click</td>\n",
              "    </tr>\n",
              "    <tr>\n",
              "      <th>3</th>\n",
              "      <td>[-644.16644, 68.14601, 29.90164, 41.38941, 28....</td>\n",
              "      <td>click</td>\n",
              "    </tr>\n",
              "    <tr>\n",
              "      <th>4</th>\n",
              "      <td>[-644.51373, 64.669266, 20.134146, 32.405018, ...</td>\n",
              "      <td>click</td>\n",
              "    </tr>\n",
              "  </tbody>\n",
              "</table>\n",
              "</div>\n",
              "      <button class=\"colab-df-convert\" onclick=\"convertToInteractive('df-cee5d71c-fec3-430d-a3ad-d83d5ab72419')\"\n",
              "              title=\"Convert this dataframe to an interactive table.\"\n",
              "              style=\"display:none;\">\n",
              "        \n",
              "  <svg xmlns=\"http://www.w3.org/2000/svg\" height=\"24px\"viewBox=\"0 0 24 24\"\n",
              "       width=\"24px\">\n",
              "    <path d=\"M0 0h24v24H0V0z\" fill=\"none\"/>\n",
              "    <path d=\"M18.56 5.44l.94 2.06.94-2.06 2.06-.94-2.06-.94-.94-2.06-.94 2.06-2.06.94zm-11 1L8.5 8.5l.94-2.06 2.06-.94-2.06-.94L8.5 2.5l-.94 2.06-2.06.94zm10 10l.94 2.06.94-2.06 2.06-.94-2.06-.94-.94-2.06-.94 2.06-2.06.94z\"/><path d=\"M17.41 7.96l-1.37-1.37c-.4-.4-.92-.59-1.43-.59-.52 0-1.04.2-1.43.59L10.3 9.45l-7.72 7.72c-.78.78-.78 2.05 0 2.83L4 21.41c.39.39.9.59 1.41.59.51 0 1.02-.2 1.41-.59l7.78-7.78 2.81-2.81c.8-.78.8-2.07 0-2.86zM5.41 20L4 18.59l7.72-7.72 1.47 1.35L5.41 20z\"/>\n",
              "  </svg>\n",
              "      </button>\n",
              "      \n",
              "  <style>\n",
              "    .colab-df-container {\n",
              "      display:flex;\n",
              "      flex-wrap:wrap;\n",
              "      gap: 12px;\n",
              "    }\n",
              "\n",
              "    .colab-df-convert {\n",
              "      background-color: #E8F0FE;\n",
              "      border: none;\n",
              "      border-radius: 50%;\n",
              "      cursor: pointer;\n",
              "      display: none;\n",
              "      fill: #1967D2;\n",
              "      height: 32px;\n",
              "      padding: 0 0 0 0;\n",
              "      width: 32px;\n",
              "    }\n",
              "\n",
              "    .colab-df-convert:hover {\n",
              "      background-color: #E2EBFA;\n",
              "      box-shadow: 0px 1px 2px rgba(60, 64, 67, 0.3), 0px 1px 3px 1px rgba(60, 64, 67, 0.15);\n",
              "      fill: #174EA6;\n",
              "    }\n",
              "\n",
              "    [theme=dark] .colab-df-convert {\n",
              "      background-color: #3B4455;\n",
              "      fill: #D2E3FC;\n",
              "    }\n",
              "\n",
              "    [theme=dark] .colab-df-convert:hover {\n",
              "      background-color: #434B5C;\n",
              "      box-shadow: 0px 1px 3px 1px rgba(0, 0, 0, 0.15);\n",
              "      filter: drop-shadow(0px 1px 2px rgba(0, 0, 0, 0.3));\n",
              "      fill: #FFFFFF;\n",
              "    }\n",
              "  </style>\n",
              "\n",
              "      <script>\n",
              "        const buttonEl =\n",
              "          document.querySelector('#df-cee5d71c-fec3-430d-a3ad-d83d5ab72419 button.colab-df-convert');\n",
              "        buttonEl.style.display =\n",
              "          google.colab.kernel.accessAllowed ? 'block' : 'none';\n",
              "\n",
              "        async function convertToInteractive(key) {\n",
              "          const element = document.querySelector('#df-cee5d71c-fec3-430d-a3ad-d83d5ab72419');\n",
              "          const dataTable =\n",
              "            await google.colab.kernel.invokeFunction('convertToInteractive',\n",
              "                                                     [key], {});\n",
              "          if (!dataTable) return;\n",
              "\n",
              "          const docLinkHtml = 'Like what you see? Visit the ' +\n",
              "            '<a target=\"_blank\" href=https://colab.research.google.com/notebooks/data_table.ipynb>data table notebook</a>'\n",
              "            + ' to learn more about interactive tables.';\n",
              "          element.innerHTML = '';\n",
              "          dataTable['output_type'] = 'display_data';\n",
              "          await google.colab.output.renderOutput(dataTable, element);\n",
              "          const docLink = document.createElement('div');\n",
              "          docLink.innerHTML = docLinkHtml;\n",
              "          element.appendChild(docLink);\n",
              "        }\n",
              "      </script>\n",
              "    </div>\n",
              "  </div>\n",
              "  "
            ]
          },
          "metadata": {},
          "execution_count": 23
        }
      ]
    },
    {
      "cell_type": "code",
      "source": [
        "## datos almacenados\n",
        "np.save('datathon2.npy', extracted_features)\n",
        "extracted_features_df.to_csv('datathon2.csv')"
      ],
      "metadata": {
        "colab": {
          "base_uri": "https://localhost:8080/"
        },
        "id": "Gyuom7_ryuf5",
        "outputId": "613c5f94-0d29-4354-8f0b-9513b64f0170"
      },
      "execution_count": null,
      "outputs": [
        {
          "output_type": "stream",
          "name": "stderr",
          "text": [
            "/usr/local/lib/python3.7/dist-packages/numpy/lib/npyio.py:528: VisibleDeprecationWarning: Creating an ndarray from ragged nested sequences (which is a list-or-tuple of lists-or-tuples-or ndarrays with different lengths or shapes) is deprecated. If you meant to do this, you must specify 'dtype=object' when creating the ndarray.\n",
            "  arr = np.asanyarray(arr)\n"
          ]
        }
      ]
    },
    {
      "cell_type": "code",
      "source": [
        "ex = extracted_features[:]\n",
        "exdf = extracted_features_df[:]"
      ],
      "metadata": {
        "id": "vraIRokbz9Qd"
      },
      "execution_count": null,
      "outputs": []
    },
    {
      "cell_type": "code",
      "source": [
        "ex"
      ],
      "metadata": {
        "colab": {
          "base_uri": "https://localhost:8080/"
        },
        "id": "jCMbj5fD1E0d",
        "outputId": "9afb8c40-cea1-4f1b-fd6e-11c6551ab1c4"
      },
      "execution_count": null,
      "outputs": [
        {
          "output_type": "execute_result",
          "data": {
            "text/plain": [
              "[[array([-6.69283813e+02,  5.35960388e+01,  1.33554668e+01,  2.26407909e+01,\n",
              "          1.41457520e+01,  3.41034164e+01,  7.21812582e+00,  2.58764400e+01,\n",
              "         -5.61121655e+00,  2.58834419e+01, -4.37880039e+00,  2.68563194e+01,\n",
              "         -6.75238323e+00,  2.20093040e+01, -8.72427845e+00,  1.48810625e+01,\n",
              "         -7.90528631e+00,  1.33094959e+01, -3.16732073e+00,  8.77440643e+00,\n",
              "         -2.16545630e+00,  4.47995329e+00, -2.23361754e+00,  2.27937770e+00,\n",
              "          1.87724662e+00, -2.22223997e+00, -1.29707620e-01, -4.24146980e-01,\n",
              "          1.00275171e+00,  6.65427446e-01, -2.94696355e+00,  1.77922845e+00,\n",
              "         -3.04017735e+00,  2.38299513e+00, -3.85519099e+00,  5.35812473e+00,\n",
              "         -4.83932877e+00,  3.67013311e+00, -9.51417565e-01,  7.53256369e+00],\n",
              "        dtype=float32), 'whistle'],\n",
              " [array([-574.8974    ,   60.93311   ,  -22.504108  ,   11.389624  ,\n",
              "           -6.9385056 ,   20.168028  ,  -10.6017275 ,   18.179134  ,\n",
              "          -11.534887  ,   17.637714  ,   -8.011074  ,   24.587135  ,\n",
              "           -2.498011  ,   22.203556  ,   -5.464683  ,   15.92785   ,\n",
              "           -3.99568   ,    8.682405  ,   -4.6679497 ,    9.3775215 ,\n",
              "            0.69106674,    6.785086  ,   -5.7574463 ,    5.3981557 ,\n",
              "            4.3464756 ,    6.2688794 ,   -1.45135   ,    3.0072818 ,\n",
              "           -1.4942822 ,    7.4832563 ,   -2.5752118 ,    4.280941  ,\n",
              "           -1.4544694 ,    8.013636  ,   -1.5624362 ,    5.3384066 ,\n",
              "           -4.716203  ,    2.961343  ,   -4.5180345 ,    2.647825  ],\n",
              "        dtype=float32), 'cetaceans_allfreq'],\n",
              " [array([-5.6871350e+02,  6.2464500e+01, -1.7676495e+01,  1.7210007e+01,\n",
              "         -2.4642241e-01,  3.1138893e+01,  2.3854053e+00,  2.9188194e+01,\n",
              "         -7.0091324e+00,  1.7097504e+01, -5.1744061e+00,  3.1794836e+01,\n",
              "          4.8582058e+00,  1.6281662e+01, -8.3324203e+00,  1.1507708e+01,\n",
              "         -1.0171129e+01,  2.0403374e+01,  3.0059078e+00,  7.1342320e+00,\n",
              "         -3.8831897e+00,  3.6735525e+00,  4.2764320e+00,  5.1808634e+00,\n",
              "          1.6043164e+00,  4.9456439e+00,  3.0825918e+00,  4.8715382e+00,\n",
              "         -1.2355261e+00,  3.6048307e+00,  3.3399265e+00,  8.5075645e+00,\n",
              "         -3.3388317e-01,  5.3498378e+00,  2.1697073e+00,  8.3880062e+00,\n",
              "         -2.9485731e+00, -3.6297345e+00, -3.0897193e+00, -9.8166466e-03],\n",
              "        dtype=float32), 'click'],\n",
              " [array([-6.4416644e+02,  6.8146011e+01,  2.9901640e+01,  4.1389408e+01,\n",
              "          2.8822826e+01,  2.4311306e+01, -4.3663177e+00,  2.1916824e+01,\n",
              "          3.4400184e+00,  1.1298954e+01, -1.0302856e+01,  2.2784031e+01,\n",
              "          6.1190796e-01,  2.3290226e+01, -1.0760396e+00,  1.3569149e+01,\n",
              "         -2.7853100e+00,  8.3873081e+00, -4.4653139e+00,  3.8336587e+00,\n",
              "          2.2557902e+00,  1.8621571e+00, -2.0411406e+00, -5.9791632e+00,\n",
              "          3.0868220e+00, -6.4020286e+00,  2.2762020e+00,  2.1019630e+00,\n",
              "          8.2585726e+00,  1.6297796e+00, -9.0293646e-02,  4.6082196e+00,\n",
              "         -2.5808506e+00,  4.9610150e-01, -5.0642009e+00,  3.6114326e+00,\n",
              "         -3.7368164e+00,  5.5253448e+00,  7.6191702e+00,  1.0186102e+01],\n",
              "        dtype=float32), 'click'],\n",
              " [array([-6.4451373e+02,  6.4669266e+01,  2.0134146e+01,  3.2405018e+01,\n",
              "          2.3133493e+01,  2.0495905e+01, -2.8830245e+00,  2.4819494e+01,\n",
              "          2.0810235e+00,  1.5614409e+01, -9.5592203e+00,  1.9495932e+01,\n",
              "         -4.2535148e+00,  1.2978191e+01, -7.3466663e+00,  1.2453510e+01,\n",
              "         -1.3909672e+00,  1.2387662e+01,  1.2320582e+00,  2.5926931e+00,\n",
              "          3.3567970e+00,  8.1206965e-01,  2.0253935e+00, -4.5428090e+00,\n",
              "         -1.5259464e-01, -6.2952294e+00,  3.2395155e+00, -4.1556549e-01,\n",
              "          4.9365087e+00,  4.7969589e+00,  2.2859728e+00,  3.1405928e+00,\n",
              "          1.4100419e+00,  1.7932128e+00, -1.8655046e+00,  5.7824502e+00,\n",
              "         -6.1310883e+00,  1.7762899e-02, -1.9885921e+00,  4.3900399e+00],\n",
              "        dtype=float32), 'click'],\n",
              " [array([-6.39212830e+02,  6.14022369e+01,  1.53816748e+01,  2.94294415e+01,\n",
              "          1.15694685e+01,  1.99740295e+01, -1.35724992e-01,  2.62241268e+01,\n",
              "         -1.45828819e+00,  1.99348202e+01, -3.34510851e+00,  2.09505844e+01,\n",
              "         -1.13724737e+01,  6.94878483e+00, -4.16598606e+00,  1.58180552e+01,\n",
              "         -4.58575726e+00,  9.15714359e+00, -2.65128636e+00,  2.10330796e+00,\n",
              "         -4.44269753e+00, -6.16994262e-01,  6.27955675e-01, -6.02824068e+00,\n",
              "         -3.76043129e+00, -6.82279444e+00,  2.06610727e+00,  9.51858461e-01,\n",
              "          1.68418765e-01,  1.40719056e+00, -7.09706306e-01,  2.57195473e+00,\n",
              "         -7.64290857e+00,  4.31782532e+00, -7.98610449e-01,  5.56444168e+00,\n",
              "          2.15752935e+00,  7.68056393e+00,  5.66690922e+00,  4.56436110e+00],\n",
              "        dtype=float32), 'click']]"
            ]
          },
          "metadata": {},
          "execution_count": 26
        }
      ]
    },
    {
      "cell_type": "code",
      "source": [
        "exdf"
      ],
      "metadata": {
        "colab": {
          "base_uri": "https://localhost:8080/",
          "height": 238
        },
        "id": "-QtcS0jG0-2Y",
        "outputId": "61020b1c-d025-4a41-8242-5f5ea32f38f5"
      },
      "execution_count": null,
      "outputs": [
        {
          "output_type": "execute_result",
          "data": {
            "text/plain": [
              "                                             feature              class\n",
              "0  [-669.2838, 53.59604, 13.355467, 22.64079, 14....            whistle\n",
              "1  [-574.8974, 60.93311, -22.504108, 11.389624, -...  cetaceans_allfreq\n",
              "2  [-568.7135, 62.4645, -17.676495, 17.210007, -0...              click\n",
              "3  [-644.16644, 68.14601, 29.90164, 41.38941, 28....              click\n",
              "4  [-644.51373, 64.669266, 20.134146, 32.405018, ...              click\n",
              "5  [-639.2128, 61.402237, 15.381675, 29.429441, 1...              click"
            ],
            "text/html": [
              "\n",
              "  <div id=\"df-142a81e6-dc35-448c-86dd-29f0b4908193\">\n",
              "    <div class=\"colab-df-container\">\n",
              "      <div>\n",
              "<style scoped>\n",
              "    .dataframe tbody tr th:only-of-type {\n",
              "        vertical-align: middle;\n",
              "    }\n",
              "\n",
              "    .dataframe tbody tr th {\n",
              "        vertical-align: top;\n",
              "    }\n",
              "\n",
              "    .dataframe thead th {\n",
              "        text-align: right;\n",
              "    }\n",
              "</style>\n",
              "<table border=\"1\" class=\"dataframe\">\n",
              "  <thead>\n",
              "    <tr style=\"text-align: right;\">\n",
              "      <th></th>\n",
              "      <th>feature</th>\n",
              "      <th>class</th>\n",
              "    </tr>\n",
              "  </thead>\n",
              "  <tbody>\n",
              "    <tr>\n",
              "      <th>0</th>\n",
              "      <td>[-669.2838, 53.59604, 13.355467, 22.64079, 14....</td>\n",
              "      <td>whistle</td>\n",
              "    </tr>\n",
              "    <tr>\n",
              "      <th>1</th>\n",
              "      <td>[-574.8974, 60.93311, -22.504108, 11.389624, -...</td>\n",
              "      <td>cetaceans_allfreq</td>\n",
              "    </tr>\n",
              "    <tr>\n",
              "      <th>2</th>\n",
              "      <td>[-568.7135, 62.4645, -17.676495, 17.210007, -0...</td>\n",
              "      <td>click</td>\n",
              "    </tr>\n",
              "    <tr>\n",
              "      <th>3</th>\n",
              "      <td>[-644.16644, 68.14601, 29.90164, 41.38941, 28....</td>\n",
              "      <td>click</td>\n",
              "    </tr>\n",
              "    <tr>\n",
              "      <th>4</th>\n",
              "      <td>[-644.51373, 64.669266, 20.134146, 32.405018, ...</td>\n",
              "      <td>click</td>\n",
              "    </tr>\n",
              "    <tr>\n",
              "      <th>5</th>\n",
              "      <td>[-639.2128, 61.402237, 15.381675, 29.429441, 1...</td>\n",
              "      <td>click</td>\n",
              "    </tr>\n",
              "  </tbody>\n",
              "</table>\n",
              "</div>\n",
              "      <button class=\"colab-df-convert\" onclick=\"convertToInteractive('df-142a81e6-dc35-448c-86dd-29f0b4908193')\"\n",
              "              title=\"Convert this dataframe to an interactive table.\"\n",
              "              style=\"display:none;\">\n",
              "        \n",
              "  <svg xmlns=\"http://www.w3.org/2000/svg\" height=\"24px\"viewBox=\"0 0 24 24\"\n",
              "       width=\"24px\">\n",
              "    <path d=\"M0 0h24v24H0V0z\" fill=\"none\"/>\n",
              "    <path d=\"M18.56 5.44l.94 2.06.94-2.06 2.06-.94-2.06-.94-.94-2.06-.94 2.06-2.06.94zm-11 1L8.5 8.5l.94-2.06 2.06-.94-2.06-.94L8.5 2.5l-.94 2.06-2.06.94zm10 10l.94 2.06.94-2.06 2.06-.94-2.06-.94-.94-2.06-.94 2.06-2.06.94z\"/><path d=\"M17.41 7.96l-1.37-1.37c-.4-.4-.92-.59-1.43-.59-.52 0-1.04.2-1.43.59L10.3 9.45l-7.72 7.72c-.78.78-.78 2.05 0 2.83L4 21.41c.39.39.9.59 1.41.59.51 0 1.02-.2 1.41-.59l7.78-7.78 2.81-2.81c.8-.78.8-2.07 0-2.86zM5.41 20L4 18.59l7.72-7.72 1.47 1.35L5.41 20z\"/>\n",
              "  </svg>\n",
              "      </button>\n",
              "      \n",
              "  <style>\n",
              "    .colab-df-container {\n",
              "      display:flex;\n",
              "      flex-wrap:wrap;\n",
              "      gap: 12px;\n",
              "    }\n",
              "\n",
              "    .colab-df-convert {\n",
              "      background-color: #E8F0FE;\n",
              "      border: none;\n",
              "      border-radius: 50%;\n",
              "      cursor: pointer;\n",
              "      display: none;\n",
              "      fill: #1967D2;\n",
              "      height: 32px;\n",
              "      padding: 0 0 0 0;\n",
              "      width: 32px;\n",
              "    }\n",
              "\n",
              "    .colab-df-convert:hover {\n",
              "      background-color: #E2EBFA;\n",
              "      box-shadow: 0px 1px 2px rgba(60, 64, 67, 0.3), 0px 1px 3px 1px rgba(60, 64, 67, 0.15);\n",
              "      fill: #174EA6;\n",
              "    }\n",
              "\n",
              "    [theme=dark] .colab-df-convert {\n",
              "      background-color: #3B4455;\n",
              "      fill: #D2E3FC;\n",
              "    }\n",
              "\n",
              "    [theme=dark] .colab-df-convert:hover {\n",
              "      background-color: #434B5C;\n",
              "      box-shadow: 0px 1px 3px 1px rgba(0, 0, 0, 0.15);\n",
              "      filter: drop-shadow(0px 1px 2px rgba(0, 0, 0, 0.3));\n",
              "      fill: #FFFFFF;\n",
              "    }\n",
              "  </style>\n",
              "\n",
              "      <script>\n",
              "        const buttonEl =\n",
              "          document.querySelector('#df-142a81e6-dc35-448c-86dd-29f0b4908193 button.colab-df-convert');\n",
              "        buttonEl.style.display =\n",
              "          google.colab.kernel.accessAllowed ? 'block' : 'none';\n",
              "\n",
              "        async function convertToInteractive(key) {\n",
              "          const element = document.querySelector('#df-142a81e6-dc35-448c-86dd-29f0b4908193');\n",
              "          const dataTable =\n",
              "            await google.colab.kernel.invokeFunction('convertToInteractive',\n",
              "                                                     [key], {});\n",
              "          if (!dataTable) return;\n",
              "\n",
              "          const docLinkHtml = 'Like what you see? Visit the ' +\n",
              "            '<a target=\"_blank\" href=https://colab.research.google.com/notebooks/data_table.ipynb>data table notebook</a>'\n",
              "            + ' to learn more about interactive tables.';\n",
              "          element.innerHTML = '';\n",
              "          dataTable['output_type'] = 'display_data';\n",
              "          await google.colab.output.renderOutput(dataTable, element);\n",
              "          const docLink = document.createElement('div');\n",
              "          docLink.innerHTML = docLinkHtml;\n",
              "          element.appendChild(docLink);\n",
              "        }\n",
              "      </script>\n",
              "    </div>\n",
              "  </div>\n",
              "  "
            ]
          },
          "metadata": {},
          "execution_count": 27
        }
      ]
    },
    {
      "cell_type": "code",
      "source": [
        "# carcar datos\n",
        "extracted_features = np.load('datathon2.npy', allow_pickle=True)\n",
        "\n",
        "extracted_features_df = pd.read_csv('datathon2.csv')\n",
        "extracted_features_df = extracted_features_df.drop('Unnamed: 0',1)\n",
        "extracted_features_df"
      ],
      "metadata": {
        "colab": {
          "base_uri": "https://localhost:8080/",
          "height": 292
        },
        "id": "OURX76cgzWZE",
        "outputId": "92fe04f8-2781-47dc-c726-5be3e69e8ccc"
      },
      "execution_count": null,
      "outputs": [
        {
          "output_type": "stream",
          "name": "stderr",
          "text": [
            "/usr/local/lib/python3.7/dist-packages/ipykernel_launcher.py:5: FutureWarning: In a future version of pandas all arguments of DataFrame.drop except for the argument 'labels' will be keyword-only\n",
            "  \"\"\"\n"
          ]
        },
        {
          "output_type": "execute_result",
          "data": {
            "text/plain": [
              "                                             feature              class\n",
              "0  [-6.69283813e+02  5.35960388e+01  1.33554668e+...            whistle\n",
              "1  [-574.8974       60.93311     -22.504108     1...  cetaceans_allfreq\n",
              "2  [-5.6871350e+02  6.2464500e+01 -1.7676495e+01 ...              click\n",
              "3  [-6.4416644e+02  6.8146011e+01  2.9901640e+01 ...              click\n",
              "4  [-6.4451373e+02  6.4669266e+01  2.0134146e+01 ...              click\n",
              "5  [-6.39212830e+02  6.14022369e+01  1.53816748e+...              click"
            ],
            "text/html": [
              "\n",
              "  <div id=\"df-eaac37dd-f863-4750-b30f-ff2c80c67f90\">\n",
              "    <div class=\"colab-df-container\">\n",
              "      <div>\n",
              "<style scoped>\n",
              "    .dataframe tbody tr th:only-of-type {\n",
              "        vertical-align: middle;\n",
              "    }\n",
              "\n",
              "    .dataframe tbody tr th {\n",
              "        vertical-align: top;\n",
              "    }\n",
              "\n",
              "    .dataframe thead th {\n",
              "        text-align: right;\n",
              "    }\n",
              "</style>\n",
              "<table border=\"1\" class=\"dataframe\">\n",
              "  <thead>\n",
              "    <tr style=\"text-align: right;\">\n",
              "      <th></th>\n",
              "      <th>feature</th>\n",
              "      <th>class</th>\n",
              "    </tr>\n",
              "  </thead>\n",
              "  <tbody>\n",
              "    <tr>\n",
              "      <th>0</th>\n",
              "      <td>[-6.69283813e+02  5.35960388e+01  1.33554668e+...</td>\n",
              "      <td>whistle</td>\n",
              "    </tr>\n",
              "    <tr>\n",
              "      <th>1</th>\n",
              "      <td>[-574.8974       60.93311     -22.504108     1...</td>\n",
              "      <td>cetaceans_allfreq</td>\n",
              "    </tr>\n",
              "    <tr>\n",
              "      <th>2</th>\n",
              "      <td>[-5.6871350e+02  6.2464500e+01 -1.7676495e+01 ...</td>\n",
              "      <td>click</td>\n",
              "    </tr>\n",
              "    <tr>\n",
              "      <th>3</th>\n",
              "      <td>[-6.4416644e+02  6.8146011e+01  2.9901640e+01 ...</td>\n",
              "      <td>click</td>\n",
              "    </tr>\n",
              "    <tr>\n",
              "      <th>4</th>\n",
              "      <td>[-6.4451373e+02  6.4669266e+01  2.0134146e+01 ...</td>\n",
              "      <td>click</td>\n",
              "    </tr>\n",
              "    <tr>\n",
              "      <th>5</th>\n",
              "      <td>[-6.39212830e+02  6.14022369e+01  1.53816748e+...</td>\n",
              "      <td>click</td>\n",
              "    </tr>\n",
              "  </tbody>\n",
              "</table>\n",
              "</div>\n",
              "      <button class=\"colab-df-convert\" onclick=\"convertToInteractive('df-eaac37dd-f863-4750-b30f-ff2c80c67f90')\"\n",
              "              title=\"Convert this dataframe to an interactive table.\"\n",
              "              style=\"display:none;\">\n",
              "        \n",
              "  <svg xmlns=\"http://www.w3.org/2000/svg\" height=\"24px\"viewBox=\"0 0 24 24\"\n",
              "       width=\"24px\">\n",
              "    <path d=\"M0 0h24v24H0V0z\" fill=\"none\"/>\n",
              "    <path d=\"M18.56 5.44l.94 2.06.94-2.06 2.06-.94-2.06-.94-.94-2.06-.94 2.06-2.06.94zm-11 1L8.5 8.5l.94-2.06 2.06-.94-2.06-.94L8.5 2.5l-.94 2.06-2.06.94zm10 10l.94 2.06.94-2.06 2.06-.94-2.06-.94-.94-2.06-.94 2.06-2.06.94z\"/><path d=\"M17.41 7.96l-1.37-1.37c-.4-.4-.92-.59-1.43-.59-.52 0-1.04.2-1.43.59L10.3 9.45l-7.72 7.72c-.78.78-.78 2.05 0 2.83L4 21.41c.39.39.9.59 1.41.59.51 0 1.02-.2 1.41-.59l7.78-7.78 2.81-2.81c.8-.78.8-2.07 0-2.86zM5.41 20L4 18.59l7.72-7.72 1.47 1.35L5.41 20z\"/>\n",
              "  </svg>\n",
              "      </button>\n",
              "      \n",
              "  <style>\n",
              "    .colab-df-container {\n",
              "      display:flex;\n",
              "      flex-wrap:wrap;\n",
              "      gap: 12px;\n",
              "    }\n",
              "\n",
              "    .colab-df-convert {\n",
              "      background-color: #E8F0FE;\n",
              "      border: none;\n",
              "      border-radius: 50%;\n",
              "      cursor: pointer;\n",
              "      display: none;\n",
              "      fill: #1967D2;\n",
              "      height: 32px;\n",
              "      padding: 0 0 0 0;\n",
              "      width: 32px;\n",
              "    }\n",
              "\n",
              "    .colab-df-convert:hover {\n",
              "      background-color: #E2EBFA;\n",
              "      box-shadow: 0px 1px 2px rgba(60, 64, 67, 0.3), 0px 1px 3px 1px rgba(60, 64, 67, 0.15);\n",
              "      fill: #174EA6;\n",
              "    }\n",
              "\n",
              "    [theme=dark] .colab-df-convert {\n",
              "      background-color: #3B4455;\n",
              "      fill: #D2E3FC;\n",
              "    }\n",
              "\n",
              "    [theme=dark] .colab-df-convert:hover {\n",
              "      background-color: #434B5C;\n",
              "      box-shadow: 0px 1px 3px 1px rgba(0, 0, 0, 0.15);\n",
              "      filter: drop-shadow(0px 1px 2px rgba(0, 0, 0, 0.3));\n",
              "      fill: #FFFFFF;\n",
              "    }\n",
              "  </style>\n",
              "\n",
              "      <script>\n",
              "        const buttonEl =\n",
              "          document.querySelector('#df-eaac37dd-f863-4750-b30f-ff2c80c67f90 button.colab-df-convert');\n",
              "        buttonEl.style.display =\n",
              "          google.colab.kernel.accessAllowed ? 'block' : 'none';\n",
              "\n",
              "        async function convertToInteractive(key) {\n",
              "          const element = document.querySelector('#df-eaac37dd-f863-4750-b30f-ff2c80c67f90');\n",
              "          const dataTable =\n",
              "            await google.colab.kernel.invokeFunction('convertToInteractive',\n",
              "                                                     [key], {});\n",
              "          if (!dataTable) return;\n",
              "\n",
              "          const docLinkHtml = 'Like what you see? Visit the ' +\n",
              "            '<a target=\"_blank\" href=https://colab.research.google.com/notebooks/data_table.ipynb>data table notebook</a>'\n",
              "            + ' to learn more about interactive tables.';\n",
              "          element.innerHTML = '';\n",
              "          dataTable['output_type'] = 'display_data';\n",
              "          await google.colab.output.renderOutput(dataTable, element);\n",
              "          const docLink = document.createElement('div');\n",
              "          docLink.innerHTML = docLinkHtml;\n",
              "          element.appendChild(docLink);\n",
              "        }\n",
              "      </script>\n",
              "    </div>\n",
              "  </div>\n",
              "  "
            ]
          },
          "metadata": {},
          "execution_count": 28
        }
      ]
    },
    {
      "cell_type": "code",
      "source": [
        "ls"
      ],
      "metadata": {
        "colab": {
          "base_uri": "https://localhost:8080/"
        },
        "id": "cNf1Nc72wBvf",
        "outputId": "eb0a24d4-3dba-41f5-c121-9aa44af41345"
      },
      "execution_count": null,
      "outputs": [
        {
          "output_type": "stream",
          "name": "stdout",
          "text": [
            "dataset1_all_ogg.zip  datathon2.csv  labels_dataset1_v2.csv\n",
            "\u001b[0m\u001b[01;34mdatathon2022\u001b[0m/         datathon2.npy  \u001b[01;34msample_data\u001b[0m/\n"
          ]
        }
      ]
    },
    {
      "cell_type": "code",
      "source": [
        "da, _ = librosa.effects.trim(data[0:18])\n",
        "#librosa.display.waveplot(da, sr=sample_rate)\n",
        "#ipd.Audio(file_name) # todo el audio"
      ],
      "metadata": {
        "colab": {
          "base_uri": "https://localhost:8080/",
          "height": 200
        },
        "id": "vHelCYX97L-l",
        "outputId": "edb35d0d-c73e-49c0-c81d-4aa5108b1c41"
      },
      "execution_count": 2,
      "outputs": [
        {
          "output_type": "error",
          "ename": "NameError",
          "evalue": "ignored",
          "traceback": [
            "\u001b[0;31m---------------------------------------------------------------------------\u001b[0m",
            "\u001b[0;31mNameError\u001b[0m                                 Traceback (most recent call last)",
            "\u001b[0;32m<ipython-input-2-ec2b60516de5>\u001b[0m in \u001b[0;36m<module>\u001b[0;34m\u001b[0m\n\u001b[0;32m----> 1\u001b[0;31m \u001b[0mda\u001b[0m\u001b[0;34m,\u001b[0m \u001b[0m_\u001b[0m \u001b[0;34m=\u001b[0m \u001b[0mlibrosa\u001b[0m\u001b[0;34m.\u001b[0m\u001b[0meffects\u001b[0m\u001b[0;34m.\u001b[0m\u001b[0mtrim\u001b[0m\u001b[0;34m(\u001b[0m\u001b[0mdata\u001b[0m\u001b[0;34m[\u001b[0m\u001b[0;36m0\u001b[0m\u001b[0;34m:\u001b[0m\u001b[0;36m18\u001b[0m\u001b[0;34m]\u001b[0m\u001b[0;34m)\u001b[0m\u001b[0;34m\u001b[0m\u001b[0;34m\u001b[0m\u001b[0m\n\u001b[0m\u001b[1;32m      2\u001b[0m \u001b[0;31m#librosa.display.waveplot(da, sr=sample_rate)\u001b[0m\u001b[0;34m\u001b[0m\u001b[0;34m\u001b[0m\u001b[0;34m\u001b[0m\u001b[0m\n\u001b[1;32m      3\u001b[0m \u001b[0;31m#ipd.Audio(file_name) # todo el audio\u001b[0m\u001b[0;34m\u001b[0m\u001b[0;34m\u001b[0m\u001b[0;34m\u001b[0m\u001b[0m\n",
            "\u001b[0;31mNameError\u001b[0m: name 'librosa' is not defined"
          ]
        }
      ]
    },
    {
      "cell_type": "code",
      "source": [
        "extracted_features"
      ],
      "metadata": {
        "colab": {
          "base_uri": "https://localhost:8080/"
        },
        "id": "VjPSXLIr-Llp",
        "outputId": "3d755989-3ac1-421a-f3a1-51b26b09552d"
      },
      "execution_count": null,
      "outputs": [
        {
          "output_type": "execute_result",
          "data": {
            "text/plain": [
              "array([[array([-6.69283813e+02,  5.35960388e+01,  1.33554668e+01,  2.26407909e+01,\n",
              "                1.41457520e+01,  3.41034164e+01,  7.21812582e+00,  2.58764400e+01,\n",
              "               -5.61121655e+00,  2.58834419e+01, -4.37880039e+00,  2.68563194e+01,\n",
              "               -6.75238323e+00,  2.20093040e+01, -8.72427845e+00,  1.48810625e+01,\n",
              "               -7.90528631e+00,  1.33094959e+01, -3.16732073e+00,  8.77440643e+00,\n",
              "               -2.16545630e+00,  4.47995329e+00, -2.23361754e+00,  2.27937770e+00,\n",
              "                1.87724662e+00, -2.22223997e+00, -1.29707620e-01, -4.24146980e-01,\n",
              "                1.00275171e+00,  6.65427446e-01, -2.94696355e+00,  1.77922845e+00,\n",
              "               -3.04017735e+00,  2.38299513e+00, -3.85519099e+00,  5.35812473e+00,\n",
              "               -4.83932877e+00,  3.67013311e+00, -9.51417565e-01,  7.53256369e+00],\n",
              "              dtype=float32)                                                       ,\n",
              "        'whistle'],\n",
              "       [array([-574.8974    ,   60.93311   ,  -22.504108  ,   11.389624  ,\n",
              "                 -6.9385056 ,   20.168028  ,  -10.6017275 ,   18.179134  ,\n",
              "                -11.534887  ,   17.637714  ,   -8.011074  ,   24.587135  ,\n",
              "                 -2.498011  ,   22.203556  ,   -5.464683  ,   15.92785   ,\n",
              "                 -3.99568   ,    8.682405  ,   -4.6679497 ,    9.3775215 ,\n",
              "                  0.69106674,    6.785086  ,   -5.7574463 ,    5.3981557 ,\n",
              "                  4.3464756 ,    6.2688794 ,   -1.45135   ,    3.0072818 ,\n",
              "                 -1.4942822 ,    7.4832563 ,   -2.5752118 ,    4.280941  ,\n",
              "                 -1.4544694 ,    8.013636  ,   -1.5624362 ,    5.3384066 ,\n",
              "                 -4.716203  ,    2.961343  ,   -4.5180345 ,    2.647825  ],\n",
              "              dtype=float32)                                               ,\n",
              "        'cetaceans_allfreq'],\n",
              "       [array([-5.6871350e+02,  6.2464500e+01, -1.7676495e+01,  1.7210007e+01,\n",
              "               -2.4642241e-01,  3.1138893e+01,  2.3854053e+00,  2.9188194e+01,\n",
              "               -7.0091324e+00,  1.7097504e+01, -5.1744061e+00,  3.1794836e+01,\n",
              "                4.8582058e+00,  1.6281662e+01, -8.3324203e+00,  1.1507708e+01,\n",
              "               -1.0171129e+01,  2.0403374e+01,  3.0059078e+00,  7.1342320e+00,\n",
              "               -3.8831897e+00,  3.6735525e+00,  4.2764320e+00,  5.1808634e+00,\n",
              "                1.6043164e+00,  4.9456439e+00,  3.0825918e+00,  4.8715382e+00,\n",
              "               -1.2355261e+00,  3.6048307e+00,  3.3399265e+00,  8.5075645e+00,\n",
              "               -3.3388317e-01,  5.3498378e+00,  2.1697073e+00,  8.3880062e+00,\n",
              "               -2.9485731e+00, -3.6297345e+00, -3.0897193e+00, -9.8166466e-03],\n",
              "              dtype=float32)                                                   ,\n",
              "        'click'],\n",
              "       [array([-6.4416644e+02,  6.8146011e+01,  2.9901640e+01,  4.1389408e+01,\n",
              "                2.8822826e+01,  2.4311306e+01, -4.3663177e+00,  2.1916824e+01,\n",
              "                3.4400184e+00,  1.1298954e+01, -1.0302856e+01,  2.2784031e+01,\n",
              "                6.1190796e-01,  2.3290226e+01, -1.0760396e+00,  1.3569149e+01,\n",
              "               -2.7853100e+00,  8.3873081e+00, -4.4653139e+00,  3.8336587e+00,\n",
              "                2.2557902e+00,  1.8621571e+00, -2.0411406e+00, -5.9791632e+00,\n",
              "                3.0868220e+00, -6.4020286e+00,  2.2762020e+00,  2.1019630e+00,\n",
              "                8.2585726e+00,  1.6297796e+00, -9.0293646e-02,  4.6082196e+00,\n",
              "               -2.5808506e+00,  4.9610150e-01, -5.0642009e+00,  3.6114326e+00,\n",
              "               -3.7368164e+00,  5.5253448e+00,  7.6191702e+00,  1.0186102e+01],\n",
              "              dtype=float32)                                                   ,\n",
              "        'click'],\n",
              "       [array([-6.4451373e+02,  6.4669266e+01,  2.0134146e+01,  3.2405018e+01,\n",
              "                2.3133493e+01,  2.0495905e+01, -2.8830245e+00,  2.4819494e+01,\n",
              "                2.0810235e+00,  1.5614409e+01, -9.5592203e+00,  1.9495932e+01,\n",
              "               -4.2535148e+00,  1.2978191e+01, -7.3466663e+00,  1.2453510e+01,\n",
              "               -1.3909672e+00,  1.2387662e+01,  1.2320582e+00,  2.5926931e+00,\n",
              "                3.3567970e+00,  8.1206965e-01,  2.0253935e+00, -4.5428090e+00,\n",
              "               -1.5259464e-01, -6.2952294e+00,  3.2395155e+00, -4.1556549e-01,\n",
              "                4.9365087e+00,  4.7969589e+00,  2.2859728e+00,  3.1405928e+00,\n",
              "                1.4100419e+00,  1.7932128e+00, -1.8655046e+00,  5.7824502e+00,\n",
              "               -6.1310883e+00,  1.7762899e-02, -1.9885921e+00,  4.3900399e+00],\n",
              "              dtype=float32)                                                   ,\n",
              "        'click'],\n",
              "       [array([-6.39212830e+02,  6.14022369e+01,  1.53816748e+01,  2.94294415e+01,\n",
              "                1.15694685e+01,  1.99740295e+01, -1.35724992e-01,  2.62241268e+01,\n",
              "               -1.45828819e+00,  1.99348202e+01, -3.34510851e+00,  2.09505844e+01,\n",
              "               -1.13724737e+01,  6.94878483e+00, -4.16598606e+00,  1.58180552e+01,\n",
              "               -4.58575726e+00,  9.15714359e+00, -2.65128636e+00,  2.10330796e+00,\n",
              "               -4.44269753e+00, -6.16994262e-01,  6.27955675e-01, -6.02824068e+00,\n",
              "               -3.76043129e+00, -6.82279444e+00,  2.06610727e+00,  9.51858461e-01,\n",
              "                1.68418765e-01,  1.40719056e+00, -7.09706306e-01,  2.57195473e+00,\n",
              "               -7.64290857e+00,  4.31782532e+00, -7.98610449e-01,  5.56444168e+00,\n",
              "                2.15752935e+00,  7.68056393e+00,  5.66690922e+00,  4.56436110e+00],\n",
              "              dtype=float32)                                                       ,\n",
              "        'click']], dtype=object)"
            ]
          },
          "metadata": {},
          "execution_count": 31
        }
      ]
    },
    {
      "cell_type": "code",
      "source": [
        "type(extracted_features)"
      ],
      "metadata": {
        "colab": {
          "base_uri": "https://localhost:8080/"
        },
        "id": "eEwKg31qd-H3",
        "outputId": "90277b23-0e82-4a18-c64d-6d11a4c9851c"
      },
      "execution_count": null,
      "outputs": [
        {
          "output_type": "execute_result",
          "data": {
            "text/plain": [
              "numpy.ndarray"
            ]
          },
          "metadata": {},
          "execution_count": 32
        }
      ]
    },
    {
      "cell_type": "code",
      "source": [
        "extracted_features.shape, extracted_features_df.shape"
      ],
      "metadata": {
        "colab": {
          "base_uri": "https://localhost:8080/"
        },
        "id": "UTHIq5pzBWhu",
        "outputId": "3f062f13-0f35-4c5a-8794-930cb283e9b7"
      },
      "execution_count": null,
      "outputs": [
        {
          "output_type": "execute_result",
          "data": {
            "text/plain": [
              "((6, 2), (6, 2))"
            ]
          },
          "metadata": {},
          "execution_count": 33
        }
      ]
    },
    {
      "cell_type": "markdown",
      "source": [
        "# seccion en proceso"
      ],
      "metadata": {
        "id": "m7vemDc9hVVq"
      }
    },
    {
      "cell_type": "code",
      "execution_count": null,
      "metadata": {
        "id": "acoustic-wagner",
        "outputId": "b775f223-a969-490e-fc16-090a2f96bcb7",
        "colab": {
          "base_uri": "https://localhost:8080/"
        }
      },
      "outputs": [
        {
          "output_type": "execute_result",
          "data": {
            "text/plain": [
              "                                             feature              class\n",
              "0  [-669.2838, 53.59604, 13.355467, 22.64079, 14....            whistle\n",
              "1  [-574.8974, 60.93311, -22.504108, 11.389624, -...  cetaceans_allfreq\n",
              "2  [-568.7135, 62.4645, -17.676495, 17.210007, -0...              click\n",
              "3  [-644.16644, 68.14601, 29.90164, 41.38941, 28....              click\n",
              "4  [-644.51373, 64.669266, 20.134146, 32.405018, ...              click"
            ],
            "text/html": [
              "\n",
              "  <div id=\"df-67c26124-78e4-4338-93a3-022421c4150a\">\n",
              "    <div class=\"colab-df-container\">\n",
              "      <div>\n",
              "<style scoped>\n",
              "    .dataframe tbody tr th:only-of-type {\n",
              "        vertical-align: middle;\n",
              "    }\n",
              "\n",
              "    .dataframe tbody tr th {\n",
              "        vertical-align: top;\n",
              "    }\n",
              "\n",
              "    .dataframe thead th {\n",
              "        text-align: right;\n",
              "    }\n",
              "</style>\n",
              "<table border=\"1\" class=\"dataframe\">\n",
              "  <thead>\n",
              "    <tr style=\"text-align: right;\">\n",
              "      <th></th>\n",
              "      <th>feature</th>\n",
              "      <th>class</th>\n",
              "    </tr>\n",
              "  </thead>\n",
              "  <tbody>\n",
              "    <tr>\n",
              "      <th>0</th>\n",
              "      <td>[-669.2838, 53.59604, 13.355467, 22.64079, 14....</td>\n",
              "      <td>whistle</td>\n",
              "    </tr>\n",
              "    <tr>\n",
              "      <th>1</th>\n",
              "      <td>[-574.8974, 60.93311, -22.504108, 11.389624, -...</td>\n",
              "      <td>cetaceans_allfreq</td>\n",
              "    </tr>\n",
              "    <tr>\n",
              "      <th>2</th>\n",
              "      <td>[-568.7135, 62.4645, -17.676495, 17.210007, -0...</td>\n",
              "      <td>click</td>\n",
              "    </tr>\n",
              "    <tr>\n",
              "      <th>3</th>\n",
              "      <td>[-644.16644, 68.14601, 29.90164, 41.38941, 28....</td>\n",
              "      <td>click</td>\n",
              "    </tr>\n",
              "    <tr>\n",
              "      <th>4</th>\n",
              "      <td>[-644.51373, 64.669266, 20.134146, 32.405018, ...</td>\n",
              "      <td>click</td>\n",
              "    </tr>\n",
              "  </tbody>\n",
              "</table>\n",
              "</div>\n",
              "      <button class=\"colab-df-convert\" onclick=\"convertToInteractive('df-67c26124-78e4-4338-93a3-022421c4150a')\"\n",
              "              title=\"Convert this dataframe to an interactive table.\"\n",
              "              style=\"display:none;\">\n",
              "        \n",
              "  <svg xmlns=\"http://www.w3.org/2000/svg\" height=\"24px\"viewBox=\"0 0 24 24\"\n",
              "       width=\"24px\">\n",
              "    <path d=\"M0 0h24v24H0V0z\" fill=\"none\"/>\n",
              "    <path d=\"M18.56 5.44l.94 2.06.94-2.06 2.06-.94-2.06-.94-.94-2.06-.94 2.06-2.06.94zm-11 1L8.5 8.5l.94-2.06 2.06-.94-2.06-.94L8.5 2.5l-.94 2.06-2.06.94zm10 10l.94 2.06.94-2.06 2.06-.94-2.06-.94-.94-2.06-.94 2.06-2.06.94z\"/><path d=\"M17.41 7.96l-1.37-1.37c-.4-.4-.92-.59-1.43-.59-.52 0-1.04.2-1.43.59L10.3 9.45l-7.72 7.72c-.78.78-.78 2.05 0 2.83L4 21.41c.39.39.9.59 1.41.59.51 0 1.02-.2 1.41-.59l7.78-7.78 2.81-2.81c.8-.78.8-2.07 0-2.86zM5.41 20L4 18.59l7.72-7.72 1.47 1.35L5.41 20z\"/>\n",
              "  </svg>\n",
              "      </button>\n",
              "      \n",
              "  <style>\n",
              "    .colab-df-container {\n",
              "      display:flex;\n",
              "      flex-wrap:wrap;\n",
              "      gap: 12px;\n",
              "    }\n",
              "\n",
              "    .colab-df-convert {\n",
              "      background-color: #E8F0FE;\n",
              "      border: none;\n",
              "      border-radius: 50%;\n",
              "      cursor: pointer;\n",
              "      display: none;\n",
              "      fill: #1967D2;\n",
              "      height: 32px;\n",
              "      padding: 0 0 0 0;\n",
              "      width: 32px;\n",
              "    }\n",
              "\n",
              "    .colab-df-convert:hover {\n",
              "      background-color: #E2EBFA;\n",
              "      box-shadow: 0px 1px 2px rgba(60, 64, 67, 0.3), 0px 1px 3px 1px rgba(60, 64, 67, 0.15);\n",
              "      fill: #174EA6;\n",
              "    }\n",
              "\n",
              "    [theme=dark] .colab-df-convert {\n",
              "      background-color: #3B4455;\n",
              "      fill: #D2E3FC;\n",
              "    }\n",
              "\n",
              "    [theme=dark] .colab-df-convert:hover {\n",
              "      background-color: #434B5C;\n",
              "      box-shadow: 0px 1px 3px 1px rgba(0, 0, 0, 0.15);\n",
              "      filter: drop-shadow(0px 1px 2px rgba(0, 0, 0, 0.3));\n",
              "      fill: #FFFFFF;\n",
              "    }\n",
              "  </style>\n",
              "\n",
              "      <script>\n",
              "        const buttonEl =\n",
              "          document.querySelector('#df-67c26124-78e4-4338-93a3-022421c4150a button.colab-df-convert');\n",
              "        buttonEl.style.display =\n",
              "          google.colab.kernel.accessAllowed ? 'block' : 'none';\n",
              "\n",
              "        async function convertToInteractive(key) {\n",
              "          const element = document.querySelector('#df-67c26124-78e4-4338-93a3-022421c4150a');\n",
              "          const dataTable =\n",
              "            await google.colab.kernel.invokeFunction('convertToInteractive',\n",
              "                                                     [key], {});\n",
              "          if (!dataTable) return;\n",
              "\n",
              "          const docLinkHtml = 'Like what you see? Visit the ' +\n",
              "            '<a target=\"_blank\" href=https://colab.research.google.com/notebooks/data_table.ipynb>data table notebook</a>'\n",
              "            + ' to learn more about interactive tables.';\n",
              "          element.innerHTML = '';\n",
              "          dataTable['output_type'] = 'display_data';\n",
              "          await google.colab.output.renderOutput(dataTable, element);\n",
              "          const docLink = document.createElement('div');\n",
              "          docLink.innerHTML = docLinkHtml;\n",
              "          element.appendChild(docLink);\n",
              "        }\n",
              "      </script>\n",
              "    </div>\n",
              "  </div>\n",
              "  "
            ]
          },
          "metadata": {},
          "execution_count": 36
        }
      ],
      "source": [
        "### converting extracted_features to Pandas dataframe\n",
        "extracted_features_df=pd.DataFrame(extracted_features,columns=['feature','class'])\n",
        "extracted_features_df.head()"
      ]
    },
    {
      "cell_type": "code",
      "source": [
        "extracted_features_df.shape"
      ],
      "metadata": {
        "colab": {
          "base_uri": "https://localhost:8080/"
        },
        "id": "EuhGdcw1dL3Z",
        "outputId": "9774b97e-4d5f-4246-d6bd-a6bb3b8a628b"
      },
      "execution_count": null,
      "outputs": [
        {
          "output_type": "execute_result",
          "data": {
            "text/plain": [
              "(6, 2)"
            ]
          },
          "metadata": {},
          "execution_count": 37
        }
      ]
    },
    {
      "cell_type": "code",
      "execution_count": null,
      "metadata": {
        "id": "characteristic-sudan"
      },
      "outputs": [],
      "source": [
        "### Split the dataset into independent and dependent dataset\n",
        "X=np.array(extracted_features_df['feature'].tolist())\n",
        "y=np.array(extracted_features_df['class'].tolist())"
      ]
    },
    {
      "cell_type": "code",
      "source": [
        "X[0]"
      ],
      "metadata": {
        "colab": {
          "base_uri": "https://localhost:8080/"
        },
        "id": "yCbQ2xzAJuVe",
        "outputId": "400668e2-94ed-4b25-b596-965a9ca815aa"
      },
      "execution_count": null,
      "outputs": [
        {
          "output_type": "execute_result",
          "data": {
            "text/plain": [
              "array([-6.69283813e+02,  5.35960388e+01,  1.33554668e+01,  2.26407909e+01,\n",
              "        1.41457520e+01,  3.41034164e+01,  7.21812582e+00,  2.58764400e+01,\n",
              "       -5.61121655e+00,  2.58834419e+01, -4.37880039e+00,  2.68563194e+01,\n",
              "       -6.75238323e+00,  2.20093040e+01, -8.72427845e+00,  1.48810625e+01,\n",
              "       -7.90528631e+00,  1.33094959e+01, -3.16732073e+00,  8.77440643e+00,\n",
              "       -2.16545630e+00,  4.47995329e+00, -2.23361754e+00,  2.27937770e+00,\n",
              "        1.87724662e+00, -2.22223997e+00, -1.29707620e-01, -4.24146980e-01,\n",
              "        1.00275171e+00,  6.65427446e-01, -2.94696355e+00,  1.77922845e+00,\n",
              "       -3.04017735e+00,  2.38299513e+00, -3.85519099e+00,  5.35812473e+00,\n",
              "       -4.83932877e+00,  3.67013311e+00, -9.51417565e-01,  7.53256369e+00],\n",
              "      dtype=float32)"
            ]
          },
          "metadata": {},
          "execution_count": 39
        }
      ]
    },
    {
      "cell_type": "code",
      "execution_count": null,
      "metadata": {
        "id": "friendly-placement",
        "outputId": "0a5f6c0f-436d-425d-de6f-6729db1f758d",
        "colab": {
          "base_uri": "https://localhost:8080/"
        }
      },
      "outputs": [
        {
          "output_type": "execute_result",
          "data": {
            "text/plain": [
              "(6, 40)"
            ]
          },
          "metadata": {},
          "execution_count": 40
        }
      ],
      "source": [
        "X.shape"
      ]
    },
    {
      "cell_type": "code",
      "execution_count": null,
      "metadata": {
        "id": "japanese-cheese",
        "outputId": "2ac7b078-8af3-4702-c433-a7455e21ea2c",
        "colab": {
          "base_uri": "https://localhost:8080/"
        }
      },
      "outputs": [
        {
          "output_type": "execute_result",
          "data": {
            "text/plain": [
              "array(['whistle', 'cetaceans_allfreq', 'click', 'click', 'click', 'click'],\n",
              "      dtype='<U17')"
            ]
          },
          "metadata": {},
          "execution_count": 41
        }
      ],
      "source": [
        "y"
      ]
    },
    {
      "cell_type": "code",
      "execution_count": null,
      "metadata": {
        "id": "wired-church"
      },
      "outputs": [],
      "source": [
        "### Label Encoding\n",
        "###y=np.array(pd.get_dummies(y))\n",
        "### Label Encoder\n",
        "from tensorflow.keras.utils import to_categorical\n",
        "from sklearn.preprocessing import LabelEncoder\n",
        "labelencoder=LabelEncoder()\n",
        "y=to_categorical(labelencoder.fit_transform(y))\n"
      ]
    },
    {
      "cell_type": "code",
      "execution_count": null,
      "metadata": {
        "id": "sitting-anniversary",
        "outputId": "a6b30b7c-d267-4111-db14-c2138695e15c",
        "colab": {
          "base_uri": "https://localhost:8080/"
        }
      },
      "outputs": [
        {
          "output_type": "execute_result",
          "data": {
            "text/plain": [
              "array([[0., 0., 1.],\n",
              "       [1., 0., 0.],\n",
              "       [0., 1., 0.],\n",
              "       [0., 1., 0.],\n",
              "       [0., 1., 0.],\n",
              "       [0., 1., 0.]], dtype=float32)"
            ]
          },
          "metadata": {},
          "execution_count": 43
        }
      ],
      "source": [
        "y"
      ]
    },
    {
      "cell_type": "code",
      "execution_count": null,
      "metadata": {
        "id": "documentary-priority"
      },
      "outputs": [],
      "source": [
        "### Train Test Split\n",
        "from sklearn.model_selection import train_test_split\n",
        "X_train,X_test,y_train,y_test=train_test_split(X,y,test_size=0.3,random_state=0)"
      ]
    },
    {
      "cell_type": "code",
      "execution_count": null,
      "metadata": {
        "id": "analyzed-payday",
        "outputId": "6b5cd71b-3b95-4f0a-edc4-6f7555790aaa",
        "colab": {
          "base_uri": "https://localhost:8080/"
        }
      },
      "outputs": [
        {
          "output_type": "execute_result",
          "data": {
            "text/plain": [
              "array([[-5.74897400e+02,  6.09331093e+01, -2.25041084e+01,\n",
              "         1.13896236e+01, -6.93850565e+00,  2.01680279e+01,\n",
              "        -1.06017275e+01,  1.81791344e+01, -1.15348873e+01,\n",
              "         1.76377144e+01, -8.01107407e+00,  2.45871353e+01,\n",
              "        -2.49801111e+00,  2.22035561e+01, -5.46468306e+00,\n",
              "         1.59278498e+01, -3.99568009e+00,  8.68240547e+00,\n",
              "        -4.66794968e+00,  9.37752151e+00,  6.91066742e-01,\n",
              "         6.78508615e+00, -5.75744629e+00,  5.39815569e+00,\n",
              "         4.34647560e+00,  6.26887941e+00, -1.45134997e+00,\n",
              "         3.00728178e+00, -1.49428225e+00,  7.48325634e+00,\n",
              "        -2.57521176e+00,  4.28094101e+00, -1.45446944e+00,\n",
              "         8.01363564e+00, -1.56243622e+00,  5.33840656e+00,\n",
              "        -4.71620321e+00,  2.96134305e+00, -4.51803446e+00,\n",
              "         2.64782500e+00],\n",
              "       [-6.44166443e+02,  6.81460114e+01,  2.99016399e+01,\n",
              "         4.13894081e+01,  2.88228264e+01,  2.43113060e+01,\n",
              "        -4.36631775e+00,  2.19168243e+01,  3.44001842e+00,\n",
              "         1.12989540e+01, -1.03028564e+01,  2.27840309e+01,\n",
              "         6.11907959e-01,  2.32902260e+01, -1.07603955e+00,\n",
              "         1.35691490e+01, -2.78531003e+00,  8.38730812e+00,\n",
              "        -4.46531391e+00,  3.83365870e+00,  2.25579023e+00,\n",
              "         1.86215711e+00, -2.04114056e+00, -5.97916317e+00,\n",
              "         3.08682203e+00, -6.40202856e+00,  2.27620196e+00,\n",
              "         2.10196304e+00,  8.25857258e+00,  1.62977958e+00,\n",
              "        -9.02936459e-02,  4.60821962e+00, -2.58085060e+00,\n",
              "         4.96101499e-01, -5.06420088e+00,  3.61143255e+00,\n",
              "        -3.73681641e+00,  5.52534485e+00,  7.61917019e+00,\n",
              "         1.01861019e+01],\n",
              "       [-6.69283813e+02,  5.35960388e+01,  1.33554668e+01,\n",
              "         2.26407909e+01,  1.41457520e+01,  3.41034164e+01,\n",
              "         7.21812582e+00,  2.58764400e+01, -5.61121655e+00,\n",
              "         2.58834419e+01, -4.37880039e+00,  2.68563194e+01,\n",
              "        -6.75238323e+00,  2.20093040e+01, -8.72427845e+00,\n",
              "         1.48810625e+01, -7.90528631e+00,  1.33094959e+01,\n",
              "        -3.16732073e+00,  8.77440643e+00, -2.16545630e+00,\n",
              "         4.47995329e+00, -2.23361754e+00,  2.27937770e+00,\n",
              "         1.87724662e+00, -2.22223997e+00, -1.29707620e-01,\n",
              "        -4.24146980e-01,  1.00275171e+00,  6.65427446e-01,\n",
              "        -2.94696355e+00,  1.77922845e+00, -3.04017735e+00,\n",
              "         2.38299513e+00, -3.85519099e+00,  5.35812473e+00,\n",
              "        -4.83932877e+00,  3.67013311e+00, -9.51417565e-01,\n",
              "         7.53256369e+00],\n",
              "       [-6.44513733e+02,  6.46692657e+01,  2.01341457e+01,\n",
              "         3.24050179e+01,  2.31334934e+01,  2.04959049e+01,\n",
              "        -2.88302445e+00,  2.48194942e+01,  2.08102345e+00,\n",
              "         1.56144094e+01, -9.55922031e+00,  1.94959316e+01,\n",
              "        -4.25351477e+00,  1.29781914e+01, -7.34666634e+00,\n",
              "         1.24535103e+01, -1.39096725e+00,  1.23876619e+01,\n",
              "         1.23205817e+00,  2.59269309e+00,  3.35679698e+00,\n",
              "         8.12069654e-01,  2.02539349e+00, -4.54280901e+00,\n",
              "        -1.52594641e-01, -6.29522943e+00,  3.23951554e+00,\n",
              "        -4.15565491e-01,  4.93650866e+00,  4.79695892e+00,\n",
              "         2.28597283e+00,  3.14059281e+00,  1.41004193e+00,\n",
              "         1.79321277e+00, -1.86550462e+00,  5.78245020e+00,\n",
              "        -6.13108826e+00,  1.77628994e-02, -1.98859215e+00,\n",
              "         4.39003992e+00]], dtype=float32)"
            ]
          },
          "metadata": {},
          "execution_count": 45
        }
      ],
      "source": [
        "X_train"
      ]
    },
    {
      "cell_type": "code",
      "execution_count": null,
      "metadata": {
        "id": "female-study",
        "outputId": "f543ef39-e0fb-4080-90cb-71ba97f94a1f",
        "colab": {
          "base_uri": "https://localhost:8080/"
        }
      },
      "outputs": [
        {
          "output_type": "execute_result",
          "data": {
            "text/plain": [
              "array([[0., 0., 1.],\n",
              "       [1., 0., 0.],\n",
              "       [0., 1., 0.],\n",
              "       [0., 1., 0.],\n",
              "       [0., 1., 0.],\n",
              "       [0., 1., 0.]], dtype=float32)"
            ]
          },
          "metadata": {},
          "execution_count": 46
        }
      ],
      "source": [
        "y"
      ]
    },
    {
      "cell_type": "code",
      "execution_count": null,
      "metadata": {
        "id": "flexible-lithuania",
        "outputId": "b75aaa51-734b-4d97-c310-78454c512990",
        "colab": {
          "base_uri": "https://localhost:8080/"
        }
      },
      "outputs": [
        {
          "output_type": "execute_result",
          "data": {
            "text/plain": [
              "(4, 40)"
            ]
          },
          "metadata": {},
          "execution_count": 47
        }
      ],
      "source": [
        "X_train.shape"
      ]
    },
    {
      "cell_type": "code",
      "execution_count": null,
      "metadata": {
        "id": "instrumental-equity",
        "outputId": "bd1984ca-1567-409a-e2e7-333665d6c6f1",
        "colab": {
          "base_uri": "https://localhost:8080/"
        }
      },
      "outputs": [
        {
          "output_type": "execute_result",
          "data": {
            "text/plain": [
              "(2, 40)"
            ]
          },
          "metadata": {},
          "execution_count": 48
        }
      ],
      "source": [
        "X_test.shape"
      ]
    },
    {
      "cell_type": "code",
      "execution_count": null,
      "metadata": {
        "id": "chemical-vermont",
        "outputId": "a8928ca8-87a2-4e7c-c12a-cd83b3fa8827",
        "colab": {
          "base_uri": "https://localhost:8080/"
        }
      },
      "outputs": [
        {
          "output_type": "execute_result",
          "data": {
            "text/plain": [
              "(4, 3)"
            ]
          },
          "metadata": {},
          "execution_count": 49
        }
      ],
      "source": [
        "y_train.shape"
      ]
    },
    {
      "cell_type": "code",
      "execution_count": null,
      "metadata": {
        "id": "governing-natural",
        "outputId": "49801886-dca1-47e1-a11b-e823adafc118",
        "colab": {
          "base_uri": "https://localhost:8080/"
        }
      },
      "outputs": [
        {
          "output_type": "execute_result",
          "data": {
            "text/plain": [
              "(2, 3)"
            ]
          },
          "metadata": {},
          "execution_count": 50
        }
      ],
      "source": [
        "y_test.shape"
      ]
    },
    {
      "cell_type": "markdown",
      "metadata": {
        "id": "express-vessel"
      },
      "source": [
        "# Model Creation 1"
      ]
    },
    {
      "cell_type": "code",
      "execution_count": null,
      "metadata": {
        "id": "loose-portugal",
        "outputId": "9bada521-88ed-4283-89d5-438862791efc",
        "colab": {
          "base_uri": "https://localhost:8080/"
        }
      },
      "outputs": [
        {
          "output_type": "stream",
          "name": "stdout",
          "text": [
            "2.9.2\n"
          ]
        }
      ],
      "source": [
        "import tensorflow as tf\n",
        "print(tf.__version__)"
      ]
    },
    {
      "cell_type": "code",
      "execution_count": null,
      "metadata": {
        "id": "indonesian-accessory"
      },
      "outputs": [],
      "source": [
        "from tensorflow.keras.models import Sequential\n",
        "from tensorflow.keras.layers import Dense,Dropout,Activation,Flatten\n",
        "from tensorflow.keras.optimizers import Adam\n",
        "from sklearn import metrics"
      ]
    },
    {
      "cell_type": "code",
      "execution_count": null,
      "metadata": {
        "id": "valuable-substitute"
      },
      "outputs": [],
      "source": [
        "### No of classes\n",
        "num_labels=y.shape[1]"
      ]
    },
    {
      "cell_type": "code",
      "execution_count": null,
      "metadata": {
        "id": "found-outside"
      },
      "outputs": [],
      "source": [
        "model=Sequential()\n",
        "###first layer\n",
        "model.add(Dense(100,input_shape=(40,)))\n",
        "model.add(Activation('relu'))\n",
        "model.add(Dropout(0.5))\n",
        "###second layer\n",
        "model.add(Dense(200))\n",
        "model.add(Activation('relu'))\n",
        "model.add(Dropout(0.5))\n",
        "###third layer\n",
        "model.add(Dense(100))\n",
        "model.add(Activation('relu'))\n",
        "model.add(Dropout(0.5))\n",
        "\n",
        "###final layer\n",
        "model.add(Dense(num_labels))\n",
        "model.add(Activation('softmax'))"
      ]
    },
    {
      "cell_type": "code",
      "source": [
        "# edit model\n",
        "\n",
        "model=Sequential()\n",
        "###first layer\n",
        "model.add(Dense(100,input_shape=(40,)))\n",
        "model.add(Activation('relu'))\n",
        "model.add(Dropout(0.5))\n",
        "###second layer\n",
        "model.add(Dense(200))\n",
        "model.add(Activation('relu'))\n",
        "model.add(Dropout(0.5))\n",
        "###third layer\n",
        "model.add(Dense(400))\n",
        "model.add(Activation('relu'))\n",
        "model.add(Dropout(0.5))\n",
        "###four layer\n",
        "model.add(Dense(300))\n",
        "model.add(Activation('relu'))\n",
        "model.add(Dropout(0.5))\n",
        "###five layer\n",
        "model.add(Dense(200))\n",
        "model.add(Activation('relu'))\n",
        "model.add(Dropout(0.5))\n",
        "###six layer\n",
        "model.add(Dense(100))\n",
        "model.add(Activation('relu'))\n",
        "model.add(Dropout(0.5))\n",
        "\n",
        "###final layer\n",
        "model.add(Dense(num_labels))\n",
        "model.add(Activation('softmax'))"
      ],
      "metadata": {
        "id": "ti1tjSizotOn"
      },
      "execution_count": null,
      "outputs": []
    },
    {
      "cell_type": "code",
      "execution_count": null,
      "metadata": {
        "id": "described-anaheim",
        "outputId": "1cec8dc7-def3-468e-dcc6-d76e9c1c7877",
        "colab": {
          "base_uri": "https://localhost:8080/"
        }
      },
      "outputs": [
        {
          "output_type": "stream",
          "name": "stdout",
          "text": [
            "Model: \"sequential\"\n",
            "_________________________________________________________________\n",
            " Layer (type)                Output Shape              Param #   \n",
            "=================================================================\n",
            " dense (Dense)               (None, 100)               4100      \n",
            "                                                                 \n",
            " activation (Activation)     (None, 100)               0         \n",
            "                                                                 \n",
            " dropout (Dropout)           (None, 100)               0         \n",
            "                                                                 \n",
            " dense_1 (Dense)             (None, 200)               20200     \n",
            "                                                                 \n",
            " activation_1 (Activation)   (None, 200)               0         \n",
            "                                                                 \n",
            " dropout_1 (Dropout)         (None, 200)               0         \n",
            "                                                                 \n",
            " dense_2 (Dense)             (None, 100)               20100     \n",
            "                                                                 \n",
            " activation_2 (Activation)   (None, 100)               0         \n",
            "                                                                 \n",
            " dropout_2 (Dropout)         (None, 100)               0         \n",
            "                                                                 \n",
            " dense_3 (Dense)             (None, 3)                 303       \n",
            "                                                                 \n",
            " activation_3 (Activation)   (None, 3)                 0         \n",
            "                                                                 \n",
            "=================================================================\n",
            "Total params: 44,703\n",
            "Trainable params: 44,703\n",
            "Non-trainable params: 0\n",
            "_________________________________________________________________\n"
          ]
        }
      ],
      "source": [
        "model.summary()"
      ]
    },
    {
      "cell_type": "code",
      "execution_count": null,
      "metadata": {
        "id": "radical-finding"
      },
      "outputs": [],
      "source": [
        "model.compile(loss='categorical_crossentropy',metrics=['accuracy'],optimizer='adam')"
      ]
    },
    {
      "cell_type": "code",
      "execution_count": null,
      "metadata": {
        "id": "alpha-adapter",
        "outputId": "dac66fc0-6908-4206-9d7c-f0d833e8cce4",
        "colab": {
          "base_uri": "https://localhost:8080/"
        }
      },
      "outputs": [
        {
          "output_type": "stream",
          "name": "stdout",
          "text": [
            "Epoch 1/100\n",
            "1/1 [==============================] - ETA: 0s - loss: 35.1822 - accuracy: 0.5000\n",
            "Epoch 1: val_loss improved from inf to 38.23964, saving model to saved_models/audio_classification.hdf5\n",
            "1/1 [==============================] - 1s 1s/step - loss: 35.1822 - accuracy: 0.5000 - val_loss: 38.2396 - val_accuracy: 0.0000e+00\n",
            "Epoch 2/100\n",
            "1/1 [==============================] - ETA: 0s - loss: 36.6148 - accuracy: 0.2500\n",
            "Epoch 2: val_loss improved from 38.23964 to 22.21537, saving model to saved_models/audio_classification.hdf5\n",
            "1/1 [==============================] - 0s 46ms/step - loss: 36.6148 - accuracy: 0.2500 - val_loss: 22.2154 - val_accuracy: 0.0000e+00\n",
            "Epoch 3/100\n",
            "1/1 [==============================] - ETA: 0s - loss: 79.6507 - accuracy: 0.5000\n",
            "Epoch 3: val_loss improved from 22.21537 to 4.58116, saving model to saved_models/audio_classification.hdf5\n",
            "1/1 [==============================] - 0s 45ms/step - loss: 79.6507 - accuracy: 0.5000 - val_loss: 4.5812 - val_accuracy: 0.5000\n",
            "Epoch 4/100\n",
            "1/1 [==============================] - ETA: 0s - loss: 103.7576 - accuracy: 0.5000\n",
            "Epoch 4: val_loss improved from 4.58116 to 0.08611, saving model to saved_models/audio_classification.hdf5\n",
            "1/1 [==============================] - 0s 48ms/step - loss: 103.7576 - accuracy: 0.5000 - val_loss: 0.0861 - val_accuracy: 1.0000\n",
            "Epoch 5/100\n",
            "1/1 [==============================] - ETA: 0s - loss: 30.6714 - accuracy: 0.5000\n",
            "Epoch 5: val_loss improved from 0.08611 to 0.00002, saving model to saved_models/audio_classification.hdf5\n",
            "1/1 [==============================] - 0s 49ms/step - loss: 30.6714 - accuracy: 0.5000 - val_loss: 1.9967e-05 - val_accuracy: 1.0000\n",
            "Epoch 6/100\n",
            "1/1 [==============================] - ETA: 0s - loss: 101.7083 - accuracy: 0.0000e+00\n",
            "Epoch 6: val_loss improved from 0.00002 to 0.00000, saving model to saved_models/audio_classification.hdf5\n",
            "1/1 [==============================] - 0s 54ms/step - loss: 101.7083 - accuracy: 0.0000e+00 - val_loss: 0.0000e+00 - val_accuracy: 1.0000\n",
            "Epoch 7/100\n",
            "1/1 [==============================] - ETA: 0s - loss: 13.9326 - accuracy: 0.7500\n",
            "Epoch 7: val_loss did not improve from 0.00000\n",
            "1/1 [==============================] - 0s 31ms/step - loss: 13.9326 - accuracy: 0.7500 - val_loss: 0.0000e+00 - val_accuracy: 1.0000\n",
            "Epoch 8/100\n",
            "1/1 [==============================] - ETA: 0s - loss: 46.7770 - accuracy: 0.2500\n",
            "Epoch 8: val_loss did not improve from 0.00000\n",
            "1/1 [==============================] - 0s 27ms/step - loss: 46.7770 - accuracy: 0.2500 - val_loss: 0.0000e+00 - val_accuracy: 1.0000\n",
            "Epoch 9/100\n",
            "1/1 [==============================] - ETA: 0s - loss: 110.6879 - accuracy: 0.5000\n",
            "Epoch 9: val_loss did not improve from 0.00000\n",
            "1/1 [==============================] - 0s 34ms/step - loss: 110.6879 - accuracy: 0.5000 - val_loss: 0.0000e+00 - val_accuracy: 1.0000\n",
            "Epoch 10/100\n",
            "1/1 [==============================] - ETA: 0s - loss: 115.2131 - accuracy: 0.2500\n",
            "Epoch 10: val_loss did not improve from 0.00000\n",
            "1/1 [==============================] - 0s 28ms/step - loss: 115.2131 - accuracy: 0.2500 - val_loss: 0.0000e+00 - val_accuracy: 1.0000\n",
            "Epoch 11/100\n",
            "1/1 [==============================] - ETA: 0s - loss: 81.4488 - accuracy: 0.0000e+00\n",
            "Epoch 11: val_loss did not improve from 0.00000\n",
            "1/1 [==============================] - 0s 27ms/step - loss: 81.4488 - accuracy: 0.0000e+00 - val_loss: 0.0000e+00 - val_accuracy: 1.0000\n",
            "Epoch 12/100\n",
            "1/1 [==============================] - ETA: 0s - loss: 25.3978 - accuracy: 0.2500\n",
            "Epoch 12: val_loss did not improve from 0.00000\n",
            "1/1 [==============================] - 0s 30ms/step - loss: 25.3978 - accuracy: 0.2500 - val_loss: 0.0000e+00 - val_accuracy: 1.0000\n",
            "Epoch 13/100\n",
            "1/1 [==============================] - ETA: 0s - loss: 11.1611 - accuracy: 0.7500\n",
            "Epoch 13: val_loss did not improve from 0.00000\n",
            "1/1 [==============================] - 0s 33ms/step - loss: 11.1611 - accuracy: 0.7500 - val_loss: 0.0000e+00 - val_accuracy: 1.0000\n",
            "Epoch 14/100\n",
            "1/1 [==============================] - ETA: 0s - loss: 63.1501 - accuracy: 0.0000e+00\n",
            "Epoch 14: val_loss did not improve from 0.00000\n",
            "1/1 [==============================] - 0s 28ms/step - loss: 63.1501 - accuracy: 0.0000e+00 - val_loss: 0.0000e+00 - val_accuracy: 1.0000\n",
            "Epoch 15/100\n",
            "1/1 [==============================] - ETA: 0s - loss: 98.6947 - accuracy: 0.2500\n",
            "Epoch 15: val_loss did not improve from 0.00000\n",
            "1/1 [==============================] - 0s 29ms/step - loss: 98.6947 - accuracy: 0.2500 - val_loss: 0.0000e+00 - val_accuracy: 1.0000\n",
            "Epoch 16/100\n",
            "1/1 [==============================] - ETA: 0s - loss: 67.2604 - accuracy: 0.2500\n",
            "Epoch 16: val_loss did not improve from 0.00000\n",
            "1/1 [==============================] - 0s 32ms/step - loss: 67.2604 - accuracy: 0.2500 - val_loss: 0.0000e+00 - val_accuracy: 1.0000\n",
            "Epoch 17/100\n",
            "1/1 [==============================] - ETA: 0s - loss: 51.9933 - accuracy: 0.5000\n",
            "Epoch 17: val_loss did not improve from 0.00000\n",
            "1/1 [==============================] - 0s 29ms/step - loss: 51.9933 - accuracy: 0.5000 - val_loss: 0.0000e+00 - val_accuracy: 1.0000\n",
            "Epoch 18/100\n",
            "1/1 [==============================] - ETA: 0s - loss: 17.4806 - accuracy: 0.5000\n",
            "Epoch 18: val_loss did not improve from 0.00000\n",
            "1/1 [==============================] - 0s 28ms/step - loss: 17.4806 - accuracy: 0.5000 - val_loss: 0.0000e+00 - val_accuracy: 1.0000\n",
            "Epoch 19/100\n",
            "1/1 [==============================] - ETA: 0s - loss: 98.4000 - accuracy: 0.0000e+00\n",
            "Epoch 19: val_loss did not improve from 0.00000\n",
            "1/1 [==============================] - 0s 37ms/step - loss: 98.4000 - accuracy: 0.0000e+00 - val_loss: 0.0000e+00 - val_accuracy: 1.0000\n",
            "Epoch 20/100\n",
            "1/1 [==============================] - ETA: 0s - loss: 30.2251 - accuracy: 0.5000\n",
            "Epoch 20: val_loss did not improve from 0.00000\n",
            "1/1 [==============================] - 0s 27ms/step - loss: 30.2251 - accuracy: 0.5000 - val_loss: 0.0000e+00 - val_accuracy: 1.0000\n",
            "Epoch 21/100\n",
            "1/1 [==============================] - ETA: 0s - loss: 21.2929 - accuracy: 0.5000\n",
            "Epoch 21: val_loss did not improve from 0.00000\n",
            "1/1 [==============================] - 0s 29ms/step - loss: 21.2929 - accuracy: 0.5000 - val_loss: 0.0000e+00 - val_accuracy: 1.0000\n",
            "Epoch 22/100\n",
            "1/1 [==============================] - ETA: 0s - loss: 25.7529 - accuracy: 0.2500\n",
            "Epoch 22: val_loss did not improve from 0.00000\n",
            "1/1 [==============================] - 0s 27ms/step - loss: 25.7529 - accuracy: 0.2500 - val_loss: 0.0000e+00 - val_accuracy: 1.0000\n",
            "Epoch 23/100\n",
            "1/1 [==============================] - ETA: 0s - loss: 42.7051 - accuracy: 0.7500\n",
            "Epoch 23: val_loss did not improve from 0.00000\n",
            "1/1 [==============================] - 0s 30ms/step - loss: 42.7051 - accuracy: 0.7500 - val_loss: 0.0000e+00 - val_accuracy: 1.0000\n",
            "Epoch 24/100\n",
            "1/1 [==============================] - ETA: 0s - loss: 33.8459 - accuracy: 0.7500\n",
            "Epoch 24: val_loss did not improve from 0.00000\n",
            "1/1 [==============================] - 0s 31ms/step - loss: 33.8459 - accuracy: 0.7500 - val_loss: 0.0000e+00 - val_accuracy: 1.0000\n",
            "Epoch 25/100\n",
            "1/1 [==============================] - ETA: 0s - loss: 28.7620 - accuracy: 0.2500\n",
            "Epoch 25: val_loss did not improve from 0.00000\n",
            "1/1 [==============================] - 0s 26ms/step - loss: 28.7620 - accuracy: 0.2500 - val_loss: 0.0000e+00 - val_accuracy: 1.0000\n",
            "Epoch 26/100\n",
            "1/1 [==============================] - ETA: 0s - loss: 29.3790 - accuracy: 0.2500\n",
            "Epoch 26: val_loss did not improve from 0.00000\n",
            "1/1 [==============================] - 0s 28ms/step - loss: 29.3790 - accuracy: 0.2500 - val_loss: 0.0000e+00 - val_accuracy: 1.0000\n",
            "Epoch 27/100\n",
            "1/1 [==============================] - ETA: 0s - loss: 37.0995 - accuracy: 0.5000\n",
            "Epoch 27: val_loss did not improve from 0.00000\n",
            "1/1 [==============================] - 0s 27ms/step - loss: 37.0995 - accuracy: 0.5000 - val_loss: 0.0000e+00 - val_accuracy: 1.0000\n",
            "Epoch 28/100\n",
            "1/1 [==============================] - ETA: 0s - loss: 67.3089 - accuracy: 0.5000\n",
            "Epoch 28: val_loss did not improve from 0.00000\n",
            "1/1 [==============================] - 0s 28ms/step - loss: 67.3089 - accuracy: 0.5000 - val_loss: 0.0000e+00 - val_accuracy: 1.0000\n",
            "Epoch 29/100\n",
            "1/1 [==============================] - ETA: 0s - loss: 51.8628 - accuracy: 0.2500\n",
            "Epoch 29: val_loss did not improve from 0.00000\n",
            "1/1 [==============================] - 0s 36ms/step - loss: 51.8628 - accuracy: 0.2500 - val_loss: 0.0000e+00 - val_accuracy: 1.0000\n",
            "Epoch 30/100\n",
            "1/1 [==============================] - ETA: 0s - loss: 22.6650 - accuracy: 0.5000\n",
            "Epoch 30: val_loss did not improve from 0.00000\n",
            "1/1 [==============================] - 0s 28ms/step - loss: 22.6650 - accuracy: 0.5000 - val_loss: 0.0000e+00 - val_accuracy: 1.0000\n",
            "Epoch 31/100\n",
            "1/1 [==============================] - ETA: 0s - loss: 7.6846e-04 - accuracy: 1.0000\n",
            "Epoch 31: val_loss did not improve from 0.00000\n",
            "1/1 [==============================] - 0s 31ms/step - loss: 7.6846e-04 - accuracy: 1.0000 - val_loss: 0.0000e+00 - val_accuracy: 1.0000\n",
            "Epoch 32/100\n",
            "1/1 [==============================] - ETA: 0s - loss: 23.4765 - accuracy: 0.7500\n",
            "Epoch 32: val_loss did not improve from 0.00000\n",
            "1/1 [==============================] - 0s 29ms/step - loss: 23.4765 - accuracy: 0.7500 - val_loss: 0.0000e+00 - val_accuracy: 1.0000\n",
            "Epoch 33/100\n",
            "1/1 [==============================] - ETA: 0s - loss: 62.5689 - accuracy: 0.0000e+00\n",
            "Epoch 33: val_loss did not improve from 0.00000\n",
            "1/1 [==============================] - 0s 33ms/step - loss: 62.5689 - accuracy: 0.0000e+00 - val_loss: 0.0000e+00 - val_accuracy: 1.0000\n",
            "Epoch 34/100\n",
            "1/1 [==============================] - ETA: 0s - loss: 40.6691 - accuracy: 0.2500\n",
            "Epoch 34: val_loss did not improve from 0.00000\n",
            "1/1 [==============================] - 0s 32ms/step - loss: 40.6691 - accuracy: 0.2500 - val_loss: 0.0000e+00 - val_accuracy: 1.0000\n",
            "Epoch 35/100\n",
            "1/1 [==============================] - ETA: 0s - loss: 13.4746 - accuracy: 0.5000\n",
            "Epoch 35: val_loss did not improve from 0.00000\n",
            "1/1 [==============================] - 0s 35ms/step - loss: 13.4746 - accuracy: 0.5000 - val_loss: 0.0000e+00 - val_accuracy: 1.0000\n",
            "Epoch 36/100\n",
            "1/1 [==============================] - ETA: 0s - loss: 79.3732 - accuracy: 0.2500\n",
            "Epoch 36: val_loss did not improve from 0.00000\n",
            "1/1 [==============================] - 0s 30ms/step - loss: 79.3732 - accuracy: 0.2500 - val_loss: 0.0000e+00 - val_accuracy: 1.0000\n",
            "Epoch 37/100\n",
            "1/1 [==============================] - ETA: 0s - loss: 19.8044 - accuracy: 0.5000\n",
            "Epoch 37: val_loss did not improve from 0.00000\n",
            "1/1 [==============================] - 0s 28ms/step - loss: 19.8044 - accuracy: 0.5000 - val_loss: 0.0000e+00 - val_accuracy: 1.0000\n",
            "Epoch 38/100\n",
            "1/1 [==============================] - ETA: 0s - loss: 81.7371 - accuracy: 0.5000\n",
            "Epoch 38: val_loss did not improve from 0.00000\n",
            "1/1 [==============================] - 0s 26ms/step - loss: 81.7371 - accuracy: 0.5000 - val_loss: 0.0000e+00 - val_accuracy: 1.0000\n",
            "Epoch 39/100\n",
            "1/1 [==============================] - ETA: 0s - loss: 33.0229 - accuracy: 0.5000\n",
            "Epoch 39: val_loss did not improve from 0.00000\n",
            "1/1 [==============================] - 0s 33ms/step - loss: 33.0229 - accuracy: 0.5000 - val_loss: 0.0000e+00 - val_accuracy: 1.0000\n",
            "Epoch 40/100\n",
            "1/1 [==============================] - ETA: 0s - loss: 49.6207 - accuracy: 0.0000e+00\n",
            "Epoch 40: val_loss did not improve from 0.00000\n",
            "1/1 [==============================] - 0s 31ms/step - loss: 49.6207 - accuracy: 0.0000e+00 - val_loss: 0.0000e+00 - val_accuracy: 1.0000\n",
            "Epoch 41/100\n",
            "1/1 [==============================] - ETA: 0s - loss: 67.0589 - accuracy: 0.2500\n",
            "Epoch 41: val_loss did not improve from 0.00000\n",
            "1/1 [==============================] - 0s 30ms/step - loss: 67.0589 - accuracy: 0.2500 - val_loss: 0.0000e+00 - val_accuracy: 1.0000\n",
            "Epoch 42/100\n",
            "1/1 [==============================] - ETA: 0s - loss: 63.6817 - accuracy: 0.5000\n",
            "Epoch 42: val_loss did not improve from 0.00000\n",
            "1/1 [==============================] - 0s 31ms/step - loss: 63.6817 - accuracy: 0.5000 - val_loss: 0.0000e+00 - val_accuracy: 1.0000\n",
            "Epoch 43/100\n",
            "1/1 [==============================] - ETA: 0s - loss: 86.1245 - accuracy: 0.2500\n",
            "Epoch 43: val_loss did not improve from 0.00000\n",
            "1/1 [==============================] - 0s 31ms/step - loss: 86.1245 - accuracy: 0.2500 - val_loss: 0.0000e+00 - val_accuracy: 1.0000\n",
            "Epoch 44/100\n",
            "1/1 [==============================] - ETA: 0s - loss: 23.9498 - accuracy: 0.5000\n",
            "Epoch 44: val_loss did not improve from 0.00000\n",
            "1/1 [==============================] - 0s 29ms/step - loss: 23.9498 - accuracy: 0.5000 - val_loss: 0.0000e+00 - val_accuracy: 1.0000\n",
            "Epoch 45/100\n",
            "1/1 [==============================] - ETA: 0s - loss: 29.4253 - accuracy: 0.2500\n",
            "Epoch 45: val_loss did not improve from 0.00000\n",
            "1/1 [==============================] - 0s 26ms/step - loss: 29.4253 - accuracy: 0.2500 - val_loss: 0.0000e+00 - val_accuracy: 1.0000\n",
            "Epoch 46/100\n",
            "1/1 [==============================] - ETA: 0s - loss: 27.1942 - accuracy: 0.5000\n",
            "Epoch 46: val_loss did not improve from 0.00000\n",
            "1/1 [==============================] - 0s 35ms/step - loss: 27.1942 - accuracy: 0.5000 - val_loss: 0.0000e+00 - val_accuracy: 1.0000\n",
            "Epoch 47/100\n",
            "1/1 [==============================] - ETA: 0s - loss: 8.9098 - accuracy: 0.5000\n",
            "Epoch 47: val_loss did not improve from 0.00000\n",
            "1/1 [==============================] - 0s 47ms/step - loss: 8.9098 - accuracy: 0.5000 - val_loss: 0.0000e+00 - val_accuracy: 1.0000\n",
            "Epoch 48/100\n",
            "1/1 [==============================] - ETA: 0s - loss: 1.8077 - accuracy: 0.7500\n",
            "Epoch 48: val_loss did not improve from 0.00000\n",
            "1/1 [==============================] - 0s 29ms/step - loss: 1.8077 - accuracy: 0.7500 - val_loss: 0.0000e+00 - val_accuracy: 1.0000\n",
            "Epoch 49/100\n",
            "1/1 [==============================] - ETA: 0s - loss: 54.8370 - accuracy: 0.5000\n",
            "Epoch 49: val_loss did not improve from 0.00000\n",
            "1/1 [==============================] - 0s 31ms/step - loss: 54.8370 - accuracy: 0.5000 - val_loss: 5.9605e-08 - val_accuracy: 1.0000\n",
            "Epoch 50/100\n",
            "1/1 [==============================] - ETA: 0s - loss: 21.8792 - accuracy: 0.2500\n",
            "Epoch 50: val_loss did not improve from 0.00000\n",
            "1/1 [==============================] - 0s 31ms/step - loss: 21.8792 - accuracy: 0.2500 - val_loss: 1.7881e-07 - val_accuracy: 1.0000\n",
            "Epoch 51/100\n",
            "1/1 [==============================] - ETA: 0s - loss: 28.6618 - accuracy: 0.2500\n",
            "Epoch 51: val_loss did not improve from 0.00000\n",
            "1/1 [==============================] - 0s 28ms/step - loss: 28.6618 - accuracy: 0.2500 - val_loss: 2.3842e-07 - val_accuracy: 1.0000\n",
            "Epoch 52/100\n",
            "1/1 [==============================] - ETA: 0s - loss: 39.8619 - accuracy: 0.5000\n",
            "Epoch 52: val_loss did not improve from 0.00000\n",
            "1/1 [==============================] - 0s 31ms/step - loss: 39.8619 - accuracy: 0.5000 - val_loss: 2.3842e-07 - val_accuracy: 1.0000\n",
            "Epoch 53/100\n",
            "1/1 [==============================] - ETA: 0s - loss: 22.8190 - accuracy: 0.2500\n",
            "Epoch 53: val_loss did not improve from 0.00000\n",
            "1/1 [==============================] - 0s 30ms/step - loss: 22.8190 - accuracy: 0.2500 - val_loss: 1.7881e-07 - val_accuracy: 1.0000\n",
            "Epoch 54/100\n",
            "1/1 [==============================] - ETA: 0s - loss: 13.9800 - accuracy: 0.2500\n",
            "Epoch 54: val_loss did not improve from 0.00000\n",
            "1/1 [==============================] - 0s 29ms/step - loss: 13.9800 - accuracy: 0.2500 - val_loss: 5.9605e-08 - val_accuracy: 1.0000\n",
            "Epoch 55/100\n",
            "1/1 [==============================] - ETA: 0s - loss: 15.6037 - accuracy: 0.5000\n",
            "Epoch 55: val_loss did not improve from 0.00000\n",
            "1/1 [==============================] - 0s 38ms/step - loss: 15.6037 - accuracy: 0.5000 - val_loss: 0.0000e+00 - val_accuracy: 1.0000\n",
            "Epoch 56/100\n",
            "1/1 [==============================] - ETA: 0s - loss: 79.8908 - accuracy: 0.2500\n",
            "Epoch 56: val_loss did not improve from 0.00000\n",
            "1/1 [==============================] - 0s 32ms/step - loss: 79.8908 - accuracy: 0.2500 - val_loss: 0.0000e+00 - val_accuracy: 1.0000\n",
            "Epoch 57/100\n",
            "1/1 [==============================] - ETA: 0s - loss: 22.6099 - accuracy: 0.5000\n",
            "Epoch 57: val_loss did not improve from 0.00000\n",
            "1/1 [==============================] - 0s 32ms/step - loss: 22.6099 - accuracy: 0.5000 - val_loss: 0.0000e+00 - val_accuracy: 1.0000\n",
            "Epoch 58/100\n",
            "1/1 [==============================] - ETA: 0s - loss: 38.4938 - accuracy: 0.2500\n",
            "Epoch 58: val_loss did not improve from 0.00000\n",
            "1/1 [==============================] - 0s 33ms/step - loss: 38.4938 - accuracy: 0.2500 - val_loss: 0.0000e+00 - val_accuracy: 1.0000\n",
            "Epoch 59/100\n",
            "1/1 [==============================] - ETA: 0s - loss: 22.0296 - accuracy: 0.5000\n",
            "Epoch 59: val_loss did not improve from 0.00000\n",
            "1/1 [==============================] - 0s 31ms/step - loss: 22.0296 - accuracy: 0.5000 - val_loss: 0.0000e+00 - val_accuracy: 1.0000\n",
            "Epoch 60/100\n",
            "1/1 [==============================] - ETA: 0s - loss: 92.1179 - accuracy: 0.2500\n",
            "Epoch 60: val_loss did not improve from 0.00000\n",
            "1/1 [==============================] - 0s 32ms/step - loss: 92.1179 - accuracy: 0.2500 - val_loss: 0.0000e+00 - val_accuracy: 1.0000\n",
            "Epoch 61/100\n",
            "1/1 [==============================] - ETA: 0s - loss: 47.1204 - accuracy: 0.2500\n",
            "Epoch 61: val_loss did not improve from 0.00000\n",
            "1/1 [==============================] - 0s 31ms/step - loss: 47.1204 - accuracy: 0.2500 - val_loss: 0.0000e+00 - val_accuracy: 1.0000\n",
            "Epoch 62/100\n",
            "1/1 [==============================] - ETA: 0s - loss: 11.2595 - accuracy: 0.5000\n",
            "Epoch 62: val_loss did not improve from 0.00000\n",
            "1/1 [==============================] - 0s 46ms/step - loss: 11.2595 - accuracy: 0.5000 - val_loss: 0.0000e+00 - val_accuracy: 1.0000\n",
            "Epoch 63/100\n",
            "1/1 [==============================] - ETA: 0s - loss: 43.4181 - accuracy: 0.2500\n",
            "Epoch 63: val_loss did not improve from 0.00000\n",
            "1/1 [==============================] - 0s 36ms/step - loss: 43.4181 - accuracy: 0.2500 - val_loss: 0.0000e+00 - val_accuracy: 1.0000\n",
            "Epoch 64/100\n",
            "1/1 [==============================] - ETA: 0s - loss: 31.4292 - accuracy: 0.2500\n",
            "Epoch 64: val_loss did not improve from 0.00000\n",
            "1/1 [==============================] - 0s 27ms/step - loss: 31.4292 - accuracy: 0.2500 - val_loss: 0.0000e+00 - val_accuracy: 1.0000\n",
            "Epoch 65/100\n",
            "1/1 [==============================] - ETA: 0s - loss: 39.6019 - accuracy: 0.2500\n",
            "Epoch 65: val_loss did not improve from 0.00000\n",
            "1/1 [==============================] - 0s 29ms/step - loss: 39.6019 - accuracy: 0.2500 - val_loss: 0.0000e+00 - val_accuracy: 1.0000\n",
            "Epoch 66/100\n",
            "1/1 [==============================] - ETA: 0s - loss: 35.4235 - accuracy: 0.2500\n",
            "Epoch 66: val_loss did not improve from 0.00000\n",
            "1/1 [==============================] - 0s 26ms/step - loss: 35.4235 - accuracy: 0.2500 - val_loss: 0.0000e+00 - val_accuracy: 1.0000\n",
            "Epoch 67/100\n",
            "1/1 [==============================] - ETA: 0s - loss: 2.0655 - accuracy: 0.7500\n",
            "Epoch 67: val_loss did not improve from 0.00000\n",
            "1/1 [==============================] - 0s 28ms/step - loss: 2.0655 - accuracy: 0.7500 - val_loss: 0.0000e+00 - val_accuracy: 1.0000\n",
            "Epoch 68/100\n",
            "1/1 [==============================] - ETA: 0s - loss: 43.5068 - accuracy: 0.5000\n",
            "Epoch 68: val_loss did not improve from 0.00000\n",
            "1/1 [==============================] - 0s 28ms/step - loss: 43.5068 - accuracy: 0.5000 - val_loss: 0.0000e+00 - val_accuracy: 1.0000\n",
            "Epoch 69/100\n",
            "1/1 [==============================] - ETA: 0s - loss: 37.2426 - accuracy: 0.2500\n",
            "Epoch 69: val_loss did not improve from 0.00000\n",
            "1/1 [==============================] - 0s 33ms/step - loss: 37.2426 - accuracy: 0.2500 - val_loss: 0.0000e+00 - val_accuracy: 1.0000\n",
            "Epoch 70/100\n",
            "1/1 [==============================] - ETA: 0s - loss: 51.6575 - accuracy: 0.2500\n",
            "Epoch 70: val_loss did not improve from 0.00000\n",
            "1/1 [==============================] - 0s 39ms/step - loss: 51.6575 - accuracy: 0.2500 - val_loss: 0.0000e+00 - val_accuracy: 1.0000\n",
            "Epoch 71/100\n",
            "1/1 [==============================] - ETA: 0s - loss: 7.6136 - accuracy: 0.7500\n",
            "Epoch 71: val_loss did not improve from 0.00000\n",
            "1/1 [==============================] - 0s 36ms/step - loss: 7.6136 - accuracy: 0.7500 - val_loss: 0.0000e+00 - val_accuracy: 1.0000\n",
            "Epoch 72/100\n",
            "1/1 [==============================] - ETA: 0s - loss: 0.0131 - accuracy: 1.0000\n",
            "Epoch 72: val_loss did not improve from 0.00000\n",
            "1/1 [==============================] - 0s 29ms/step - loss: 0.0131 - accuracy: 1.0000 - val_loss: 0.0000e+00 - val_accuracy: 1.0000\n",
            "Epoch 73/100\n",
            "1/1 [==============================] - ETA: 0s - loss: 65.2471 - accuracy: 0.0000e+00\n",
            "Epoch 73: val_loss did not improve from 0.00000\n",
            "1/1 [==============================] - 0s 28ms/step - loss: 65.2471 - accuracy: 0.0000e+00 - val_loss: 0.0000e+00 - val_accuracy: 1.0000\n",
            "Epoch 74/100\n",
            "1/1 [==============================] - ETA: 0s - loss: 33.8156 - accuracy: 0.5000\n",
            "Epoch 74: val_loss did not improve from 0.00000\n",
            "1/1 [==============================] - 0s 30ms/step - loss: 33.8156 - accuracy: 0.5000 - val_loss: 0.0000e+00 - val_accuracy: 1.0000\n",
            "Epoch 75/100\n",
            "1/1 [==============================] - ETA: 0s - loss: 43.3315 - accuracy: 0.2500\n",
            "Epoch 75: val_loss did not improve from 0.00000\n",
            "1/1 [==============================] - 0s 28ms/step - loss: 43.3315 - accuracy: 0.2500 - val_loss: 0.0000e+00 - val_accuracy: 1.0000\n",
            "Epoch 76/100\n",
            "1/1 [==============================] - ETA: 0s - loss: 13.8867 - accuracy: 0.5000\n",
            "Epoch 76: val_loss did not improve from 0.00000\n",
            "1/1 [==============================] - 0s 32ms/step - loss: 13.8867 - accuracy: 0.5000 - val_loss: 0.0000e+00 - val_accuracy: 1.0000\n",
            "Epoch 77/100\n",
            "1/1 [==============================] - ETA: 0s - loss: 56.5359 - accuracy: 0.2500\n",
            "Epoch 77: val_loss did not improve from 0.00000\n",
            "1/1 [==============================] - 0s 35ms/step - loss: 56.5359 - accuracy: 0.2500 - val_loss: 0.0000e+00 - val_accuracy: 1.0000\n",
            "Epoch 78/100\n",
            "1/1 [==============================] - ETA: 0s - loss: 23.6821 - accuracy: 0.5000\n",
            "Epoch 78: val_loss did not improve from 0.00000\n",
            "1/1 [==============================] - 0s 29ms/step - loss: 23.6821 - accuracy: 0.5000 - val_loss: 0.0000e+00 - val_accuracy: 1.0000\n",
            "Epoch 79/100\n",
            "1/1 [==============================] - ETA: 0s - loss: 28.2025 - accuracy: 0.5000\n",
            "Epoch 79: val_loss did not improve from 0.00000\n",
            "1/1 [==============================] - 0s 37ms/step - loss: 28.2025 - accuracy: 0.5000 - val_loss: 0.0000e+00 - val_accuracy: 1.0000\n",
            "Epoch 80/100\n",
            "1/1 [==============================] - ETA: 0s - loss: 17.8995 - accuracy: 0.7500\n",
            "Epoch 80: val_loss did not improve from 0.00000\n",
            "1/1 [==============================] - 0s 27ms/step - loss: 17.8995 - accuracy: 0.7500 - val_loss: 0.0000e+00 - val_accuracy: 1.0000\n",
            "Epoch 81/100\n",
            "1/1 [==============================] - ETA: 0s - loss: 36.8268 - accuracy: 0.7500\n",
            "Epoch 81: val_loss did not improve from 0.00000\n",
            "1/1 [==============================] - 0s 29ms/step - loss: 36.8268 - accuracy: 0.7500 - val_loss: 5.9605e-08 - val_accuracy: 1.0000\n",
            "Epoch 82/100\n",
            "1/1 [==============================] - ETA: 0s - loss: 77.1058 - accuracy: 0.2500\n",
            "Epoch 82: val_loss did not improve from 0.00000\n",
            "1/1 [==============================] - 0s 33ms/step - loss: 77.1058 - accuracy: 0.2500 - val_loss: 9.5367e-07 - val_accuracy: 1.0000\n",
            "Epoch 83/100\n",
            "1/1 [==============================] - ETA: 0s - loss: 10.3222 - accuracy: 0.7500\n",
            "Epoch 83: val_loss did not improve from 0.00000\n",
            "1/1 [==============================] - 0s 34ms/step - loss: 10.3222 - accuracy: 0.7500 - val_loss: 1.1444e-05 - val_accuracy: 1.0000\n",
            "Epoch 84/100\n",
            "1/1 [==============================] - ETA: 0s - loss: 41.6370 - accuracy: 0.5000\n",
            "Epoch 84: val_loss did not improve from 0.00000\n",
            "1/1 [==============================] - 0s 30ms/step - loss: 41.6370 - accuracy: 0.5000 - val_loss: 2.6446e-04 - val_accuracy: 1.0000\n",
            "Epoch 85/100\n",
            "1/1 [==============================] - ETA: 0s - loss: 30.7054 - accuracy: 0.2500\n",
            "Epoch 85: val_loss did not improve from 0.00000\n",
            "1/1 [==============================] - 0s 29ms/step - loss: 30.7054 - accuracy: 0.2500 - val_loss: 0.0061 - val_accuracy: 1.0000\n",
            "Epoch 86/100\n",
            "1/1 [==============================] - ETA: 0s - loss: 24.4390 - accuracy: 0.2500\n",
            "Epoch 86: val_loss did not improve from 0.00000\n",
            "1/1 [==============================] - 0s 34ms/step - loss: 24.4390 - accuracy: 0.2500 - val_loss: 0.0477 - val_accuracy: 1.0000\n",
            "Epoch 87/100\n",
            "1/1 [==============================] - ETA: 0s - loss: 35.7161 - accuracy: 0.2500\n",
            "Epoch 87: val_loss did not improve from 0.00000\n",
            "1/1 [==============================] - 0s 29ms/step - loss: 35.7161 - accuracy: 0.2500 - val_loss: 0.1360 - val_accuracy: 1.0000\n",
            "Epoch 88/100\n",
            "1/1 [==============================] - ETA: 0s - loss: 6.6870 - accuracy: 0.7500\n",
            "Epoch 88: val_loss did not improve from 0.00000\n",
            "1/1 [==============================] - 0s 30ms/step - loss: 6.6870 - accuracy: 0.7500 - val_loss: 0.2617 - val_accuracy: 1.0000\n",
            "Epoch 89/100\n",
            "1/1 [==============================] - ETA: 0s - loss: 58.8241 - accuracy: 0.5000\n",
            "Epoch 89: val_loss did not improve from 0.00000\n",
            "1/1 [==============================] - 0s 31ms/step - loss: 58.8241 - accuracy: 0.5000 - val_loss: 0.5306 - val_accuracy: 0.5000\n",
            "Epoch 90/100\n",
            "1/1 [==============================] - ETA: 0s - loss: 16.3043 - accuracy: 0.5000\n",
            "Epoch 90: val_loss did not improve from 0.00000\n",
            "1/1 [==============================] - 0s 30ms/step - loss: 16.3043 - accuracy: 0.5000 - val_loss: 0.8451 - val_accuracy: 0.5000\n",
            "Epoch 91/100\n",
            "1/1 [==============================] - ETA: 0s - loss: 5.2176 - accuracy: 0.7500\n",
            "Epoch 91: val_loss did not improve from 0.00000\n",
            "1/1 [==============================] - 0s 32ms/step - loss: 5.2176 - accuracy: 0.7500 - val_loss: 1.0979 - val_accuracy: 0.5000\n",
            "Epoch 92/100\n",
            "1/1 [==============================] - ETA: 0s - loss: 68.6500 - accuracy: 0.2500\n",
            "Epoch 92: val_loss did not improve from 0.00000\n",
            "1/1 [==============================] - 0s 40ms/step - loss: 68.6500 - accuracy: 0.2500 - val_loss: 1.2361 - val_accuracy: 0.5000\n",
            "Epoch 93/100\n",
            "1/1 [==============================] - ETA: 0s - loss: 44.5294 - accuracy: 0.2500\n",
            "Epoch 93: val_loss did not improve from 0.00000\n",
            "1/1 [==============================] - 0s 30ms/step - loss: 44.5294 - accuracy: 0.2500 - val_loss: 1.3341 - val_accuracy: 0.5000\n",
            "Epoch 94/100\n",
            "1/1 [==============================] - ETA: 0s - loss: 39.8291 - accuracy: 0.2500\n",
            "Epoch 94: val_loss did not improve from 0.00000\n",
            "1/1 [==============================] - 0s 30ms/step - loss: 39.8291 - accuracy: 0.2500 - val_loss: 1.4071 - val_accuracy: 0.5000\n",
            "Epoch 95/100\n",
            "1/1 [==============================] - ETA: 0s - loss: 13.8552 - accuracy: 0.5000\n",
            "Epoch 95: val_loss did not improve from 0.00000\n",
            "1/1 [==============================] - 0s 33ms/step - loss: 13.8552 - accuracy: 0.5000 - val_loss: 1.5049 - val_accuracy: 0.5000\n",
            "Epoch 96/100\n",
            "1/1 [==============================] - ETA: 0s - loss: 20.9424 - accuracy: 0.5000\n",
            "Epoch 96: val_loss did not improve from 0.00000\n",
            "1/1 [==============================] - 0s 32ms/step - loss: 20.9424 - accuracy: 0.5000 - val_loss: 1.5573 - val_accuracy: 0.5000\n",
            "Epoch 97/100\n",
            "1/1 [==============================] - ETA: 0s - loss: 39.6909 - accuracy: 0.2500\n",
            "Epoch 97: val_loss did not improve from 0.00000\n",
            "1/1 [==============================] - 0s 35ms/step - loss: 39.6909 - accuracy: 0.2500 - val_loss: 1.5363 - val_accuracy: 0.5000\n",
            "Epoch 98/100\n",
            "1/1 [==============================] - ETA: 0s - loss: 51.3836 - accuracy: 0.5000\n",
            "Epoch 98: val_loss did not improve from 0.00000\n",
            "1/1 [==============================] - 0s 27ms/step - loss: 51.3836 - accuracy: 0.5000 - val_loss: 1.3963 - val_accuracy: 0.5000\n",
            "Epoch 99/100\n",
            "1/1 [==============================] - ETA: 0s - loss: 0.0000e+00 - accuracy: 1.0000\n",
            "Epoch 99: val_loss did not improve from 0.00000\n",
            "1/1 [==============================] - 0s 29ms/step - loss: 0.0000e+00 - accuracy: 1.0000 - val_loss: 1.2760 - val_accuracy: 0.5000\n",
            "Epoch 100/100\n",
            "1/1 [==============================] - ETA: 0s - loss: 25.1214 - accuracy: 0.2500\n",
            "Epoch 100: val_loss did not improve from 0.00000\n",
            "1/1 [==============================] - 0s 27ms/step - loss: 25.1214 - accuracy: 0.2500 - val_loss: 0.9978 - val_accuracy: 0.5000\n",
            "Training completed in time:  0:00:04.966875\n"
          ]
        }
      ],
      "source": [
        "## Trianing my model\n",
        "from tensorflow.keras.callbacks import ModelCheckpoint\n",
        "from datetime import datetime \n",
        "\n",
        "num_epochs = 100\n",
        "num_batch_size = 32\n",
        "\n",
        "checkpointer = ModelCheckpoint(filepath='saved_models/audio_classification.hdf5', \n",
        "                               verbose=1, save_best_only=True)\n",
        "start = datetime.now()\n",
        "\n",
        "model.fit(X_train, y_train, batch_size=num_batch_size, epochs=num_epochs, validation_data=(X_test, y_test), callbacks=[checkpointer], verbose=1)\n",
        "\n",
        "\n",
        "duration = datetime.now() - start\n",
        "print(\"Training completed in time: \", duration)"
      ]
    },
    {
      "cell_type": "code",
      "execution_count": null,
      "metadata": {
        "id": "virgin-butter",
        "outputId": "be669da1-3731-452d-ca66-f436c05b798c",
        "colab": {
          "base_uri": "https://localhost:8080/"
        }
      },
      "outputs": [
        {
          "output_type": "stream",
          "name": "stdout",
          "text": [
            "0.5\n"
          ]
        }
      ],
      "source": [
        "test_accuracy=model.evaluate(X_test,y_test,verbose=0)\n",
        "print(test_accuracy[1])"
      ]
    },
    {
      "cell_type": "code",
      "source": [
        "mm = model.predict(X_test)\n",
        "mm.shape"
      ],
      "metadata": {
        "colab": {
          "base_uri": "https://localhost:8080/"
        },
        "id": "Td8dhEhukBxn",
        "outputId": "1f68d4b7-15f2-46e8-a8ca-d0ef3fd470d8"
      },
      "execution_count": null,
      "outputs": [
        {
          "output_type": "stream",
          "name": "stdout",
          "text": [
            "1/1 [==============================] - 0s 79ms/step\n"
          ]
        },
        {
          "output_type": "execute_result",
          "data": {
            "text/plain": [
              "(2, 3)"
            ]
          },
          "metadata": {},
          "execution_count": 59
        }
      ]
    },
    {
      "cell_type": "markdown",
      "metadata": {
        "id": "advanced-booth"
      },
      "source": [
        "### Testing Some Test Audio Data\n",
        "\n",
        "Steps\n",
        "- Preprocess the new audio data\n",
        "- predict the classes\n",
        "- Invere transform your Predicted Label"
      ]
    },
    {
      "cell_type": "markdown",
      "source": [
        "# predict basico"
      ],
      "metadata": {
        "id": "PZ9kJFMwSHHI"
      }
    },
    {
      "cell_type": "code",
      "source": [
        "filename=\"datathon2022/dataset1/837d2f6c7a0a5a12f78c3c7770d9329d.ogg\"\n",
        "prediction_feature=features_extractor(filename)\n",
        "prediction_feature=prediction_feature.reshape(1,-1)\n",
        "predicted_label = np.argmax((model.predict(prediction_feature) > 0.5).astype(\"int32\"))\n",
        "predicted_label"
      ],
      "metadata": {
        "colab": {
          "base_uri": "https://localhost:8080/"
        },
        "id": "hhHHOuv_RGUK",
        "outputId": "4d62d236-2e6c-4cda-caa6-680754830fa1"
      },
      "execution_count": null,
      "outputs": [
        {
          "output_type": "stream",
          "name": "stdout",
          "text": [
            "170289\n",
            "171296\n",
            "1/1 [==============================] - 0s 17ms/step\n"
          ]
        },
        {
          "output_type": "stream",
          "name": "stderr",
          "text": [
            "/usr/local/lib/python3.7/dist-packages/librosa/core/spectrum.py:224: UserWarning: n_fft=2048 is too small for input signal of length=1007\n",
            "  n_fft, y.shape[-1]\n"
          ]
        },
        {
          "output_type": "execute_result",
          "data": {
            "text/plain": [
              "1"
            ]
          },
          "metadata": {},
          "execution_count": 60
        }
      ]
    },
    {
      "cell_type": "code",
      "source": [
        "metadata['label'].unique()"
      ],
      "metadata": {
        "colab": {
          "base_uri": "https://localhost:8080/"
        },
        "id": "S27LP2xARrka",
        "outputId": "cf64a114-8cbf-418e-fb6c-6d6b6151bd8b"
      },
      "execution_count": null,
      "outputs": [
        {
          "output_type": "execute_result",
          "data": {
            "text/plain": [
              "array(['whistle', 'cetaceans_allfreq', 'click', 'volcano', 'allfreq'],\n",
              "      dtype=object)"
            ]
          },
          "metadata": {},
          "execution_count": 61
        }
      ]
    },
    {
      "cell_type": "code",
      "source": [
        "metadata.loc[metadata['label'] == 'allfreq']"
      ],
      "metadata": {
        "colab": {
          "base_uri": "https://localhost:8080/",
          "height": 771
        },
        "id": "RmisDbQWtL8M",
        "outputId": "06e79bae-8a81-4908-fb9d-8f16b3e72f77"
      },
      "execution_count": null,
      "outputs": [
        {
          "output_type": "execute_result",
          "data": {
            "text/plain": [
              "                                  path    start  duration      end    label\n",
              "221   083edafa2b1d1f1944018ca7d2e28e97    0.000   294.000  294.000  allfreq\n",
              "786   245a8148f8afda758a43b30478793e92  241.852     2.000  243.852  allfreq\n",
              "795   262aa20c6a2f1292750f785486bfb98f  269.408     0.500  269.908  allfreq\n",
              "915   26b3c41ece551cb8d113bff30d6178c6   68.359     0.200   68.559  allfreq\n",
              "945   2a1adb8d907b5ef1808260ac802c73a3   11.482     0.400   11.882  allfreq\n",
              "946   2a1adb8d907b5ef1808260ac802c73a3  209.482     0.500  209.982  allfreq\n",
              "1144  3325a2b6ae0d9035fb2bf0fa39777e96  289.762     4.238  294.000  allfreq\n",
              "1367  3b3bf17294770aea63330fa3708c5007   43.136    17.400   60.536  allfreq\n",
              "1391  3cd0b73a58e257e35a2158cb49e0af54  120.926     1.500  122.426  allfreq\n",
              "1504  429b916d8ee9600e6b2edb969b92fc9c  263.556     0.400  263.956  allfreq\n",
              "1505  429b916d8ee9600e6b2edb969b92fc9c  269.556     0.500  270.056  allfreq\n",
              "1708  5326f9894ebc588e584f113caa30359c  239.852     0.500  240.352  allfreq\n",
              "2168  66b8d11a31add433d4c6744af52ce73c  205.260    88.740  294.000  allfreq\n",
              "2176  67516106168dbcb8129677bf9b538163    0.000   294.000  294.000  allfreq\n",
              "2181  67f646a12a7ad0005d53917b4377c834  246.000     0.400  246.400  allfreq\n",
              "2721  8128687fe56c859148540bb7500b2548   22.290     0.300   22.590  allfreq\n",
              "2894  88c628450ec414802fb3a27848bb106e    0.000   294.000  294.000  allfreq\n",
              "2943  8a195cb26c728fc13cec0f013a2fed5b    0.000     0.200    0.200  allfreq\n",
              "4204  b766fb3d6cbf712106804091adf67bf1   40.992     1.800   42.792  allfreq\n",
              "4548  d0bd68c670a1b9348a23ddaeec3ae11e  165.956   128.044  294.000  allfreq\n",
              "4988  e740a10cebadde8434daebfba1d7fc5a   89.704     0.500   90.204  allfreq\n",
              "5302  f50972e87a33bb48179025881a73e37d   11.630     0.400   12.030  allfreq\n",
              "5305  f50972e87a33bb48179025881a73e37d  131.630     0.500  132.130  allfreq"
            ],
            "text/html": [
              "\n",
              "  <div id=\"df-f4a0a760-fa68-4d45-8156-89112251aff8\">\n",
              "    <div class=\"colab-df-container\">\n",
              "      <div>\n",
              "<style scoped>\n",
              "    .dataframe tbody tr th:only-of-type {\n",
              "        vertical-align: middle;\n",
              "    }\n",
              "\n",
              "    .dataframe tbody tr th {\n",
              "        vertical-align: top;\n",
              "    }\n",
              "\n",
              "    .dataframe thead th {\n",
              "        text-align: right;\n",
              "    }\n",
              "</style>\n",
              "<table border=\"1\" class=\"dataframe\">\n",
              "  <thead>\n",
              "    <tr style=\"text-align: right;\">\n",
              "      <th></th>\n",
              "      <th>path</th>\n",
              "      <th>start</th>\n",
              "      <th>duration</th>\n",
              "      <th>end</th>\n",
              "      <th>label</th>\n",
              "    </tr>\n",
              "  </thead>\n",
              "  <tbody>\n",
              "    <tr>\n",
              "      <th>221</th>\n",
              "      <td>083edafa2b1d1f1944018ca7d2e28e97</td>\n",
              "      <td>0.000</td>\n",
              "      <td>294.000</td>\n",
              "      <td>294.000</td>\n",
              "      <td>allfreq</td>\n",
              "    </tr>\n",
              "    <tr>\n",
              "      <th>786</th>\n",
              "      <td>245a8148f8afda758a43b30478793e92</td>\n",
              "      <td>241.852</td>\n",
              "      <td>2.000</td>\n",
              "      <td>243.852</td>\n",
              "      <td>allfreq</td>\n",
              "    </tr>\n",
              "    <tr>\n",
              "      <th>795</th>\n",
              "      <td>262aa20c6a2f1292750f785486bfb98f</td>\n",
              "      <td>269.408</td>\n",
              "      <td>0.500</td>\n",
              "      <td>269.908</td>\n",
              "      <td>allfreq</td>\n",
              "    </tr>\n",
              "    <tr>\n",
              "      <th>915</th>\n",
              "      <td>26b3c41ece551cb8d113bff30d6178c6</td>\n",
              "      <td>68.359</td>\n",
              "      <td>0.200</td>\n",
              "      <td>68.559</td>\n",
              "      <td>allfreq</td>\n",
              "    </tr>\n",
              "    <tr>\n",
              "      <th>945</th>\n",
              "      <td>2a1adb8d907b5ef1808260ac802c73a3</td>\n",
              "      <td>11.482</td>\n",
              "      <td>0.400</td>\n",
              "      <td>11.882</td>\n",
              "      <td>allfreq</td>\n",
              "    </tr>\n",
              "    <tr>\n",
              "      <th>946</th>\n",
              "      <td>2a1adb8d907b5ef1808260ac802c73a3</td>\n",
              "      <td>209.482</td>\n",
              "      <td>0.500</td>\n",
              "      <td>209.982</td>\n",
              "      <td>allfreq</td>\n",
              "    </tr>\n",
              "    <tr>\n",
              "      <th>1144</th>\n",
              "      <td>3325a2b6ae0d9035fb2bf0fa39777e96</td>\n",
              "      <td>289.762</td>\n",
              "      <td>4.238</td>\n",
              "      <td>294.000</td>\n",
              "      <td>allfreq</td>\n",
              "    </tr>\n",
              "    <tr>\n",
              "      <th>1367</th>\n",
              "      <td>3b3bf17294770aea63330fa3708c5007</td>\n",
              "      <td>43.136</td>\n",
              "      <td>17.400</td>\n",
              "      <td>60.536</td>\n",
              "      <td>allfreq</td>\n",
              "    </tr>\n",
              "    <tr>\n",
              "      <th>1391</th>\n",
              "      <td>3cd0b73a58e257e35a2158cb49e0af54</td>\n",
              "      <td>120.926</td>\n",
              "      <td>1.500</td>\n",
              "      <td>122.426</td>\n",
              "      <td>allfreq</td>\n",
              "    </tr>\n",
              "    <tr>\n",
              "      <th>1504</th>\n",
              "      <td>429b916d8ee9600e6b2edb969b92fc9c</td>\n",
              "      <td>263.556</td>\n",
              "      <td>0.400</td>\n",
              "      <td>263.956</td>\n",
              "      <td>allfreq</td>\n",
              "    </tr>\n",
              "    <tr>\n",
              "      <th>1505</th>\n",
              "      <td>429b916d8ee9600e6b2edb969b92fc9c</td>\n",
              "      <td>269.556</td>\n",
              "      <td>0.500</td>\n",
              "      <td>270.056</td>\n",
              "      <td>allfreq</td>\n",
              "    </tr>\n",
              "    <tr>\n",
              "      <th>1708</th>\n",
              "      <td>5326f9894ebc588e584f113caa30359c</td>\n",
              "      <td>239.852</td>\n",
              "      <td>0.500</td>\n",
              "      <td>240.352</td>\n",
              "      <td>allfreq</td>\n",
              "    </tr>\n",
              "    <tr>\n",
              "      <th>2168</th>\n",
              "      <td>66b8d11a31add433d4c6744af52ce73c</td>\n",
              "      <td>205.260</td>\n",
              "      <td>88.740</td>\n",
              "      <td>294.000</td>\n",
              "      <td>allfreq</td>\n",
              "    </tr>\n",
              "    <tr>\n",
              "      <th>2176</th>\n",
              "      <td>67516106168dbcb8129677bf9b538163</td>\n",
              "      <td>0.000</td>\n",
              "      <td>294.000</td>\n",
              "      <td>294.000</td>\n",
              "      <td>allfreq</td>\n",
              "    </tr>\n",
              "    <tr>\n",
              "      <th>2181</th>\n",
              "      <td>67f646a12a7ad0005d53917b4377c834</td>\n",
              "      <td>246.000</td>\n",
              "      <td>0.400</td>\n",
              "      <td>246.400</td>\n",
              "      <td>allfreq</td>\n",
              "    </tr>\n",
              "    <tr>\n",
              "      <th>2721</th>\n",
              "      <td>8128687fe56c859148540bb7500b2548</td>\n",
              "      <td>22.290</td>\n",
              "      <td>0.300</td>\n",
              "      <td>22.590</td>\n",
              "      <td>allfreq</td>\n",
              "    </tr>\n",
              "    <tr>\n",
              "      <th>2894</th>\n",
              "      <td>88c628450ec414802fb3a27848bb106e</td>\n",
              "      <td>0.000</td>\n",
              "      <td>294.000</td>\n",
              "      <td>294.000</td>\n",
              "      <td>allfreq</td>\n",
              "    </tr>\n",
              "    <tr>\n",
              "      <th>2943</th>\n",
              "      <td>8a195cb26c728fc13cec0f013a2fed5b</td>\n",
              "      <td>0.000</td>\n",
              "      <td>0.200</td>\n",
              "      <td>0.200</td>\n",
              "      <td>allfreq</td>\n",
              "    </tr>\n",
              "    <tr>\n",
              "      <th>4204</th>\n",
              "      <td>b766fb3d6cbf712106804091adf67bf1</td>\n",
              "      <td>40.992</td>\n",
              "      <td>1.800</td>\n",
              "      <td>42.792</td>\n",
              "      <td>allfreq</td>\n",
              "    </tr>\n",
              "    <tr>\n",
              "      <th>4548</th>\n",
              "      <td>d0bd68c670a1b9348a23ddaeec3ae11e</td>\n",
              "      <td>165.956</td>\n",
              "      <td>128.044</td>\n",
              "      <td>294.000</td>\n",
              "      <td>allfreq</td>\n",
              "    </tr>\n",
              "    <tr>\n",
              "      <th>4988</th>\n",
              "      <td>e740a10cebadde8434daebfba1d7fc5a</td>\n",
              "      <td>89.704</td>\n",
              "      <td>0.500</td>\n",
              "      <td>90.204</td>\n",
              "      <td>allfreq</td>\n",
              "    </tr>\n",
              "    <tr>\n",
              "      <th>5302</th>\n",
              "      <td>f50972e87a33bb48179025881a73e37d</td>\n",
              "      <td>11.630</td>\n",
              "      <td>0.400</td>\n",
              "      <td>12.030</td>\n",
              "      <td>allfreq</td>\n",
              "    </tr>\n",
              "    <tr>\n",
              "      <th>5305</th>\n",
              "      <td>f50972e87a33bb48179025881a73e37d</td>\n",
              "      <td>131.630</td>\n",
              "      <td>0.500</td>\n",
              "      <td>132.130</td>\n",
              "      <td>allfreq</td>\n",
              "    </tr>\n",
              "  </tbody>\n",
              "</table>\n",
              "</div>\n",
              "      <button class=\"colab-df-convert\" onclick=\"convertToInteractive('df-f4a0a760-fa68-4d45-8156-89112251aff8')\"\n",
              "              title=\"Convert this dataframe to an interactive table.\"\n",
              "              style=\"display:none;\">\n",
              "        \n",
              "  <svg xmlns=\"http://www.w3.org/2000/svg\" height=\"24px\"viewBox=\"0 0 24 24\"\n",
              "       width=\"24px\">\n",
              "    <path d=\"M0 0h24v24H0V0z\" fill=\"none\"/>\n",
              "    <path d=\"M18.56 5.44l.94 2.06.94-2.06 2.06-.94-2.06-.94-.94-2.06-.94 2.06-2.06.94zm-11 1L8.5 8.5l.94-2.06 2.06-.94-2.06-.94L8.5 2.5l-.94 2.06-2.06.94zm10 10l.94 2.06.94-2.06 2.06-.94-2.06-.94-.94-2.06-.94 2.06-2.06.94z\"/><path d=\"M17.41 7.96l-1.37-1.37c-.4-.4-.92-.59-1.43-.59-.52 0-1.04.2-1.43.59L10.3 9.45l-7.72 7.72c-.78.78-.78 2.05 0 2.83L4 21.41c.39.39.9.59 1.41.59.51 0 1.02-.2 1.41-.59l7.78-7.78 2.81-2.81c.8-.78.8-2.07 0-2.86zM5.41 20L4 18.59l7.72-7.72 1.47 1.35L5.41 20z\"/>\n",
              "  </svg>\n",
              "      </button>\n",
              "      \n",
              "  <style>\n",
              "    .colab-df-container {\n",
              "      display:flex;\n",
              "      flex-wrap:wrap;\n",
              "      gap: 12px;\n",
              "    }\n",
              "\n",
              "    .colab-df-convert {\n",
              "      background-color: #E8F0FE;\n",
              "      border: none;\n",
              "      border-radius: 50%;\n",
              "      cursor: pointer;\n",
              "      display: none;\n",
              "      fill: #1967D2;\n",
              "      height: 32px;\n",
              "      padding: 0 0 0 0;\n",
              "      width: 32px;\n",
              "    }\n",
              "\n",
              "    .colab-df-convert:hover {\n",
              "      background-color: #E2EBFA;\n",
              "      box-shadow: 0px 1px 2px rgba(60, 64, 67, 0.3), 0px 1px 3px 1px rgba(60, 64, 67, 0.15);\n",
              "      fill: #174EA6;\n",
              "    }\n",
              "\n",
              "    [theme=dark] .colab-df-convert {\n",
              "      background-color: #3B4455;\n",
              "      fill: #D2E3FC;\n",
              "    }\n",
              "\n",
              "    [theme=dark] .colab-df-convert:hover {\n",
              "      background-color: #434B5C;\n",
              "      box-shadow: 0px 1px 3px 1px rgba(0, 0, 0, 0.15);\n",
              "      filter: drop-shadow(0px 1px 2px rgba(0, 0, 0, 0.3));\n",
              "      fill: #FFFFFF;\n",
              "    }\n",
              "  </style>\n",
              "\n",
              "      <script>\n",
              "        const buttonEl =\n",
              "          document.querySelector('#df-f4a0a760-fa68-4d45-8156-89112251aff8 button.colab-df-convert');\n",
              "        buttonEl.style.display =\n",
              "          google.colab.kernel.accessAllowed ? 'block' : 'none';\n",
              "\n",
              "        async function convertToInteractive(key) {\n",
              "          const element = document.querySelector('#df-f4a0a760-fa68-4d45-8156-89112251aff8');\n",
              "          const dataTable =\n",
              "            await google.colab.kernel.invokeFunction('convertToInteractive',\n",
              "                                                     [key], {});\n",
              "          if (!dataTable) return;\n",
              "\n",
              "          const docLinkHtml = 'Like what you see? Visit the ' +\n",
              "            '<a target=\"_blank\" href=https://colab.research.google.com/notebooks/data_table.ipynb>data table notebook</a>'\n",
              "            + ' to learn more about interactive tables.';\n",
              "          element.innerHTML = '';\n",
              "          dataTable['output_type'] = 'display_data';\n",
              "          await google.colab.output.renderOutput(dataTable, element);\n",
              "          const docLink = document.createElement('div');\n",
              "          docLink.innerHTML = docLinkHtml;\n",
              "          element.appendChild(docLink);\n",
              "        }\n",
              "      </script>\n",
              "    </div>\n",
              "  </div>\n",
              "  "
            ]
          },
          "metadata": {},
          "execution_count": 62
        }
      ]
    },
    {
      "cell_type": "markdown",
      "source": [
        "# predict hecho para varios datos"
      ],
      "metadata": {
        "id": "eiuZ0uGNSuap"
      }
    },
    {
      "cell_type": "code",
      "source": [
        "#varios datos\n",
        "dato = metadata[4850:4900]\n",
        "dato"
      ],
      "metadata": {
        "colab": {
          "base_uri": "https://localhost:8080/",
          "height": 1000
        },
        "id": "FKbOQj-kvg7G",
        "outputId": "9098c1a8-298a-43ba-f47d-6825f33e0ec4"
      },
      "execution_count": null,
      "outputs": [
        {
          "output_type": "execute_result",
          "data": {
            "text/plain": [
              "                                  path       start  duration         end  \\\n",
              "4850  dcdfe4d98f6de41c80efb2e4c7b00e14   35.364000     1.700   37.064000   \n",
              "4851  dcdfe4d98f6de41c80efb2e4c7b00e14  120.364000    32.000  152.364000   \n",
              "4852  dcdfe4d98f6de41c80efb2e4c7b00e14  204.364000     2.100  206.464000   \n",
              "4853  dcdfe4d98f6de41c80efb2e4c7b00e14  272.364000     4.500  276.864000   \n",
              "4854  dd738a6137c5302d4e866ded96ab3900   28.764000     0.400   29.164000   \n",
              "4855  dd738a6137c5302d4e866ded96ab3900   52.764000     0.700   53.464000   \n",
              "4856  dd738a6137c5302d4e866ded96ab3900   58.764000     0.300   59.064000   \n",
              "4857  dd738a6137c5302d4e866ded96ab3900  124.764000     0.400  125.164000   \n",
              "4858  dd738a6137c5302d4e866ded96ab3900  155.764000     1.600  157.364000   \n",
              "4859  dd738a6137c5302d4e866ded96ab3900  215.764000     1.700  217.464000   \n",
              "4860  dd738a6137c5302d4e866ded96ab3900  257.764000     1.000  258.764000   \n",
              "4861  ddc7eeb968642eb5fc9f28fe3fd9e718    2.196000     3.100    5.296000   \n",
              "4862  ddc7eeb968642eb5fc9f28fe3fd9e718   24.196000     1.300   25.496000   \n",
              "4863  ddc7eeb968642eb5fc9f28fe3fd9e718   30.196000     1.700   31.896000   \n",
              "4864  ddc7eeb968642eb5fc9f28fe3fd9e718   35.196000     0.300   35.496000   \n",
              "4865  ddc7eeb968642eb5fc9f28fe3fd9e718   52.196000     5.400   57.596000   \n",
              "4866  ddc7eeb968642eb5fc9f28fe3fd9e718   77.196000     0.800   77.996000   \n",
              "4867  ddc7eeb968642eb5fc9f28fe3fd9e718   83.196000     0.500   83.696000   \n",
              "4868  ddc7eeb968642eb5fc9f28fe3fd9e718  125.196000     0.600  125.796000   \n",
              "4869  ddc7eeb968642eb5fc9f28fe3fd9e718  155.196000     0.600  155.796000   \n",
              "4870  ddc7eeb968642eb5fc9f28fe3fd9e718  185.196000     0.800  185.996000   \n",
              "4871  ddc7eeb968642eb5fc9f28fe3fd9e718  185.196000     0.400  185.596000   \n",
              "4872  ddc7eeb968642eb5fc9f28fe3fd9e718  205.196000     2.200  207.396000   \n",
              "4873  ddc7eeb968642eb5fc9f28fe3fd9e718  216.196000     1.000  217.196000   \n",
              "4874  ddc7eeb968642eb5fc9f28fe3fd9e718  245.196000     0.900  246.096000   \n",
              "4875  ddc7eeb968642eb5fc9f28fe3fd9e718  257.196000     0.700  257.896000   \n",
              "4876  de6879a0d30bd9c26b85a6891b0f5931  150.260000     1.100  151.360000   \n",
              "4877  de6879a0d30bd9c26b85a6891b0f5931  173.469000     1.000  174.469000   \n",
              "4878  de6879a0d30bd9c26b85a6891b0f5931  184.260000     0.300  184.560000   \n",
              "4879  de6879a0d30bd9c26b85a6891b0f5931  253.522000     1.000  254.522000   \n",
              "4880  de6879a0d30bd9c26b85a6891b0f5931  260.849000     1.007  261.856000   \n",
              "4881  de6879a0d30bd9c26b85a6891b0f5931  264.363995     1.000  265.363995   \n",
              "4882  de6879a0d30bd9c26b85a6891b0f5931  269.260000     0.800  270.060000   \n",
              "4883  df60d656a1c6de93c2a0be9100b40756   50.300000     1.619   51.919000   \n",
              "4884  df60d656a1c6de93c2a0be9100b40756  152.065000     1.000  153.065000   \n",
              "4885  df60d656a1c6de93c2a0be9100b40756  199.773000     1.000  200.773000   \n",
              "4886  df60d656a1c6de93c2a0be9100b40756  224.647000     1.121  225.768000   \n",
              "4887  e0825b6f4a947b56d3b16583224b25d9   73.160000     1.009   74.169000   \n",
              "4888  e0825b6f4a947b56d3b16583224b25d9   85.594000     1.000   86.594000   \n",
              "4889  e0825b6f4a947b56d3b16583224b25d9  159.355000     1.000  160.355000   \n",
              "4890  e0825b6f4a947b56d3b16583224b25d9  172.286000     1.002  173.288000   \n",
              "4891  e0825b6f4a947b56d3b16583224b25d9  175.465000     1.000  176.465000   \n",
              "4892  e0825b6f4a947b56d3b16583224b25d9  178.885000     1.000  179.885000   \n",
              "4893  e0825b6f4a947b56d3b16583224b25d9  184.453000     1.000  185.453000   \n",
              "4894  e0825b6f4a947b56d3b16583224b25d9  261.363000     1.000  262.363000   \n",
              "4895  e17d13076ce80fb38e0135d27b5953eb   47.758000     0.200   47.958000   \n",
              "4896  e17d13076ce80fb38e0135d27b5953eb  133.758000    14.000  147.758000   \n",
              "4897  e17d13076ce80fb38e0135d27b5953eb  186.758000     1.300  188.058000   \n",
              "4898  e17d13076ce80fb38e0135d27b5953eb  199.758000     2.600  202.358000   \n",
              "4899  e17d13076ce80fb38e0135d27b5953eb  239.758000     0.300  240.058000   \n",
              "\n",
              "                  label  \n",
              "4850  cetaceans_allfreq  \n",
              "4851  cetaceans_allfreq  \n",
              "4852  cetaceans_allfreq  \n",
              "4853  cetaceans_allfreq  \n",
              "4854  cetaceans_allfreq  \n",
              "4855  cetaceans_allfreq  \n",
              "4856  cetaceans_allfreq  \n",
              "4857  cetaceans_allfreq  \n",
              "4858            whistle  \n",
              "4859            whistle  \n",
              "4860  cetaceans_allfreq  \n",
              "4861            whistle  \n",
              "4862            whistle  \n",
              "4863            whistle  \n",
              "4864            whistle  \n",
              "4865            whistle  \n",
              "4866            whistle  \n",
              "4867            whistle  \n",
              "4868            whistle  \n",
              "4869            whistle  \n",
              "4870            whistle  \n",
              "4871            whistle  \n",
              "4872            whistle  \n",
              "4873            whistle  \n",
              "4874            whistle  \n",
              "4875            whistle  \n",
              "4876            whistle  \n",
              "4877              click  \n",
              "4878            whistle  \n",
              "4879              click  \n",
              "4880              click  \n",
              "4881              click  \n",
              "4882            whistle  \n",
              "4883              click  \n",
              "4884              click  \n",
              "4885              click  \n",
              "4886              click  \n",
              "4887              click  \n",
              "4888              click  \n",
              "4889              click  \n",
              "4890              click  \n",
              "4891              click  \n",
              "4892              click  \n",
              "4893              click  \n",
              "4894              click  \n",
              "4895            whistle  \n",
              "4896  cetaceans_allfreq  \n",
              "4897            whistle  \n",
              "4898  cetaceans_allfreq  \n",
              "4899            whistle  "
            ],
            "text/html": [
              "\n",
              "  <div id=\"df-ac23b55a-9478-4a86-8563-4b5a3afd8f89\">\n",
              "    <div class=\"colab-df-container\">\n",
              "      <div>\n",
              "<style scoped>\n",
              "    .dataframe tbody tr th:only-of-type {\n",
              "        vertical-align: middle;\n",
              "    }\n",
              "\n",
              "    .dataframe tbody tr th {\n",
              "        vertical-align: top;\n",
              "    }\n",
              "\n",
              "    .dataframe thead th {\n",
              "        text-align: right;\n",
              "    }\n",
              "</style>\n",
              "<table border=\"1\" class=\"dataframe\">\n",
              "  <thead>\n",
              "    <tr style=\"text-align: right;\">\n",
              "      <th></th>\n",
              "      <th>path</th>\n",
              "      <th>start</th>\n",
              "      <th>duration</th>\n",
              "      <th>end</th>\n",
              "      <th>label</th>\n",
              "    </tr>\n",
              "  </thead>\n",
              "  <tbody>\n",
              "    <tr>\n",
              "      <th>4850</th>\n",
              "      <td>dcdfe4d98f6de41c80efb2e4c7b00e14</td>\n",
              "      <td>35.364000</td>\n",
              "      <td>1.700</td>\n",
              "      <td>37.064000</td>\n",
              "      <td>cetaceans_allfreq</td>\n",
              "    </tr>\n",
              "    <tr>\n",
              "      <th>4851</th>\n",
              "      <td>dcdfe4d98f6de41c80efb2e4c7b00e14</td>\n",
              "      <td>120.364000</td>\n",
              "      <td>32.000</td>\n",
              "      <td>152.364000</td>\n",
              "      <td>cetaceans_allfreq</td>\n",
              "    </tr>\n",
              "    <tr>\n",
              "      <th>4852</th>\n",
              "      <td>dcdfe4d98f6de41c80efb2e4c7b00e14</td>\n",
              "      <td>204.364000</td>\n",
              "      <td>2.100</td>\n",
              "      <td>206.464000</td>\n",
              "      <td>cetaceans_allfreq</td>\n",
              "    </tr>\n",
              "    <tr>\n",
              "      <th>4853</th>\n",
              "      <td>dcdfe4d98f6de41c80efb2e4c7b00e14</td>\n",
              "      <td>272.364000</td>\n",
              "      <td>4.500</td>\n",
              "      <td>276.864000</td>\n",
              "      <td>cetaceans_allfreq</td>\n",
              "    </tr>\n",
              "    <tr>\n",
              "      <th>4854</th>\n",
              "      <td>dd738a6137c5302d4e866ded96ab3900</td>\n",
              "      <td>28.764000</td>\n",
              "      <td>0.400</td>\n",
              "      <td>29.164000</td>\n",
              "      <td>cetaceans_allfreq</td>\n",
              "    </tr>\n",
              "    <tr>\n",
              "      <th>4855</th>\n",
              "      <td>dd738a6137c5302d4e866ded96ab3900</td>\n",
              "      <td>52.764000</td>\n",
              "      <td>0.700</td>\n",
              "      <td>53.464000</td>\n",
              "      <td>cetaceans_allfreq</td>\n",
              "    </tr>\n",
              "    <tr>\n",
              "      <th>4856</th>\n",
              "      <td>dd738a6137c5302d4e866ded96ab3900</td>\n",
              "      <td>58.764000</td>\n",
              "      <td>0.300</td>\n",
              "      <td>59.064000</td>\n",
              "      <td>cetaceans_allfreq</td>\n",
              "    </tr>\n",
              "    <tr>\n",
              "      <th>4857</th>\n",
              "      <td>dd738a6137c5302d4e866ded96ab3900</td>\n",
              "      <td>124.764000</td>\n",
              "      <td>0.400</td>\n",
              "      <td>125.164000</td>\n",
              "      <td>cetaceans_allfreq</td>\n",
              "    </tr>\n",
              "    <tr>\n",
              "      <th>4858</th>\n",
              "      <td>dd738a6137c5302d4e866ded96ab3900</td>\n",
              "      <td>155.764000</td>\n",
              "      <td>1.600</td>\n",
              "      <td>157.364000</td>\n",
              "      <td>whistle</td>\n",
              "    </tr>\n",
              "    <tr>\n",
              "      <th>4859</th>\n",
              "      <td>dd738a6137c5302d4e866ded96ab3900</td>\n",
              "      <td>215.764000</td>\n",
              "      <td>1.700</td>\n",
              "      <td>217.464000</td>\n",
              "      <td>whistle</td>\n",
              "    </tr>\n",
              "    <tr>\n",
              "      <th>4860</th>\n",
              "      <td>dd738a6137c5302d4e866ded96ab3900</td>\n",
              "      <td>257.764000</td>\n",
              "      <td>1.000</td>\n",
              "      <td>258.764000</td>\n",
              "      <td>cetaceans_allfreq</td>\n",
              "    </tr>\n",
              "    <tr>\n",
              "      <th>4861</th>\n",
              "      <td>ddc7eeb968642eb5fc9f28fe3fd9e718</td>\n",
              "      <td>2.196000</td>\n",
              "      <td>3.100</td>\n",
              "      <td>5.296000</td>\n",
              "      <td>whistle</td>\n",
              "    </tr>\n",
              "    <tr>\n",
              "      <th>4862</th>\n",
              "      <td>ddc7eeb968642eb5fc9f28fe3fd9e718</td>\n",
              "      <td>24.196000</td>\n",
              "      <td>1.300</td>\n",
              "      <td>25.496000</td>\n",
              "      <td>whistle</td>\n",
              "    </tr>\n",
              "    <tr>\n",
              "      <th>4863</th>\n",
              "      <td>ddc7eeb968642eb5fc9f28fe3fd9e718</td>\n",
              "      <td>30.196000</td>\n",
              "      <td>1.700</td>\n",
              "      <td>31.896000</td>\n",
              "      <td>whistle</td>\n",
              "    </tr>\n",
              "    <tr>\n",
              "      <th>4864</th>\n",
              "      <td>ddc7eeb968642eb5fc9f28fe3fd9e718</td>\n",
              "      <td>35.196000</td>\n",
              "      <td>0.300</td>\n",
              "      <td>35.496000</td>\n",
              "      <td>whistle</td>\n",
              "    </tr>\n",
              "    <tr>\n",
              "      <th>4865</th>\n",
              "      <td>ddc7eeb968642eb5fc9f28fe3fd9e718</td>\n",
              "      <td>52.196000</td>\n",
              "      <td>5.400</td>\n",
              "      <td>57.596000</td>\n",
              "      <td>whistle</td>\n",
              "    </tr>\n",
              "    <tr>\n",
              "      <th>4866</th>\n",
              "      <td>ddc7eeb968642eb5fc9f28fe3fd9e718</td>\n",
              "      <td>77.196000</td>\n",
              "      <td>0.800</td>\n",
              "      <td>77.996000</td>\n",
              "      <td>whistle</td>\n",
              "    </tr>\n",
              "    <tr>\n",
              "      <th>4867</th>\n",
              "      <td>ddc7eeb968642eb5fc9f28fe3fd9e718</td>\n",
              "      <td>83.196000</td>\n",
              "      <td>0.500</td>\n",
              "      <td>83.696000</td>\n",
              "      <td>whistle</td>\n",
              "    </tr>\n",
              "    <tr>\n",
              "      <th>4868</th>\n",
              "      <td>ddc7eeb968642eb5fc9f28fe3fd9e718</td>\n",
              "      <td>125.196000</td>\n",
              "      <td>0.600</td>\n",
              "      <td>125.796000</td>\n",
              "      <td>whistle</td>\n",
              "    </tr>\n",
              "    <tr>\n",
              "      <th>4869</th>\n",
              "      <td>ddc7eeb968642eb5fc9f28fe3fd9e718</td>\n",
              "      <td>155.196000</td>\n",
              "      <td>0.600</td>\n",
              "      <td>155.796000</td>\n",
              "      <td>whistle</td>\n",
              "    </tr>\n",
              "    <tr>\n",
              "      <th>4870</th>\n",
              "      <td>ddc7eeb968642eb5fc9f28fe3fd9e718</td>\n",
              "      <td>185.196000</td>\n",
              "      <td>0.800</td>\n",
              "      <td>185.996000</td>\n",
              "      <td>whistle</td>\n",
              "    </tr>\n",
              "    <tr>\n",
              "      <th>4871</th>\n",
              "      <td>ddc7eeb968642eb5fc9f28fe3fd9e718</td>\n",
              "      <td>185.196000</td>\n",
              "      <td>0.400</td>\n",
              "      <td>185.596000</td>\n",
              "      <td>whistle</td>\n",
              "    </tr>\n",
              "    <tr>\n",
              "      <th>4872</th>\n",
              "      <td>ddc7eeb968642eb5fc9f28fe3fd9e718</td>\n",
              "      <td>205.196000</td>\n",
              "      <td>2.200</td>\n",
              "      <td>207.396000</td>\n",
              "      <td>whistle</td>\n",
              "    </tr>\n",
              "    <tr>\n",
              "      <th>4873</th>\n",
              "      <td>ddc7eeb968642eb5fc9f28fe3fd9e718</td>\n",
              "      <td>216.196000</td>\n",
              "      <td>1.000</td>\n",
              "      <td>217.196000</td>\n",
              "      <td>whistle</td>\n",
              "    </tr>\n",
              "    <tr>\n",
              "      <th>4874</th>\n",
              "      <td>ddc7eeb968642eb5fc9f28fe3fd9e718</td>\n",
              "      <td>245.196000</td>\n",
              "      <td>0.900</td>\n",
              "      <td>246.096000</td>\n",
              "      <td>whistle</td>\n",
              "    </tr>\n",
              "    <tr>\n",
              "      <th>4875</th>\n",
              "      <td>ddc7eeb968642eb5fc9f28fe3fd9e718</td>\n",
              "      <td>257.196000</td>\n",
              "      <td>0.700</td>\n",
              "      <td>257.896000</td>\n",
              "      <td>whistle</td>\n",
              "    </tr>\n",
              "    <tr>\n",
              "      <th>4876</th>\n",
              "      <td>de6879a0d30bd9c26b85a6891b0f5931</td>\n",
              "      <td>150.260000</td>\n",
              "      <td>1.100</td>\n",
              "      <td>151.360000</td>\n",
              "      <td>whistle</td>\n",
              "    </tr>\n",
              "    <tr>\n",
              "      <th>4877</th>\n",
              "      <td>de6879a0d30bd9c26b85a6891b0f5931</td>\n",
              "      <td>173.469000</td>\n",
              "      <td>1.000</td>\n",
              "      <td>174.469000</td>\n",
              "      <td>click</td>\n",
              "    </tr>\n",
              "    <tr>\n",
              "      <th>4878</th>\n",
              "      <td>de6879a0d30bd9c26b85a6891b0f5931</td>\n",
              "      <td>184.260000</td>\n",
              "      <td>0.300</td>\n",
              "      <td>184.560000</td>\n",
              "      <td>whistle</td>\n",
              "    </tr>\n",
              "    <tr>\n",
              "      <th>4879</th>\n",
              "      <td>de6879a0d30bd9c26b85a6891b0f5931</td>\n",
              "      <td>253.522000</td>\n",
              "      <td>1.000</td>\n",
              "      <td>254.522000</td>\n",
              "      <td>click</td>\n",
              "    </tr>\n",
              "    <tr>\n",
              "      <th>4880</th>\n",
              "      <td>de6879a0d30bd9c26b85a6891b0f5931</td>\n",
              "      <td>260.849000</td>\n",
              "      <td>1.007</td>\n",
              "      <td>261.856000</td>\n",
              "      <td>click</td>\n",
              "    </tr>\n",
              "    <tr>\n",
              "      <th>4881</th>\n",
              "      <td>de6879a0d30bd9c26b85a6891b0f5931</td>\n",
              "      <td>264.363995</td>\n",
              "      <td>1.000</td>\n",
              "      <td>265.363995</td>\n",
              "      <td>click</td>\n",
              "    </tr>\n",
              "    <tr>\n",
              "      <th>4882</th>\n",
              "      <td>de6879a0d30bd9c26b85a6891b0f5931</td>\n",
              "      <td>269.260000</td>\n",
              "      <td>0.800</td>\n",
              "      <td>270.060000</td>\n",
              "      <td>whistle</td>\n",
              "    </tr>\n",
              "    <tr>\n",
              "      <th>4883</th>\n",
              "      <td>df60d656a1c6de93c2a0be9100b40756</td>\n",
              "      <td>50.300000</td>\n",
              "      <td>1.619</td>\n",
              "      <td>51.919000</td>\n",
              "      <td>click</td>\n",
              "    </tr>\n",
              "    <tr>\n",
              "      <th>4884</th>\n",
              "      <td>df60d656a1c6de93c2a0be9100b40756</td>\n",
              "      <td>152.065000</td>\n",
              "      <td>1.000</td>\n",
              "      <td>153.065000</td>\n",
              "      <td>click</td>\n",
              "    </tr>\n",
              "    <tr>\n",
              "      <th>4885</th>\n",
              "      <td>df60d656a1c6de93c2a0be9100b40756</td>\n",
              "      <td>199.773000</td>\n",
              "      <td>1.000</td>\n",
              "      <td>200.773000</td>\n",
              "      <td>click</td>\n",
              "    </tr>\n",
              "    <tr>\n",
              "      <th>4886</th>\n",
              "      <td>df60d656a1c6de93c2a0be9100b40756</td>\n",
              "      <td>224.647000</td>\n",
              "      <td>1.121</td>\n",
              "      <td>225.768000</td>\n",
              "      <td>click</td>\n",
              "    </tr>\n",
              "    <tr>\n",
              "      <th>4887</th>\n",
              "      <td>e0825b6f4a947b56d3b16583224b25d9</td>\n",
              "      <td>73.160000</td>\n",
              "      <td>1.009</td>\n",
              "      <td>74.169000</td>\n",
              "      <td>click</td>\n",
              "    </tr>\n",
              "    <tr>\n",
              "      <th>4888</th>\n",
              "      <td>e0825b6f4a947b56d3b16583224b25d9</td>\n",
              "      <td>85.594000</td>\n",
              "      <td>1.000</td>\n",
              "      <td>86.594000</td>\n",
              "      <td>click</td>\n",
              "    </tr>\n",
              "    <tr>\n",
              "      <th>4889</th>\n",
              "      <td>e0825b6f4a947b56d3b16583224b25d9</td>\n",
              "      <td>159.355000</td>\n",
              "      <td>1.000</td>\n",
              "      <td>160.355000</td>\n",
              "      <td>click</td>\n",
              "    </tr>\n",
              "    <tr>\n",
              "      <th>4890</th>\n",
              "      <td>e0825b6f4a947b56d3b16583224b25d9</td>\n",
              "      <td>172.286000</td>\n",
              "      <td>1.002</td>\n",
              "      <td>173.288000</td>\n",
              "      <td>click</td>\n",
              "    </tr>\n",
              "    <tr>\n",
              "      <th>4891</th>\n",
              "      <td>e0825b6f4a947b56d3b16583224b25d9</td>\n",
              "      <td>175.465000</td>\n",
              "      <td>1.000</td>\n",
              "      <td>176.465000</td>\n",
              "      <td>click</td>\n",
              "    </tr>\n",
              "    <tr>\n",
              "      <th>4892</th>\n",
              "      <td>e0825b6f4a947b56d3b16583224b25d9</td>\n",
              "      <td>178.885000</td>\n",
              "      <td>1.000</td>\n",
              "      <td>179.885000</td>\n",
              "      <td>click</td>\n",
              "    </tr>\n",
              "    <tr>\n",
              "      <th>4893</th>\n",
              "      <td>e0825b6f4a947b56d3b16583224b25d9</td>\n",
              "      <td>184.453000</td>\n",
              "      <td>1.000</td>\n",
              "      <td>185.453000</td>\n",
              "      <td>click</td>\n",
              "    </tr>\n",
              "    <tr>\n",
              "      <th>4894</th>\n",
              "      <td>e0825b6f4a947b56d3b16583224b25d9</td>\n",
              "      <td>261.363000</td>\n",
              "      <td>1.000</td>\n",
              "      <td>262.363000</td>\n",
              "      <td>click</td>\n",
              "    </tr>\n",
              "    <tr>\n",
              "      <th>4895</th>\n",
              "      <td>e17d13076ce80fb38e0135d27b5953eb</td>\n",
              "      <td>47.758000</td>\n",
              "      <td>0.200</td>\n",
              "      <td>47.958000</td>\n",
              "      <td>whistle</td>\n",
              "    </tr>\n",
              "    <tr>\n",
              "      <th>4896</th>\n",
              "      <td>e17d13076ce80fb38e0135d27b5953eb</td>\n",
              "      <td>133.758000</td>\n",
              "      <td>14.000</td>\n",
              "      <td>147.758000</td>\n",
              "      <td>cetaceans_allfreq</td>\n",
              "    </tr>\n",
              "    <tr>\n",
              "      <th>4897</th>\n",
              "      <td>e17d13076ce80fb38e0135d27b5953eb</td>\n",
              "      <td>186.758000</td>\n",
              "      <td>1.300</td>\n",
              "      <td>188.058000</td>\n",
              "      <td>whistle</td>\n",
              "    </tr>\n",
              "    <tr>\n",
              "      <th>4898</th>\n",
              "      <td>e17d13076ce80fb38e0135d27b5953eb</td>\n",
              "      <td>199.758000</td>\n",
              "      <td>2.600</td>\n",
              "      <td>202.358000</td>\n",
              "      <td>cetaceans_allfreq</td>\n",
              "    </tr>\n",
              "    <tr>\n",
              "      <th>4899</th>\n",
              "      <td>e17d13076ce80fb38e0135d27b5953eb</td>\n",
              "      <td>239.758000</td>\n",
              "      <td>0.300</td>\n",
              "      <td>240.058000</td>\n",
              "      <td>whistle</td>\n",
              "    </tr>\n",
              "  </tbody>\n",
              "</table>\n",
              "</div>\n",
              "      <button class=\"colab-df-convert\" onclick=\"convertToInteractive('df-ac23b55a-9478-4a86-8563-4b5a3afd8f89')\"\n",
              "              title=\"Convert this dataframe to an interactive table.\"\n",
              "              style=\"display:none;\">\n",
              "        \n",
              "  <svg xmlns=\"http://www.w3.org/2000/svg\" height=\"24px\"viewBox=\"0 0 24 24\"\n",
              "       width=\"24px\">\n",
              "    <path d=\"M0 0h24v24H0V0z\" fill=\"none\"/>\n",
              "    <path d=\"M18.56 5.44l.94 2.06.94-2.06 2.06-.94-2.06-.94-.94-2.06-.94 2.06-2.06.94zm-11 1L8.5 8.5l.94-2.06 2.06-.94-2.06-.94L8.5 2.5l-.94 2.06-2.06.94zm10 10l.94 2.06.94-2.06 2.06-.94-2.06-.94-.94-2.06-.94 2.06-2.06.94z\"/><path d=\"M17.41 7.96l-1.37-1.37c-.4-.4-.92-.59-1.43-.59-.52 0-1.04.2-1.43.59L10.3 9.45l-7.72 7.72c-.78.78-.78 2.05 0 2.83L4 21.41c.39.39.9.59 1.41.59.51 0 1.02-.2 1.41-.59l7.78-7.78 2.81-2.81c.8-.78.8-2.07 0-2.86zM5.41 20L4 18.59l7.72-7.72 1.47 1.35L5.41 20z\"/>\n",
              "  </svg>\n",
              "      </button>\n",
              "      \n",
              "  <style>\n",
              "    .colab-df-container {\n",
              "      display:flex;\n",
              "      flex-wrap:wrap;\n",
              "      gap: 12px;\n",
              "    }\n",
              "\n",
              "    .colab-df-convert {\n",
              "      background-color: #E8F0FE;\n",
              "      border: none;\n",
              "      border-radius: 50%;\n",
              "      cursor: pointer;\n",
              "      display: none;\n",
              "      fill: #1967D2;\n",
              "      height: 32px;\n",
              "      padding: 0 0 0 0;\n",
              "      width: 32px;\n",
              "    }\n",
              "\n",
              "    .colab-df-convert:hover {\n",
              "      background-color: #E2EBFA;\n",
              "      box-shadow: 0px 1px 2px rgba(60, 64, 67, 0.3), 0px 1px 3px 1px rgba(60, 64, 67, 0.15);\n",
              "      fill: #174EA6;\n",
              "    }\n",
              "\n",
              "    [theme=dark] .colab-df-convert {\n",
              "      background-color: #3B4455;\n",
              "      fill: #D2E3FC;\n",
              "    }\n",
              "\n",
              "    [theme=dark] .colab-df-convert:hover {\n",
              "      background-color: #434B5C;\n",
              "      box-shadow: 0px 1px 3px 1px rgba(0, 0, 0, 0.15);\n",
              "      filter: drop-shadow(0px 1px 2px rgba(0, 0, 0, 0.3));\n",
              "      fill: #FFFFFF;\n",
              "    }\n",
              "  </style>\n",
              "\n",
              "      <script>\n",
              "        const buttonEl =\n",
              "          document.querySelector('#df-ac23b55a-9478-4a86-8563-4b5a3afd8f89 button.colab-df-convert');\n",
              "        buttonEl.style.display =\n",
              "          google.colab.kernel.accessAllowed ? 'block' : 'none';\n",
              "\n",
              "        async function convertToInteractive(key) {\n",
              "          const element = document.querySelector('#df-ac23b55a-9478-4a86-8563-4b5a3afd8f89');\n",
              "          const dataTable =\n",
              "            await google.colab.kernel.invokeFunction('convertToInteractive',\n",
              "                                                     [key], {});\n",
              "          if (!dataTable) return;\n",
              "\n",
              "          const docLinkHtml = 'Like what you see? Visit the ' +\n",
              "            '<a target=\"_blank\" href=https://colab.research.google.com/notebooks/data_table.ipynb>data table notebook</a>'\n",
              "            + ' to learn more about interactive tables.';\n",
              "          element.innerHTML = '';\n",
              "          dataTable['output_type'] = 'display_data';\n",
              "          await google.colab.output.renderOutput(dataTable, element);\n",
              "          const docLink = document.createElement('div');\n",
              "          docLink.innerHTML = docLinkHtml;\n",
              "          element.appendChild(docLink);\n",
              "        }\n",
              "      </script>\n",
              "    </div>\n",
              "  </div>\n",
              "  "
            ]
          },
          "metadata": {},
          "execution_count": 63
        }
      ]
    },
    {
      "cell_type": "code",
      "source": [
        "def features_extractor_b(file):\n",
        "  global audio\n",
        "  global sample_rate\n",
        "  if all(audio) == all(audio) or 1 == 1:\n",
        "    audio, sample_rate = librosa.load(file_name, res_type='kaiser_fast')\n",
        "    start = int(str(round(row[\"start\"],3)).replace('.',''))\n",
        "    end =  int(str(round(row[\"end\"],3)).replace('.',''))\n",
        "    if end == 2940:\n",
        "      end = 293944\n",
        "    print (start)\n",
        "    print(end)\n",
        "    audio_trim, _ = librosa.effects.trim(audio[start:end])\n",
        "    mfccs_features = librosa.feature.mfcc(y=audio_trim, sr=sample_rate, n_mfcc=40)\n",
        "    mfccs_scaled_features = np.mean(mfccs_features.T,axis=0)\n",
        "    return mfccs_scaled_features\n",
        "  else:\n",
        "    start = int(str(round(row[\"start\"],3)).replace('.',''))\n",
        "    end =  int(str(round(row[\"end\"],3)).replace('.',''))\n",
        "    if end == 2940:\n",
        "      end = 293944\n",
        "    print (start)\n",
        "    print(end)\n",
        "    audio_trim, _ = librosa.effects.trim(audio[start:end])\n",
        "    mfccs_features = librosa.feature.mfcc(y=audio_trim, sr=sample_rate, n_mfcc=40)\n",
        "    mfccs_scaled_features = np.mean(mfccs_features.T,axis=0)\n",
        "    return mfccs_scaled_features"
      ],
      "metadata": {
        "id": "PnSdBfjnIZqS"
      },
      "execution_count": null,
      "outputs": []
    },
    {
      "cell_type": "code",
      "source": [
        "extracted_features_b = []\n",
        "\n",
        "for index_num,row in tqdm(dato.iterrows()):\n",
        "    file_name = os.path.join(os.path.abspath(audio_dataset),str(row[\"path\"])+str('.ogg'))\n",
        "    final_class_labels=row[\"label\"]\n",
        "    data=features_extractor_b(file_name)\n",
        "    extracted_features_b.append([data,final_class_labels])"
      ],
      "metadata": {
        "colab": {
          "base_uri": "https://localhost:8080/",
          "height": 504
        },
        "id": "Bkjsgw-EI2mK",
        "outputId": "60915c9c-cf85-44ff-b042-aec271509da9"
      },
      "execution_count": null,
      "outputs": [
        {
          "output_type": "stream",
          "name": "stderr",
          "text": [
            "0it [00:00, ?it/s]/usr/local/lib/python3.7/dist-packages/librosa/core/spectrum.py:224: UserWarning: n_fft=2048 is too small for input signal of length=1700\n",
            "  n_fft, y.shape[-1]\n",
            "1it [00:03,  3.51s/it]"
          ]
        },
        {
          "output_type": "stream",
          "name": "stdout",
          "text": [
            "35364\n",
            "37064\n"
          ]
        },
        {
          "output_type": "stream",
          "name": "stderr",
          "text": [
            "\r2it [00:07,  3.55s/it]"
          ]
        },
        {
          "output_type": "stream",
          "name": "stdout",
          "text": [
            "120364\n",
            "152364\n"
          ]
        },
        {
          "output_type": "stream",
          "name": "stderr",
          "text": [
            "\r3it [00:10,  3.56s/it]"
          ]
        },
        {
          "output_type": "stream",
          "name": "stdout",
          "text": [
            "204364\n",
            "206464\n"
          ]
        },
        {
          "output_type": "stream",
          "name": "stderr",
          "text": [
            "\r3it [00:14,  4.71s/it]\n"
          ]
        },
        {
          "output_type": "error",
          "ename": "KeyboardInterrupt",
          "evalue": "ignored",
          "traceback": [
            "\u001b[0;31m---------------------------------------------------------------------------\u001b[0m",
            "\u001b[0;31mKeyboardInterrupt\u001b[0m                         Traceback (most recent call last)",
            "\u001b[0;32m<ipython-input-65-89f1b2aafd03>\u001b[0m in \u001b[0;36m<module>\u001b[0;34m\u001b[0m\n\u001b[1;32m      4\u001b[0m     \u001b[0mfile_name\u001b[0m \u001b[0;34m=\u001b[0m \u001b[0mos\u001b[0m\u001b[0;34m.\u001b[0m\u001b[0mpath\u001b[0m\u001b[0;34m.\u001b[0m\u001b[0mjoin\u001b[0m\u001b[0;34m(\u001b[0m\u001b[0mos\u001b[0m\u001b[0;34m.\u001b[0m\u001b[0mpath\u001b[0m\u001b[0;34m.\u001b[0m\u001b[0mabspath\u001b[0m\u001b[0;34m(\u001b[0m\u001b[0maudio_dataset\u001b[0m\u001b[0;34m)\u001b[0m\u001b[0;34m,\u001b[0m\u001b[0mstr\u001b[0m\u001b[0;34m(\u001b[0m\u001b[0mrow\u001b[0m\u001b[0;34m[\u001b[0m\u001b[0;34m\"path\"\u001b[0m\u001b[0;34m]\u001b[0m\u001b[0;34m)\u001b[0m\u001b[0;34m+\u001b[0m\u001b[0mstr\u001b[0m\u001b[0;34m(\u001b[0m\u001b[0;34m'.ogg'\u001b[0m\u001b[0;34m)\u001b[0m\u001b[0;34m)\u001b[0m\u001b[0;34m\u001b[0m\u001b[0;34m\u001b[0m\u001b[0m\n\u001b[1;32m      5\u001b[0m     \u001b[0mfinal_class_labels\u001b[0m\u001b[0;34m=\u001b[0m\u001b[0mrow\u001b[0m\u001b[0;34m[\u001b[0m\u001b[0;34m\"label\"\u001b[0m\u001b[0;34m]\u001b[0m\u001b[0;34m\u001b[0m\u001b[0;34m\u001b[0m\u001b[0m\n\u001b[0;32m----> 6\u001b[0;31m     \u001b[0mdata\u001b[0m\u001b[0;34m=\u001b[0m\u001b[0mfeatures_extractor_b\u001b[0m\u001b[0;34m(\u001b[0m\u001b[0mfile_name\u001b[0m\u001b[0;34m)\u001b[0m\u001b[0;34m\u001b[0m\u001b[0;34m\u001b[0m\u001b[0m\n\u001b[0m\u001b[1;32m      7\u001b[0m     \u001b[0mextracted_features_b\u001b[0m\u001b[0;34m.\u001b[0m\u001b[0mappend\u001b[0m\u001b[0;34m(\u001b[0m\u001b[0;34m[\u001b[0m\u001b[0mdata\u001b[0m\u001b[0;34m,\u001b[0m\u001b[0mfinal_class_labels\u001b[0m\u001b[0;34m]\u001b[0m\u001b[0;34m)\u001b[0m\u001b[0;34m\u001b[0m\u001b[0;34m\u001b[0m\u001b[0m\n",
            "\u001b[0;32m<ipython-input-64-1ea8ed9a6f3c>\u001b[0m in \u001b[0;36mfeatures_extractor_b\u001b[0;34m(file)\u001b[0m\n\u001b[1;32m      3\u001b[0m   \u001b[0;32mglobal\u001b[0m \u001b[0msample_rate\u001b[0m\u001b[0;34m\u001b[0m\u001b[0;34m\u001b[0m\u001b[0m\n\u001b[1;32m      4\u001b[0m   \u001b[0;32mif\u001b[0m \u001b[0mall\u001b[0m\u001b[0;34m(\u001b[0m\u001b[0maudio\u001b[0m\u001b[0;34m)\u001b[0m \u001b[0;34m==\u001b[0m \u001b[0mall\u001b[0m\u001b[0;34m(\u001b[0m\u001b[0maudio\u001b[0m\u001b[0;34m)\u001b[0m \u001b[0;32mor\u001b[0m \u001b[0;36m1\u001b[0m \u001b[0;34m==\u001b[0m \u001b[0;36m1\u001b[0m\u001b[0;34m:\u001b[0m\u001b[0;34m\u001b[0m\u001b[0;34m\u001b[0m\u001b[0m\n\u001b[0;32m----> 5\u001b[0;31m     \u001b[0maudio\u001b[0m\u001b[0;34m,\u001b[0m \u001b[0msample_rate\u001b[0m \u001b[0;34m=\u001b[0m \u001b[0mlibrosa\u001b[0m\u001b[0;34m.\u001b[0m\u001b[0mload\u001b[0m\u001b[0;34m(\u001b[0m\u001b[0mfile_name\u001b[0m\u001b[0;34m,\u001b[0m \u001b[0mres_type\u001b[0m\u001b[0;34m=\u001b[0m\u001b[0;34m'kaiser_fast'\u001b[0m\u001b[0;34m)\u001b[0m\u001b[0;34m\u001b[0m\u001b[0;34m\u001b[0m\u001b[0m\n\u001b[0m\u001b[1;32m      6\u001b[0m     \u001b[0mstart\u001b[0m \u001b[0;34m=\u001b[0m \u001b[0mint\u001b[0m\u001b[0;34m(\u001b[0m\u001b[0mstr\u001b[0m\u001b[0;34m(\u001b[0m\u001b[0mround\u001b[0m\u001b[0;34m(\u001b[0m\u001b[0mrow\u001b[0m\u001b[0;34m[\u001b[0m\u001b[0;34m\"start\"\u001b[0m\u001b[0;34m]\u001b[0m\u001b[0;34m,\u001b[0m\u001b[0;36m3\u001b[0m\u001b[0;34m)\u001b[0m\u001b[0;34m)\u001b[0m\u001b[0;34m.\u001b[0m\u001b[0mreplace\u001b[0m\u001b[0;34m(\u001b[0m\u001b[0;34m'.'\u001b[0m\u001b[0;34m,\u001b[0m\u001b[0;34m''\u001b[0m\u001b[0;34m)\u001b[0m\u001b[0;34m)\u001b[0m\u001b[0;34m\u001b[0m\u001b[0;34m\u001b[0m\u001b[0m\n\u001b[1;32m      7\u001b[0m     \u001b[0mend\u001b[0m \u001b[0;34m=\u001b[0m  \u001b[0mint\u001b[0m\u001b[0;34m(\u001b[0m\u001b[0mstr\u001b[0m\u001b[0;34m(\u001b[0m\u001b[0mround\u001b[0m\u001b[0;34m(\u001b[0m\u001b[0mrow\u001b[0m\u001b[0;34m[\u001b[0m\u001b[0;34m\"end\"\u001b[0m\u001b[0;34m]\u001b[0m\u001b[0;34m,\u001b[0m\u001b[0;36m3\u001b[0m\u001b[0;34m)\u001b[0m\u001b[0;34m)\u001b[0m\u001b[0;34m.\u001b[0m\u001b[0mreplace\u001b[0m\u001b[0;34m(\u001b[0m\u001b[0;34m'.'\u001b[0m\u001b[0;34m,\u001b[0m\u001b[0;34m''\u001b[0m\u001b[0;34m)\u001b[0m\u001b[0;34m)\u001b[0m\u001b[0;34m\u001b[0m\u001b[0;34m\u001b[0m\u001b[0m\n",
            "\u001b[0;32m/usr/local/lib/python3.7/dist-packages/librosa/core/audio.py\u001b[0m in \u001b[0;36mload\u001b[0;34m(path, sr, mono, offset, duration, dtype, res_type)\u001b[0m\n\u001b[1;32m    173\u001b[0m \u001b[0;34m\u001b[0m\u001b[0m\n\u001b[1;32m    174\u001b[0m     \u001b[0;32mif\u001b[0m \u001b[0msr\u001b[0m \u001b[0;32mis\u001b[0m \u001b[0;32mnot\u001b[0m \u001b[0;32mNone\u001b[0m\u001b[0;34m:\u001b[0m\u001b[0;34m\u001b[0m\u001b[0;34m\u001b[0m\u001b[0m\n\u001b[0;32m--> 175\u001b[0;31m         \u001b[0my\u001b[0m \u001b[0;34m=\u001b[0m \u001b[0mresample\u001b[0m\u001b[0;34m(\u001b[0m\u001b[0my\u001b[0m\u001b[0;34m,\u001b[0m \u001b[0msr_native\u001b[0m\u001b[0;34m,\u001b[0m \u001b[0msr\u001b[0m\u001b[0;34m,\u001b[0m \u001b[0mres_type\u001b[0m\u001b[0;34m=\u001b[0m\u001b[0mres_type\u001b[0m\u001b[0;34m)\u001b[0m\u001b[0;34m\u001b[0m\u001b[0;34m\u001b[0m\u001b[0m\n\u001b[0m\u001b[1;32m    176\u001b[0m \u001b[0;34m\u001b[0m\u001b[0m\n\u001b[1;32m    177\u001b[0m     \u001b[0;32melse\u001b[0m\u001b[0;34m:\u001b[0m\u001b[0;34m\u001b[0m\u001b[0;34m\u001b[0m\u001b[0m\n",
            "\u001b[0;32m/usr/local/lib/python3.7/dist-packages/librosa/core/audio.py\u001b[0m in \u001b[0;36mresample\u001b[0;34m(y, orig_sr, target_sr, res_type, fix, scale, **kwargs)\u001b[0m\n\u001b[1;32m    602\u001b[0m         \u001b[0my_hat\u001b[0m \u001b[0;34m=\u001b[0m \u001b[0msoxr\u001b[0m\u001b[0;34m.\u001b[0m\u001b[0mresample\u001b[0m\u001b[0;34m(\u001b[0m\u001b[0my\u001b[0m\u001b[0;34m.\u001b[0m\u001b[0mT\u001b[0m\u001b[0;34m,\u001b[0m \u001b[0morig_sr\u001b[0m\u001b[0;34m,\u001b[0m \u001b[0mtarget_sr\u001b[0m\u001b[0;34m,\u001b[0m \u001b[0mquality\u001b[0m\u001b[0;34m=\u001b[0m\u001b[0mres_type\u001b[0m\u001b[0;34m)\u001b[0m\u001b[0;34m.\u001b[0m\u001b[0mT\u001b[0m\u001b[0;34m\u001b[0m\u001b[0;34m\u001b[0m\u001b[0m\n\u001b[1;32m    603\u001b[0m     \u001b[0;32melse\u001b[0m\u001b[0;34m:\u001b[0m\u001b[0;34m\u001b[0m\u001b[0;34m\u001b[0m\u001b[0m\n\u001b[0;32m--> 604\u001b[0;31m         \u001b[0my_hat\u001b[0m \u001b[0;34m=\u001b[0m \u001b[0mresampy\u001b[0m\u001b[0;34m.\u001b[0m\u001b[0mresample\u001b[0m\u001b[0;34m(\u001b[0m\u001b[0my\u001b[0m\u001b[0;34m,\u001b[0m \u001b[0morig_sr\u001b[0m\u001b[0;34m,\u001b[0m \u001b[0mtarget_sr\u001b[0m\u001b[0;34m,\u001b[0m \u001b[0mfilter\u001b[0m\u001b[0;34m=\u001b[0m\u001b[0mres_type\u001b[0m\u001b[0;34m,\u001b[0m \u001b[0maxis\u001b[0m\u001b[0;34m=\u001b[0m\u001b[0;34m-\u001b[0m\u001b[0;36m1\u001b[0m\u001b[0;34m)\u001b[0m\u001b[0;34m\u001b[0m\u001b[0;34m\u001b[0m\u001b[0m\n\u001b[0m\u001b[1;32m    605\u001b[0m \u001b[0;34m\u001b[0m\u001b[0m\n\u001b[1;32m    606\u001b[0m     \u001b[0;32mif\u001b[0m \u001b[0mfix\u001b[0m\u001b[0;34m:\u001b[0m\u001b[0;34m\u001b[0m\u001b[0;34m\u001b[0m\u001b[0m\n",
            "\u001b[0;32m/usr/local/lib/python3.7/dist-packages/resampy/core.py\u001b[0m in \u001b[0;36mresample\u001b[0;34m(x, sr_orig, sr_new, axis, filter, parallel, **kwargs)\u001b[0m\n\u001b[1;32m    173\u001b[0m             \u001b[0mprecision\u001b[0m\u001b[0;34m,\u001b[0m\u001b[0;34m\u001b[0m\u001b[0;34m\u001b[0m\u001b[0m\n\u001b[1;32m    174\u001b[0m             \u001b[0mscale\u001b[0m\u001b[0;34m,\u001b[0m\u001b[0;34m\u001b[0m\u001b[0;34m\u001b[0m\u001b[0m\n\u001b[0;32m--> 175\u001b[0;31m             \u001b[0my\u001b[0m\u001b[0;34m.\u001b[0m\u001b[0mswapaxes\u001b[0m\u001b[0;34m(\u001b[0m\u001b[0;34m-\u001b[0m\u001b[0;36m1\u001b[0m\u001b[0;34m,\u001b[0m \u001b[0maxis\u001b[0m\u001b[0;34m)\u001b[0m\u001b[0;34m,\u001b[0m\u001b[0;34m\u001b[0m\u001b[0;34m\u001b[0m\u001b[0m\n\u001b[0m\u001b[1;32m    176\u001b[0m         )\n\u001b[1;32m    177\u001b[0m \u001b[0;34m\u001b[0m\u001b[0m\n",
            "\u001b[0;32m/usr/local/lib/python3.7/dist-packages/numba/np/ufunc/gufunc.py\u001b[0m in \u001b[0;36m__call__\u001b[0;34m(self, *args, **kwargs)\u001b[0m\n\u001b[1;32m    190\u001b[0m             \u001b[0mself\u001b[0m\u001b[0;34m.\u001b[0m\u001b[0madd\u001b[0m\u001b[0;34m(\u001b[0m\u001b[0msig\u001b[0m\u001b[0;34m)\u001b[0m\u001b[0;34m\u001b[0m\u001b[0;34m\u001b[0m\u001b[0m\n\u001b[1;32m    191\u001b[0m             \u001b[0mself\u001b[0m\u001b[0;34m.\u001b[0m\u001b[0mbuild_ufunc\u001b[0m\u001b[0;34m(\u001b[0m\u001b[0;34m)\u001b[0m\u001b[0;34m\u001b[0m\u001b[0;34m\u001b[0m\u001b[0m\n\u001b[0;32m--> 192\u001b[0;31m         \u001b[0;32mreturn\u001b[0m \u001b[0mself\u001b[0m\u001b[0;34m.\u001b[0m\u001b[0mufunc\u001b[0m\u001b[0;34m(\u001b[0m\u001b[0;34m*\u001b[0m\u001b[0margs\u001b[0m\u001b[0;34m,\u001b[0m \u001b[0;34m**\u001b[0m\u001b[0mkwargs\u001b[0m\u001b[0;34m)\u001b[0m\u001b[0;34m\u001b[0m\u001b[0;34m\u001b[0m\u001b[0m\n\u001b[0m",
            "\u001b[0;31mKeyboardInterrupt\u001b[0m: "
          ]
        }
      ]
    },
    {
      "cell_type": "code",
      "source": [
        "extracted_features_b[9][0]"
      ],
      "metadata": {
        "colab": {
          "base_uri": "https://localhost:8080/",
          "height": 165
        },
        "id": "AN7IGSCIuocL",
        "outputId": "e6ded365-6235-4869-bfaa-e8351b6c8ea6"
      },
      "execution_count": null,
      "outputs": [
        {
          "output_type": "error",
          "ename": "IndexError",
          "evalue": "ignored",
          "traceback": [
            "\u001b[0;31m---------------------------------------------------------------------------\u001b[0m",
            "\u001b[0;31mIndexError\u001b[0m                                Traceback (most recent call last)",
            "\u001b[0;32m<ipython-input-66-79a5120b2107>\u001b[0m in \u001b[0;36m<module>\u001b[0;34m\u001b[0m\n\u001b[0;32m----> 1\u001b[0;31m \u001b[0mextracted_features_b\u001b[0m\u001b[0;34m[\u001b[0m\u001b[0;36m9\u001b[0m\u001b[0;34m]\u001b[0m\u001b[0;34m[\u001b[0m\u001b[0;36m0\u001b[0m\u001b[0;34m]\u001b[0m\u001b[0;34m\u001b[0m\u001b[0;34m\u001b[0m\u001b[0m\n\u001b[0m",
            "\u001b[0;31mIndexError\u001b[0m: list index out of range"
          ]
        }
      ]
    },
    {
      "cell_type": "code",
      "source": [
        "# multiples datos hasta aqui\n",
        "jajant = []\n",
        "\n",
        "for i in range(0,50):\n",
        "  print(np.argmax((model.predict(extracted_features_b[i][0].reshape(1,-1)) > 0.5).astype(\"int32\")))\n",
        "  jajant.append(np.argmax((model.predict(extracted_features_b[i][0].reshape(1,-1)) > 0.5).astype(\"int32\")))\n",
        "  print(jajant)"
      ],
      "metadata": {
        "colab": {
          "base_uri": "https://localhost:8080/",
          "height": 443
        },
        "id": "_BbsRsrCwAr0",
        "outputId": "d88bf7c6-4675-406a-b9df-1eed6031e3d3"
      },
      "execution_count": null,
      "outputs": [
        {
          "output_type": "stream",
          "name": "stdout",
          "text": [
            "1/1 [==============================] - 0s 13ms/step\n",
            "1\n",
            "1/1 [==============================] - 0s 16ms/step\n",
            "[1]\n",
            "1/1 [==============================] - 0s 14ms/step\n",
            "2\n",
            "1/1 [==============================] - 0s 16ms/step\n",
            "[1, 2]\n",
            "1/1 [==============================] - 0s 15ms/step\n",
            "1\n",
            "1/1 [==============================] - 0s 17ms/step\n",
            "[1, 2, 1]\n"
          ]
        },
        {
          "output_type": "error",
          "ename": "IndexError",
          "evalue": "ignored",
          "traceback": [
            "\u001b[0;31m---------------------------------------------------------------------------\u001b[0m",
            "\u001b[0;31mIndexError\u001b[0m                                Traceback (most recent call last)",
            "\u001b[0;32m<ipython-input-67-7bc5580e2c0f>\u001b[0m in \u001b[0;36m<module>\u001b[0;34m\u001b[0m\n\u001b[1;32m      3\u001b[0m \u001b[0;34m\u001b[0m\u001b[0m\n\u001b[1;32m      4\u001b[0m \u001b[0;32mfor\u001b[0m \u001b[0mi\u001b[0m \u001b[0;32min\u001b[0m \u001b[0mrange\u001b[0m\u001b[0;34m(\u001b[0m\u001b[0;36m0\u001b[0m\u001b[0;34m,\u001b[0m\u001b[0;36m50\u001b[0m\u001b[0;34m)\u001b[0m\u001b[0;34m:\u001b[0m\u001b[0;34m\u001b[0m\u001b[0;34m\u001b[0m\u001b[0m\n\u001b[0;32m----> 5\u001b[0;31m   \u001b[0mprint\u001b[0m\u001b[0;34m(\u001b[0m\u001b[0mnp\u001b[0m\u001b[0;34m.\u001b[0m\u001b[0margmax\u001b[0m\u001b[0;34m(\u001b[0m\u001b[0;34m(\u001b[0m\u001b[0mmodel\u001b[0m\u001b[0;34m.\u001b[0m\u001b[0mpredict\u001b[0m\u001b[0;34m(\u001b[0m\u001b[0mextracted_features_b\u001b[0m\u001b[0;34m[\u001b[0m\u001b[0mi\u001b[0m\u001b[0;34m]\u001b[0m\u001b[0;34m[\u001b[0m\u001b[0;36m0\u001b[0m\u001b[0;34m]\u001b[0m\u001b[0;34m.\u001b[0m\u001b[0mreshape\u001b[0m\u001b[0;34m(\u001b[0m\u001b[0;36m1\u001b[0m\u001b[0;34m,\u001b[0m\u001b[0;34m-\u001b[0m\u001b[0;36m1\u001b[0m\u001b[0;34m)\u001b[0m\u001b[0;34m)\u001b[0m \u001b[0;34m>\u001b[0m \u001b[0;36m0.5\u001b[0m\u001b[0;34m)\u001b[0m\u001b[0;34m.\u001b[0m\u001b[0mastype\u001b[0m\u001b[0;34m(\u001b[0m\u001b[0;34m\"int32\"\u001b[0m\u001b[0;34m)\u001b[0m\u001b[0;34m)\u001b[0m\u001b[0;34m)\u001b[0m\u001b[0;34m\u001b[0m\u001b[0;34m\u001b[0m\u001b[0m\n\u001b[0m\u001b[1;32m      6\u001b[0m   \u001b[0mjajant\u001b[0m\u001b[0;34m.\u001b[0m\u001b[0mappend\u001b[0m\u001b[0;34m(\u001b[0m\u001b[0mnp\u001b[0m\u001b[0;34m.\u001b[0m\u001b[0margmax\u001b[0m\u001b[0;34m(\u001b[0m\u001b[0;34m(\u001b[0m\u001b[0mmodel\u001b[0m\u001b[0;34m.\u001b[0m\u001b[0mpredict\u001b[0m\u001b[0;34m(\u001b[0m\u001b[0mextracted_features_b\u001b[0m\u001b[0;34m[\u001b[0m\u001b[0mi\u001b[0m\u001b[0;34m]\u001b[0m\u001b[0;34m[\u001b[0m\u001b[0;36m0\u001b[0m\u001b[0;34m]\u001b[0m\u001b[0;34m.\u001b[0m\u001b[0mreshape\u001b[0m\u001b[0;34m(\u001b[0m\u001b[0;36m1\u001b[0m\u001b[0;34m,\u001b[0m\u001b[0;34m-\u001b[0m\u001b[0;36m1\u001b[0m\u001b[0;34m)\u001b[0m\u001b[0;34m)\u001b[0m \u001b[0;34m>\u001b[0m \u001b[0;36m0.5\u001b[0m\u001b[0;34m)\u001b[0m\u001b[0;34m.\u001b[0m\u001b[0mastype\u001b[0m\u001b[0;34m(\u001b[0m\u001b[0;34m\"int32\"\u001b[0m\u001b[0;34m)\u001b[0m\u001b[0;34m)\u001b[0m\u001b[0;34m)\u001b[0m\u001b[0;34m\u001b[0m\u001b[0;34m\u001b[0m\u001b[0m\n\u001b[1;32m      7\u001b[0m   \u001b[0mprint\u001b[0m\u001b[0;34m(\u001b[0m\u001b[0mjajant\u001b[0m\u001b[0;34m)\u001b[0m\u001b[0;34m\u001b[0m\u001b[0;34m\u001b[0m\u001b[0m\n",
            "\u001b[0;31mIndexError\u001b[0m: list index out of range"
          ]
        }
      ]
    },
    {
      "cell_type": "markdown",
      "source": [
        "# predict hecho para un dato"
      ],
      "metadata": {
        "id": "4U9x7auC1UBW"
      }
    },
    {
      "cell_type": "code",
      "source": [
        "# un solo dato\n",
        "dato = metadata.iloc[34].to_frame().T\n",
        "dato"
      ],
      "metadata": {
        "colab": {
          "base_uri": "https://localhost:8080/",
          "height": 81
        },
        "id": "ABfiU9_vStyq",
        "outputId": "346f5bd7-a8e1-4e5f-c124-166ee24853a7"
      },
      "execution_count": null,
      "outputs": [
        {
          "output_type": "execute_result",
          "data": {
            "text/plain": [
              "                                 path start duration    end  label\n",
              "160  083edafa2b1d1f1944018ca7d2e28e97   0.0    294.0  294.0  click"
            ],
            "text/html": [
              "\n",
              "  <div id=\"df-0ff224ef-5292-4f09-802b-4677fe3c8428\">\n",
              "    <div class=\"colab-df-container\">\n",
              "      <div>\n",
              "<style scoped>\n",
              "    .dataframe tbody tr th:only-of-type {\n",
              "        vertical-align: middle;\n",
              "    }\n",
              "\n",
              "    .dataframe tbody tr th {\n",
              "        vertical-align: top;\n",
              "    }\n",
              "\n",
              "    .dataframe thead th {\n",
              "        text-align: right;\n",
              "    }\n",
              "</style>\n",
              "<table border=\"1\" class=\"dataframe\">\n",
              "  <thead>\n",
              "    <tr style=\"text-align: right;\">\n",
              "      <th></th>\n",
              "      <th>path</th>\n",
              "      <th>start</th>\n",
              "      <th>duration</th>\n",
              "      <th>end</th>\n",
              "      <th>label</th>\n",
              "    </tr>\n",
              "  </thead>\n",
              "  <tbody>\n",
              "    <tr>\n",
              "      <th>160</th>\n",
              "      <td>083edafa2b1d1f1944018ca7d2e28e97</td>\n",
              "      <td>0.0</td>\n",
              "      <td>294.0</td>\n",
              "      <td>294.0</td>\n",
              "      <td>click</td>\n",
              "    </tr>\n",
              "  </tbody>\n",
              "</table>\n",
              "</div>\n",
              "      <button class=\"colab-df-convert\" onclick=\"convertToInteractive('df-0ff224ef-5292-4f09-802b-4677fe3c8428')\"\n",
              "              title=\"Convert this dataframe to an interactive table.\"\n",
              "              style=\"display:none;\">\n",
              "        \n",
              "  <svg xmlns=\"http://www.w3.org/2000/svg\" height=\"24px\"viewBox=\"0 0 24 24\"\n",
              "       width=\"24px\">\n",
              "    <path d=\"M0 0h24v24H0V0z\" fill=\"none\"/>\n",
              "    <path d=\"M18.56 5.44l.94 2.06.94-2.06 2.06-.94-2.06-.94-.94-2.06-.94 2.06-2.06.94zm-11 1L8.5 8.5l.94-2.06 2.06-.94-2.06-.94L8.5 2.5l-.94 2.06-2.06.94zm10 10l.94 2.06.94-2.06 2.06-.94-2.06-.94-.94-2.06-.94 2.06-2.06.94z\"/><path d=\"M17.41 7.96l-1.37-1.37c-.4-.4-.92-.59-1.43-.59-.52 0-1.04.2-1.43.59L10.3 9.45l-7.72 7.72c-.78.78-.78 2.05 0 2.83L4 21.41c.39.39.9.59 1.41.59.51 0 1.02-.2 1.41-.59l7.78-7.78 2.81-2.81c.8-.78.8-2.07 0-2.86zM5.41 20L4 18.59l7.72-7.72 1.47 1.35L5.41 20z\"/>\n",
              "  </svg>\n",
              "      </button>\n",
              "      \n",
              "  <style>\n",
              "    .colab-df-container {\n",
              "      display:flex;\n",
              "      flex-wrap:wrap;\n",
              "      gap: 12px;\n",
              "    }\n",
              "\n",
              "    .colab-df-convert {\n",
              "      background-color: #E8F0FE;\n",
              "      border: none;\n",
              "      border-radius: 50%;\n",
              "      cursor: pointer;\n",
              "      display: none;\n",
              "      fill: #1967D2;\n",
              "      height: 32px;\n",
              "      padding: 0 0 0 0;\n",
              "      width: 32px;\n",
              "    }\n",
              "\n",
              "    .colab-df-convert:hover {\n",
              "      background-color: #E2EBFA;\n",
              "      box-shadow: 0px 1px 2px rgba(60, 64, 67, 0.3), 0px 1px 3px 1px rgba(60, 64, 67, 0.15);\n",
              "      fill: #174EA6;\n",
              "    }\n",
              "\n",
              "    [theme=dark] .colab-df-convert {\n",
              "      background-color: #3B4455;\n",
              "      fill: #D2E3FC;\n",
              "    }\n",
              "\n",
              "    [theme=dark] .colab-df-convert:hover {\n",
              "      background-color: #434B5C;\n",
              "      box-shadow: 0px 1px 3px 1px rgba(0, 0, 0, 0.15);\n",
              "      filter: drop-shadow(0px 1px 2px rgba(0, 0, 0, 0.3));\n",
              "      fill: #FFFFFF;\n",
              "    }\n",
              "  </style>\n",
              "\n",
              "      <script>\n",
              "        const buttonEl =\n",
              "          document.querySelector('#df-0ff224ef-5292-4f09-802b-4677fe3c8428 button.colab-df-convert');\n",
              "        buttonEl.style.display =\n",
              "          google.colab.kernel.accessAllowed ? 'block' : 'none';\n",
              "\n",
              "        async function convertToInteractive(key) {\n",
              "          const element = document.querySelector('#df-0ff224ef-5292-4f09-802b-4677fe3c8428');\n",
              "          const dataTable =\n",
              "            await google.colab.kernel.invokeFunction('convertToInteractive',\n",
              "                                                     [key], {});\n",
              "          if (!dataTable) return;\n",
              "\n",
              "          const docLinkHtml = 'Like what you see? Visit the ' +\n",
              "            '<a target=\"_blank\" href=https://colab.research.google.com/notebooks/data_table.ipynb>data table notebook</a>'\n",
              "            + ' to learn more about interactive tables.';\n",
              "          element.innerHTML = '';\n",
              "          dataTable['output_type'] = 'display_data';\n",
              "          await google.colab.output.renderOutput(dataTable, element);\n",
              "          const docLink = document.createElement('div');\n",
              "          docLink.innerHTML = docLinkHtml;\n",
              "          element.appendChild(docLink);\n",
              "        }\n",
              "      </script>\n",
              "    </div>\n",
              "  </div>\n",
              "  "
            ]
          },
          "metadata": {},
          "execution_count": 681
        }
      ]
    },
    {
      "cell_type": "code",
      "source": [
        "prediction_feature=extracted_features_b[0][0]\n",
        "prediction_feature=prediction_feature.reshape(1,-1)\n",
        "predicted_label = np.argmax((model.predict(prediction_feature) > 0.5).astype(\"int32\"))\n",
        "predicted_label"
      ],
      "metadata": {
        "colab": {
          "base_uri": "https://localhost:8080/"
        },
        "id": "CtJW75KCUslj",
        "outputId": "cbded63c-736a-47b1-e3fb-2a071d8add55"
      },
      "execution_count": null,
      "outputs": [
        {
          "output_type": "stream",
          "name": "stdout",
          "text": [
            "1/1 [==============================] - 0s 17ms/step\n"
          ]
        },
        {
          "output_type": "execute_result",
          "data": {
            "text/plain": [
              "4"
            ]
          },
          "metadata": {},
          "execution_count": 682
        }
      ]
    },
    {
      "cell_type": "code",
      "source": [
        "predicted_label = np.array(predicted_label)\n",
        "predicted_label = predicted_label.reshape(1,-1)\n",
        "labelencoder.inverse_transform(predicted_label)"
      ],
      "metadata": {
        "colab": {
          "base_uri": "https://localhost:8080/"
        },
        "id": "OsD01qfUb_XL",
        "outputId": "c14bedb2-c9e0-4a96-e40b-cf702eeb804e"
      },
      "execution_count": null,
      "outputs": [
        {
          "output_type": "stream",
          "name": "stderr",
          "text": [
            "/usr/local/lib/python3.7/dist-packages/sklearn/preprocessing/_label.py:154: DataConversionWarning: A column-vector y was passed when a 1d array was expected. Please change the shape of y to (n_samples, ), for example using ravel().\n",
            "  y = column_or_1d(y, warn=True)\n"
          ]
        },
        {
          "output_type": "execute_result",
          "data": {
            "text/plain": [
              "array(['whistle'], dtype='<U17')"
            ]
          },
          "metadata": {},
          "execution_count": 683
        }
      ]
    },
    {
      "cell_type": "code",
      "source": [
        "labelencoder.__dict__"
      ],
      "metadata": {
        "colab": {
          "base_uri": "https://localhost:8080/"
        },
        "id": "3m5UbSeMcXcP",
        "outputId": "ce766b0b-c7d0-4a64-c28a-c9d8000fd29a"
      },
      "execution_count": null,
      "outputs": [
        {
          "output_type": "execute_result",
          "data": {
            "text/plain": [
              "{'classes_': array(['allfreq', 'cetaceans_allfreq', 'click', 'volcano', 'whistle'],\n",
              "       dtype='<U17')}"
            ]
          },
          "metadata": {},
          "execution_count": 684
        }
      ]
    },
    {
      "cell_type": "code",
      "source": [
        "dd = np.round_(model.predict(prediction_feature), decimals = 3)\n",
        "dd"
      ],
      "metadata": {
        "colab": {
          "base_uri": "https://localhost:8080/"
        },
        "id": "lZDed_dJZTsf",
        "outputId": "568bebf5-f0a1-4d80-f74f-7abcd63e192d"
      },
      "execution_count": null,
      "outputs": [
        {
          "output_type": "stream",
          "name": "stdout",
          "text": [
            "1/1 [==============================] - 0s 25ms/step\n"
          ]
        },
        {
          "output_type": "execute_result",
          "data": {
            "text/plain": [
              "array([[0.012, 0.169, 0.002, 0.002, 0.814]], dtype=float32)"
            ]
          },
          "metadata": {},
          "execution_count": 685
        }
      ]
    },
    {
      "cell_type": "code",
      "source": [
        "metadata['label'].unique()"
      ],
      "metadata": {
        "colab": {
          "base_uri": "https://localhost:8080/"
        },
        "id": "SxcmztXwVXZg",
        "outputId": "d798172e-eb2d-4b07-fe19-51f3178a1182"
      },
      "execution_count": null,
      "outputs": [
        {
          "output_type": "execute_result",
          "data": {
            "text/plain": [
              "array(['click', 'whistle', 'cetaceans_allfreq', 'volcano', 'allfreq'],\n",
              "      dtype=object)"
            ]
          },
          "metadata": {},
          "execution_count": 686
        }
      ]
    },
    {
      "cell_type": "markdown",
      "source": [
        "# predict cofusion matrix"
      ],
      "metadata": {
        "id": "QgIIfjHIfoi-"
      }
    },
    {
      "cell_type": "code",
      "source": [
        "# varios datos\n",
        "ypred = model.predict(X_test)\n",
        "ypred.shape, y_test.shape"
      ],
      "metadata": {
        "colab": {
          "base_uri": "https://localhost:8080/"
        },
        "id": "R1-1QWNHeW5S",
        "outputId": "84156b7d-ad60-430c-b389-449cbf4e4016"
      },
      "execution_count": null,
      "outputs": [
        {
          "output_type": "stream",
          "name": "stdout",
          "text": [
            "1/1 [==============================] - 0s 19ms/step\n"
          ]
        },
        {
          "output_type": "execute_result",
          "data": {
            "text/plain": [
              "((2, 3), (2, 3))"
            ]
          },
          "metadata": {},
          "execution_count": 68
        }
      ]
    },
    {
      "cell_type": "code",
      "source": [
        "y_pred = np.round_(ypred, decimals = 0)\n",
        "y_pred"
      ],
      "metadata": {
        "colab": {
          "base_uri": "https://localhost:8080/"
        },
        "id": "9hrMv5ABg_XX",
        "outputId": "6142d180-7eea-4dbe-958c-094141934eb1"
      },
      "execution_count": null,
      "outputs": [
        {
          "output_type": "execute_result",
          "data": {
            "text/plain": [
              "array([[0., 1., 0.],\n",
              "       [0., 0., 1.]], dtype=float32)"
            ]
          },
          "metadata": {},
          "execution_count": 69
        }
      ]
    },
    {
      "cell_type": "code",
      "source": [
        "y_test"
      ],
      "metadata": {
        "colab": {
          "base_uri": "https://localhost:8080/"
        },
        "id": "EkGDT85Uhcbs",
        "outputId": "631b4b4c-bb48-40cc-89e8-679f3391e4a4"
      },
      "execution_count": null,
      "outputs": [
        {
          "output_type": "execute_result",
          "data": {
            "text/plain": [
              "array([[0., 1., 0.],\n",
              "       [0., 1., 0.]], dtype=float32)"
            ]
          },
          "metadata": {},
          "execution_count": 70
        }
      ]
    },
    {
      "cell_type": "code",
      "source": [
        "y_pred[0]"
      ],
      "metadata": {
        "colab": {
          "base_uri": "https://localhost:8080/"
        },
        "id": "36lh3Ftmhp1_",
        "outputId": "a8fe439c-6b1d-4f4f-8189-65713a2b1b45"
      },
      "execution_count": null,
      "outputs": [
        {
          "output_type": "execute_result",
          "data": {
            "text/plain": [
              "array([0., 1., 0.], dtype=float32)"
            ]
          },
          "metadata": {},
          "execution_count": 71
        }
      ]
    },
    {
      "cell_type": "code",
      "source": [
        "import numpy as np\n",
        "from sklearn.metrics import multilabel_confusion_matrix\n",
        "y_true = y_test\n",
        "y_pred = y_pred\n",
        "confusion_matrix = multilabel_confusion_matrix(y_true, y_pred)\n",
        "confusion_matrix"
      ],
      "metadata": {
        "colab": {
          "base_uri": "https://localhost:8080/"
        },
        "id": "vSXOCTQagt0Z",
        "outputId": "03e91361-a2be-4020-b700-bc3a1dbb4205"
      },
      "execution_count": null,
      "outputs": [
        {
          "output_type": "execute_result",
          "data": {
            "text/plain": [
              "array([[[2, 0],\n",
              "        [0, 0]],\n",
              "\n",
              "       [[0, 0],\n",
              "        [1, 1]],\n",
              "\n",
              "       [[1, 1],\n",
              "        [0, 0]]])"
            ]
          },
          "metadata": {},
          "execution_count": 72
        }
      ]
    },
    {
      "cell_type": "code",
      "source": [
        "y_p = y_pred.argmax(axis=1)\n",
        "y_t = y_test.argmax(axis=1)"
      ],
      "metadata": {
        "id": "6TW96W6ajQuM"
      },
      "execution_count": null,
      "outputs": []
    },
    {
      "cell_type": "code",
      "source": [
        "labels = ['allfreq', 'cetaceans_allfreq', 'click', 'volcano', 'whistle']\n",
        "labels"
      ],
      "metadata": {
        "colab": {
          "base_uri": "https://localhost:8080/"
        },
        "id": "tGbKAGMol428",
        "outputId": "59b2ce37-acb7-4bbd-c369-bf9ddcbb1cac"
      },
      "execution_count": null,
      "outputs": [
        {
          "output_type": "execute_result",
          "data": {
            "text/plain": [
              "['allfreq', 'cetaceans_allfreq', 'click', 'volcano', 'whistle']"
            ]
          },
          "metadata": {},
          "execution_count": 74
        }
      ]
    },
    {
      "cell_type": "code",
      "source": [
        "y_true = y_t\n",
        "y_pred = y_p"
      ],
      "metadata": {
        "id": "6KGGtg9Me6Ky"
      },
      "execution_count": null,
      "outputs": []
    },
    {
      "cell_type": "code",
      "source": [
        "'''\n",
        "# graphic 0 with sklearn ConfusionMatrixDsplay and plt\n",
        "import matplotlib.pyplot as plt\n",
        "import numpy as np\n",
        "from sklearn import metrics\n",
        "\n",
        "\n",
        "\n",
        "confusion_matrix = metrics.confusion_matrix(y_true, y_pred)\n",
        "\n",
        "cm_display = metrics.ConfusionMatrixDisplay(confusion_matrix = confusion_matrix, display_labels =labels)\n",
        "cm_display.plot()\n",
        "\n",
        "plt.show()\n",
        "'''"
      ],
      "metadata": {
        "colab": {
          "base_uri": "https://localhost:8080/",
          "height": 70
        },
        "id": "NIg-DC0QjrUi",
        "outputId": "20a3ad02-c147-413c-ed45-1f63dffd262a"
      },
      "execution_count": 3,
      "outputs": [
        {
          "output_type": "execute_result",
          "data": {
            "text/plain": [
              "'\\n# graphic 0 with sklearn ConfusionMatrixDsplay and plt\\nimport matplotlib.pyplot as plt\\nimport numpy as np\\nfrom sklearn import metrics\\n\\n\\n\\nconfusion_matrix = metrics.confusion_matrix(y_true, y_pred)\\n\\ncm_display = metrics.ConfusionMatrixDisplay(confusion_matrix = confusion_matrix, display_labels =labels)\\ncm_display.plot()\\n\\nplt.show()\\n'"
            ],
            "application/vnd.google.colaboratory.intrinsic+json": {
              "type": "string"
            }
          },
          "metadata": {},
          "execution_count": 3
        }
      ]
    },
    {
      "cell_type": "code",
      "source": [
        "'''\n",
        "# graphic 1 with pretty_confusion_matrix\n",
        "!pip install pretty_confusion_matrix\n",
        "from pretty_confusion_matrix import pp_matrix_from_data\n",
        "\n",
        "cmap = 'PuRd'\n",
        "pp_matrix_from_data(y_true, y_pred)\n",
        "'''"
      ],
      "metadata": {
        "colab": {
          "base_uri": "https://localhost:8080/",
          "height": 53
        },
        "id": "P0mQHN23frqy",
        "outputId": "18c8833b-e5eb-43a3-fe0f-a5009f363d78"
      },
      "execution_count": 4,
      "outputs": [
        {
          "output_type": "execute_result",
          "data": {
            "text/plain": [
              "\"\\n# graphic 1 with pretty_confusion_matrix\\n!pip install pretty_confusion_matrix\\nfrom pretty_confusion_matrix import pp_matrix_from_data\\n\\ncmap = 'PuRd'\\npp_matrix_from_data(y_true, y_pred)\\n\""
            ],
            "application/vnd.google.colaboratory.intrinsic+json": {
              "type": "string"
            }
          },
          "metadata": {},
          "execution_count": 4
        }
      ]
    },
    {
      "cell_type": "code",
      "source": [
        "# clases multiples\n",
        "import matplotlib.pyplot as plt\n",
        "import numpy as np\n",
        "from sklearn import metrics as mt\n",
        "\n",
        "  # genera la matriz en texto\n",
        "print(mt.confusion_matrix(y_true, y_pred))\n",
        "\n",
        "  # muestra los diversos valores de esta, ''cualquiera cerca a uno mejor''\n",
        "      #print accuracy of model\n",
        "print('Accuracy: ',mt.accuracy_score(y_true, y_pred))\n",
        "      #print precision value of model\n",
        "print('Precision: ',mt.precision_score(y_true, y_pred,average='micro'))\n",
        "      #print recall value of model\n",
        "print('Recall: ',mt.recall_score(y_true, y_pred,average='micro')) # recall no tiene que ser mayor a accuracy y precision\n",
        "      # print de f1-score\n",
        "print('F1: ',mt.f1_score(y_true,y_pred,average='micro'))\n",
        "\n",
        "# plot\n",
        "confusion_matrix = mt.confusion_matrix(y_true, y_pred)\n",
        "cm_display = mt.ConfusionMatrixDisplay(confusion_matrix = confusion_matrix, display_labels =labels) # display_labels = None\n",
        "cm_display.plot()\n",
        "fig = cm_display.ax_.get_figure() \n",
        "fig.set_figwidth(10)\n",
        "fig.set_figheight(10) \n",
        "plt.show()"
      ],
      "metadata": {
        "id": "n5zoU4AJkcG1"
      },
      "execution_count": null,
      "outputs": []
    },
    {
      "cell_type": "code",
      "source": [
        "test_accuracy=model.evaluate(X_test,y_test,verbose=0)\n",
        "print(test_accuracy[1])"
      ],
      "metadata": {
        "colab": {
          "base_uri": "https://localhost:8080/"
        },
        "id": "E_6AOPcmnh46",
        "outputId": "8928657c-0f09-4bcc-eeda-72551c11c847"
      },
      "execution_count": null,
      "outputs": [
        {
          "output_type": "stream",
          "name": "stdout",
          "text": [
            "0.5\n"
          ]
        }
      ]
    },
    {
      "cell_type": "markdown",
      "source": [
        "# revisar"
      ],
      "metadata": {
        "id": "npWw7WQgeSIE"
      }
    },
    {
      "cell_type": "markdown",
      "source": [
        "# evaluacion"
      ],
      "metadata": {
        "id": "LBvPc8ZYWAuR"
      }
    },
    {
      "cell_type": "code",
      "source": [
        "!pip install sed_eval"
      ],
      "metadata": {
        "id": "3rqo2CLnWAeg"
      },
      "execution_count": null,
      "outputs": []
    },
    {
      "cell_type": "code",
      "source": [
        "from sed_eval.sound_event import SegmentBaseMetrics\n",
        "base = SegmentBasedMetrics.results()"
      ],
      "metadata": {
        "id": "9nHg3ANJJX58"
      },
      "execution_count": null,
      "outputs": []
    },
    {
      "cell_type": "code",
      "source": [
        "import sed_eval"
      ],
      "metadata": {
        "id": "qlWU9cNj2SiU"
      },
      "execution_count": null,
      "outputs": []
    },
    {
      "cell_type": "code",
      "source": [
        "sed_eval.sound_event.SegmentBasedMetrics.evaluate"
      ],
      "metadata": {
        "colab": {
          "base_uri": "https://localhost:8080/"
        },
        "id": "4LfsjAPDYVAx",
        "outputId": "37f5e612-b2bf-4f9b-aa60-fba33896d81c"
      },
      "execution_count": null,
      "outputs": [
        {
          "output_type": "execute_result",
          "data": {
            "text/plain": [
              "<function sed_eval.sound_event.SegmentBasedMetrics.evaluate(self, reference_event_list, estimated_event_list, evaluated_length_seconds=None)>"
            ]
          },
          "metadata": {},
          "execution_count": 83
        }
      ]
    },
    {
      "cell_type": "code",
      "source": [
        "# Create metrics classes, define parameters\n",
        "segment_based_metrics = sed_eval.sound_event.SegmentBasedMetrics(\n",
        "    event_label_list=event_labels,\n",
        "    time_resolution=1.0\n",
        ")\n",
        "\n",
        "event_based_metrics = sed_eval.sound_event.EventBasedMetrics(\n",
        "    event_label_list=event_labels,\n",
        "    t_collar=0.250\n",
        ")\n",
        "\n",
        "# Go through files\n",
        "for file_pair in data:\n",
        "    segment_based_metrics.evaluate(\n",
        "        reference_event_list=file_pair['reference_event_list'],\n",
        "        estimated_event_list=file_pair['estimated_event_list']\n",
        "    )\n",
        "\n",
        "    event_based_metrics.evaluate(\n",
        "        reference_event_list=file_pair['reference_event_list'],\n",
        "        estimated_event_list=file_pair['estimated_event_list']\n",
        "    )\n",
        "\n",
        "# Get only certain metrics\n",
        "overall_segment_based_metrics = segment_based_metrics.results_overall_metrics()\n",
        "print(\"Accuracy:\", overall_segment_based_metrics['accuracy']['accuracy'])\n",
        "\n",
        "# Or print all metrics as reports\n",
        "print(segment_based_metrics)\n",
        "print(event_based_metrics)"
      ],
      "metadata": {
        "colab": {
          "base_uri": "https://localhost:8080/",
          "height": 235
        },
        "id": "gsTxvug_XsXv",
        "outputId": "de91a4ac-d8bc-4ff2-81ef-fa62c9f59218"
      },
      "execution_count": null,
      "outputs": [
        {
          "output_type": "error",
          "ename": "NameError",
          "evalue": "ignored",
          "traceback": [
            "\u001b[0;31m---------------------------------------------------------------------------\u001b[0m",
            "\u001b[0;31mNameError\u001b[0m                                 Traceback (most recent call last)",
            "\u001b[0;32m<ipython-input-84-0b3579d41661>\u001b[0m in \u001b[0;36m<module>\u001b[0;34m\u001b[0m\n\u001b[1;32m      1\u001b[0m \u001b[0;31m# Create metrics classes, define parameters\u001b[0m\u001b[0;34m\u001b[0m\u001b[0;34m\u001b[0m\u001b[0;34m\u001b[0m\u001b[0m\n\u001b[1;32m      2\u001b[0m segment_based_metrics = sed_eval.sound_event.SegmentBasedMetrics(\n\u001b[0;32m----> 3\u001b[0;31m     \u001b[0mevent_label_list\u001b[0m\u001b[0;34m=\u001b[0m\u001b[0mevent_labels\u001b[0m\u001b[0;34m,\u001b[0m\u001b[0;34m\u001b[0m\u001b[0;34m\u001b[0m\u001b[0m\n\u001b[0m\u001b[1;32m      4\u001b[0m     \u001b[0mtime_resolution\u001b[0m\u001b[0;34m=\u001b[0m\u001b[0;36m1.0\u001b[0m\u001b[0;34m\u001b[0m\u001b[0;34m\u001b[0m\u001b[0m\n\u001b[1;32m      5\u001b[0m )\n",
            "\u001b[0;31mNameError\u001b[0m: name 'event_labels' is not defined"
          ]
        }
      ]
    },
    {
      "cell_type": "markdown",
      "source": [
        "#segundo modelo"
      ],
      "metadata": {
        "id": "ymDkvZ8D8IvJ"
      }
    },
    {
      "cell_type": "code",
      "source": [
        "X_train[0].shape"
      ],
      "metadata": {
        "colab": {
          "base_uri": "https://localhost:8080/"
        },
        "id": "MxQK1jjB9VRJ",
        "outputId": "589614cc-2bb8-4892-ab3a-383f47a9a259"
      },
      "execution_count": null,
      "outputs": [
        {
          "output_type": "execute_result",
          "data": {
            "text/plain": [
              "(40,)"
            ]
          },
          "metadata": {},
          "execution_count": 127
        }
      ]
    },
    {
      "cell_type": "code",
      "source": [
        "y_train"
      ],
      "metadata": {
        "colab": {
          "base_uri": "https://localhost:8080/"
        },
        "id": "ZqrflJDsCoBy",
        "outputId": "2b7df7d3-b620-4720-d345-25070ef269b4"
      },
      "execution_count": null,
      "outputs": [
        {
          "output_type": "execute_result",
          "data": {
            "text/plain": [
              "array([[0., 0., 0., 0., 1.],\n",
              "       [0., 0., 0., 0., 1.],\n",
              "       [0., 0., 0., 0., 1.],\n",
              "       ...,\n",
              "       [0., 0., 1., 0., 0.],\n",
              "       [0., 0., 0., 0., 1.],\n",
              "       [0., 0., 0., 0., 1.]], dtype=float32)"
            ]
          },
          "metadata": {},
          "execution_count": 124
        }
      ]
    },
    {
      "cell_type": "code",
      "source": [
        "model.add(Dense(100,input_shape=(40,)))"
      ],
      "metadata": {
        "id": "w0FizpuR_9If"
      },
      "execution_count": null,
      "outputs": []
    },
    {
      "cell_type": "code",
      "source": [
        "#eeeeeeeeeeeeeeeeeeeeeeeeeeeeee\n",
        "model=Sequential()\n",
        "###first layer\n",
        "model.add(Dense(100,input_shape=(40,)))\n",
        "model.add(Activation('relu'))\n",
        "model.add(Dropout(0.5))\n",
        "###second layer\n",
        "model.add(Dense(200))\n",
        "model.add(Activation('relu'))\n",
        "model.add(Dropout(0.5))\n",
        "###third layer\n",
        "model.add(Dense(100))\n",
        "model.add(Activation('relu'))\n",
        "model.add(Dropout(0.5))\n",
        "\n",
        "###final layer\n",
        "model.add(Dense(num_labels))\n",
        "model.add(Activation('softmax'))"
      ],
      "metadata": {
        "id": "3j49J89YBDTJ"
      },
      "execution_count": null,
      "outputs": []
    },
    {
      "cell_type": "code",
      "source": [
        "from tensorflow.python.ops.nn_ops import dropout\n",
        "# Define the model\n",
        "model = tf.keras.models.Sequential([\n",
        "\n",
        "  tf.keras.layers.Dense(100, input_shape=(40,)),\n",
        "  tf.keras.layers.Dense(200, activation=tf.nn.relu),\n",
        "#  tf.keras.layers.Dropout(.2, input_shape=(2,)),\n",
        "  tf.keras.layers.Dense(100, activation=tf.nn.relu),\n",
        "  tf.keras.layers.Dense(5, activation=tf.nn.softmax)\n",
        "])\n",
        "\n",
        "# Compile the model\n",
        "model.compile(optimizer=tf.optimizers.Adam(),\n",
        "              loss='categorical_crossentropy',\n",
        "              metrics=['accuracy'])"
      ],
      "metadata": {
        "id": "oznsicw_9h2r"
      },
      "execution_count": null,
      "outputs": []
    },
    {
      "cell_type": "code",
      "source": [
        "class myCallback(tf.keras.callbacks.Callback):\n",
        "  def on_epoch_end(self, epoch, logs={}):\n",
        "    '''\n",
        "    Halts the training after reaching 60 percent accuracy\n",
        "\n",
        "    Args:\n",
        "      epoch (integer) - index of epoch (required but unused in the function definition below)\n",
        "      logs (dict) - metric results from the training epoch\n",
        "    '''\n",
        "\n",
        "    # Check accuracy\n",
        "    if(logs.get('loss') < 0.4 ):\n",
        "\n",
        "      # Stop if threshold is met\n",
        "      print(\"\\nLoss is lower than 0.4 so cancelling training!\")\n",
        "      self.model.stop_training = True\n",
        "\n",
        "# Instantiate class\n",
        "callbacks = myCallback()"
      ],
      "metadata": {
        "id": "BnHWme3e-c0k"
      },
      "execution_count": null,
      "outputs": []
    },
    {
      "cell_type": "code",
      "source": [
        "# Train the model with a callback\n",
        "num_epochs = 500\n",
        "num_batch_size = 32\n",
        "model.fit(X_train, y_train, batch_size=num_batch_size, epochs=num_epochs, validation_data=(X_test, y_test), verbose=1)"
      ],
      "metadata": {
        "id": "FZDEaHUd-f8N"
      },
      "execution_count": null,
      "outputs": []
    },
    {
      "cell_type": "code",
      "source": [
        "model.summary()"
      ],
      "metadata": {
        "id": "evfWUNQW8kl4"
      },
      "execution_count": null,
      "outputs": []
    },
    {
      "cell_type": "code",
      "source": [
        "from tensorflow.keras.optimizers import RMSprop\n",
        "\n",
        "model.compile(loss='binary_crossentropy',\n",
        "              optimizer=RMSprop(learning_rate=0.001),\n",
        "              metrics=['accuracy'])"
      ],
      "metadata": {
        "id": "SHja2BHz83XX"
      },
      "execution_count": null,
      "outputs": []
    },
    {
      "cell_type": "code",
      "source": [
        "from tensorflow.keras.preprocessing.image import ImageDataGenerator\n",
        "\n",
        "# All images will be rescaled by 1./255\n",
        "train_datagen = ImageDataGenerator(rescale=1/255)\n",
        "\n",
        "# Flow training images in batches of 128 using train_datagen generator\n",
        "train_generator = train_datagen.flow_from_directory(\n",
        "        './horse-or-human/',  # This is the source directory for training images ## should be a relative path to the directory containing the data\n",
        "        target_size=(300, 300),  # All images will be resized to 300x300 ## set this equal to the resolution of each image (excluding the color dimension)\n",
        "        batch_size=128, # evita el ahogo de memoria al pasar los datos por lotes ##     # - batch_size: number of images the generator yields when asked for a next batch. Set this to 10.\n",
        "\n",
        "        # Since we use binary_crossentropy loss, we need binary labels\n",
        "        class_mode='binary') # porque usamos un clasificaci'on binaria? ## How the labels are represented. Should be one of \"binary\", \"categorical\" or \"sparse\".\n"
      ],
      "metadata": {
        "id": "Vky7dgFf86Gf"
      },
      "execution_count": null,
      "outputs": []
    },
    {
      "cell_type": "code",
      "source": [
        "history = model.fit(\n",
        "      train_generator,\n",
        "      steps_per_epoch=8,  # evita errores con quedarse sin ram, al pasar los datos por lotes de 8 partes \n",
        "      epochs=15,\n",
        "      verbose=1)"
      ],
      "metadata": {
        "id": "3t3QgfMx88_Q"
      },
      "execution_count": null,
      "outputs": []
    },
    {
      "cell_type": "code",
      "source": [
        "model.fit(X_train, y_train, batch_size=num_batch_size, epochs=num_epochs, validation_data=(X_test, y_test), callbacks=[checkpointer], verbose=1)\n"
      ],
      "metadata": {
        "id": "gtEdimF58g-F"
      },
      "execution_count": null,
      "outputs": []
    },
    {
      "cell_type": "code",
      "source": [],
      "metadata": {
        "id": "fk9bnS0q5lJe"
      },
      "execution_count": null,
      "outputs": []
    }
  ]
}